{
  "metadata": {
    "kernelspec": {
      "language": "python",
      "display_name": "Python 3",
      "name": "python3"
    },
    "language_info": {
      "pygments_lexer": "ipython3",
      "nbconvert_exporter": "python",
      "version": "3.6.4",
      "file_extension": ".py",
      "codemirror_mode": {
        "name": "ipython",
        "version": 3
      },
      "name": "python",
      "mimetype": "text/x-python"
    },
    "colab": {
      "provenance": []
    }
  },
  "nbformat_minor": 0,
  "nbformat": 4,
  "cells": [
    {
      "source": [
        "\n",
        "# IMPORTANT: RUN THIS CELL IN ORDER TO IMPORT YOUR KAGGLE DATA SOURCES\n",
        "# TO THE CORRECT LOCATION (/kaggle/input) IN YOUR NOTEBOOK,\n",
        "# THEN FEEL FREE TO DELETE THIS CELL.\n",
        "# NOTE: THIS NOTEBOOK ENVIRONMENT DIFFERS FROM KAGGLE'S PYTHON\n",
        "# ENVIRONMENT SO THERE MAY BE MISSING LIBRARIES USED BY YOUR\n",
        "# NOTEBOOK.\n",
        "\n",
        "import os #This module provides a portable way of using operating system dependent functionality. Like open() for file reading and writing, for paths manipulation,\n",
        "import sys #interacts with pyrhin interperter for accessing command line arguments\n",
        "from tempfile import NamedTemporaryFile #This module creates temporary files and directories. It works on all supported platforms. All the user-callable functions and constructors take additional arguments which allow direct control over the location and name of temporary files and directories. creates and returns temp file. recovery, and tracking changes\n",
        "from urllib.request import urlopen #opens urls, for HTTPs control such as cookies and authentication and proxies. retrieves data from the internet.\n",
        "from urllib.parse import unquote, urlparse #This module defines a standard interface to break Uniform Resource Locator (URL) strings up in components (addressing scheme, network location, path etc.), to combine the components back into a URL string\n",
        "from urllib.error import HTTPError #defines the exception classes for exceptions raised by urllib.request. handles http errors\n",
        "from zipfile import ZipFile #This module provides tools to create, read, write, append, and list a ZIP file.\n",
        "import tarfile #can create, extract, and manipulate TAR archives.\n",
        "import shutil #this allows you to access the functionality provided by the shutil module provided by the module to perform tasks such as copying, moving, renaming, and deleting files and directories, as well as handling archives, managing file permissions, and working with temporary files\n",
        "\n",
        "CHUNK_SIZE = 40960 #determine the numbers of row to read from the requested file\n",
        "DATA_SOURCE_MAPPING = 'https://drive.google.com/drive/folders/1D9C77Pp60pCy2cg4N_tJpObFigOyPNTO'\n",
        "#opens kaggle\n",
        "\n",
        "GDRIVE_INPUT_PATH='/gdrive/MyDrive/ColabNotebooks/KaggleDataset' #opens kaggle input section for the dataset\n",
        "GDRIVE_WORKING_PATH='/gdrive/MyDrive/ColabNotebooks/KaggleDataset/Dataset' #is a default starting directory that contains the notebook and all submission files\n",
        "Gdrive_SYMLINK='gdrive' #to point to a file or directory by specifying a path\n",
        "\n",
        "!umount /kaggle/input/ 2> /dev/null #saves the errors\n",
        "shutil.rmtree('/gdrive/MyDrive/ColabNotebooks/KaggleDataset', ignore_errors=True) #Delete an entire directory tree; path must point to a directory. If ignore_errors is true, errors resulting from failed removals will be ignored;\n",
        "os.makedirs(GDRIVE_INPUT_PATH, 0o777, exist_ok=True) #creates a directory if it's missing\n",
        "os.makedirs(GDRIVE_WORKING_PATH, 0o777, exist_ok=True) #same\n",
        "\n",
        "try:\n",
        "  os.symlink(GDRIVE_INPUT_PATH, os.path.join(\"..\", 'KaggleDataset'), target_is_directory=True)\n",
        "except FileExistsError:\n",
        "  pass\n",
        "try:\n",
        "  os.symlink(GDRIVE_WORKING_PATH, os.path.join(\"..\", 'Dataset'), target_is_directory=True)\n",
        "except FileExistsError:\n",
        "  pass\n",
        "\n",
        "for data_source_mapping in DATA_SOURCE_MAPPING.split(','): #fetches images dataset from the input directory and uncompress the zip compression for \"plant-dataset\"\n",
        "    directory, download_url_encoded = data_source_mapping.split(':')\n",
        "    download_url = unquote(download_url_encoded)\n",
        "    filename = urlparse(download_url).path\n",
        "    destination_path = os.path.join(GDRIVE_INPUT_PATH, directory)\n",
        "    try:\n",
        "        with urlopen(download_url) as fileres, NamedTemporaryFile() as tfile:\n",
        "            total_length = fileres.headers['content-length']\n",
        "            print(f'Downloading {directory}, {total_length} bytes compressed')\n",
        "            dl = 0\n",
        "            data = fileres.read(CHUNK_SIZE)\n",
        "            while len(data) > 0:\n",
        "                dl += len(data)\n",
        "                tfile.write(data)\n",
        "                done = int(50 * dl / int(total_length))\n",
        "                sys.stdout.write(f\"\\r[{'=' * done}{' ' * (50-done)}] {dl} bytes downloaded\")\n",
        "                sys.stdout.flush()\n",
        "                data = fileres.read(CHUNK_SIZE)\n",
        "            if filename.endswith('.zip'):\n",
        "              with ZipFile(tfile) as zfile:\n",
        "                zfile.extractall(destination_path)\n",
        "            else:\n",
        "              with tarfile.open(tfile.name) as tarfile:\n",
        "                tarfile.extractall(destination_path)\n",
        "            print(f'\\nDownloaded and uncompressed: {directory}')\n",
        "    except HTTPError as e:\n",
        "        print(f'Failed to load (likely expired) {download_url} to path {destination_path}')\n",
        "        continue\n",
        "    except OSError as e:\n",
        "        print(f'Failed to load {download_url} to path {destination_path}')\n",
        "        continue"
      ],
      "metadata": {
        "id": "xB7lqQwkGswI",
        "outputId": "47cd3105-0b24-4e4a-c0af-6fa8fe6c8739",
        "colab": {
          "base_uri": "https://localhost:8080/",
          "height": 362
        }
      },
      "cell_type": "code",
      "outputs": [
        {
          "output_type": "error",
          "ename": "ValueError",
          "evalue": "unknown url type: '//drive.google.com/drive/folders/1D9C77Pp60pCy2cg4N_tJpObFigOyPNTO'",
          "traceback": [
            "\u001b[0;31m---------------------------------------------------------------------------\u001b[0m",
            "\u001b[0;31mValueError\u001b[0m                                Traceback (most recent call last)",
            "\u001b[0;32m<ipython-input-27-ce65b3197d8b>\u001b[0m in \u001b[0;36m<cell line: 40>\u001b[0;34m()\u001b[0m\n\u001b[1;32m     44\u001b[0m     \u001b[0mdestination_path\u001b[0m \u001b[0;34m=\u001b[0m \u001b[0mos\u001b[0m\u001b[0;34m.\u001b[0m\u001b[0mpath\u001b[0m\u001b[0;34m.\u001b[0m\u001b[0mjoin\u001b[0m\u001b[0;34m(\u001b[0m\u001b[0mGDRIVE_INPUT_PATH\u001b[0m\u001b[0;34m,\u001b[0m \u001b[0mdirectory\u001b[0m\u001b[0;34m)\u001b[0m\u001b[0;34m\u001b[0m\u001b[0;34m\u001b[0m\u001b[0m\n\u001b[1;32m     45\u001b[0m     \u001b[0;32mtry\u001b[0m\u001b[0;34m:\u001b[0m\u001b[0;34m\u001b[0m\u001b[0;34m\u001b[0m\u001b[0m\n\u001b[0;32m---> 46\u001b[0;31m         \u001b[0;32mwith\u001b[0m \u001b[0murlopen\u001b[0m\u001b[0;34m(\u001b[0m\u001b[0mdownload_url\u001b[0m\u001b[0;34m)\u001b[0m \u001b[0;32mas\u001b[0m \u001b[0mfileres\u001b[0m\u001b[0;34m,\u001b[0m \u001b[0mNamedTemporaryFile\u001b[0m\u001b[0;34m(\u001b[0m\u001b[0;34m)\u001b[0m \u001b[0;32mas\u001b[0m \u001b[0mtfile\u001b[0m\u001b[0;34m:\u001b[0m\u001b[0;34m\u001b[0m\u001b[0;34m\u001b[0m\u001b[0m\n\u001b[0m\u001b[1;32m     47\u001b[0m             \u001b[0mtotal_length\u001b[0m \u001b[0;34m=\u001b[0m \u001b[0mfileres\u001b[0m\u001b[0;34m.\u001b[0m\u001b[0mheaders\u001b[0m\u001b[0;34m[\u001b[0m\u001b[0;34m'content-length'\u001b[0m\u001b[0;34m]\u001b[0m\u001b[0;34m\u001b[0m\u001b[0;34m\u001b[0m\u001b[0m\n\u001b[1;32m     48\u001b[0m             \u001b[0mprint\u001b[0m\u001b[0;34m(\u001b[0m\u001b[0;34mf'Downloading {directory}, {total_length} bytes compressed'\u001b[0m\u001b[0;34m)\u001b[0m\u001b[0;34m\u001b[0m\u001b[0;34m\u001b[0m\u001b[0m\n",
            "\u001b[0;32m/usr/lib/python3.10/urllib/request.py\u001b[0m in \u001b[0;36murlopen\u001b[0;34m(url, data, timeout, cafile, capath, cadefault, context)\u001b[0m\n\u001b[1;32m    214\u001b[0m     \u001b[0;32melse\u001b[0m\u001b[0;34m:\u001b[0m\u001b[0;34m\u001b[0m\u001b[0;34m\u001b[0m\u001b[0m\n\u001b[1;32m    215\u001b[0m         \u001b[0mopener\u001b[0m \u001b[0;34m=\u001b[0m \u001b[0m_opener\u001b[0m\u001b[0;34m\u001b[0m\u001b[0;34m\u001b[0m\u001b[0m\n\u001b[0;32m--> 216\u001b[0;31m     \u001b[0;32mreturn\u001b[0m \u001b[0mopener\u001b[0m\u001b[0;34m.\u001b[0m\u001b[0mopen\u001b[0m\u001b[0;34m(\u001b[0m\u001b[0murl\u001b[0m\u001b[0;34m,\u001b[0m \u001b[0mdata\u001b[0m\u001b[0;34m,\u001b[0m \u001b[0mtimeout\u001b[0m\u001b[0;34m)\u001b[0m\u001b[0;34m\u001b[0m\u001b[0;34m\u001b[0m\u001b[0m\n\u001b[0m\u001b[1;32m    217\u001b[0m \u001b[0;34m\u001b[0m\u001b[0m\n\u001b[1;32m    218\u001b[0m \u001b[0;32mdef\u001b[0m \u001b[0minstall_opener\u001b[0m\u001b[0;34m(\u001b[0m\u001b[0mopener\u001b[0m\u001b[0;34m)\u001b[0m\u001b[0;34m:\u001b[0m\u001b[0;34m\u001b[0m\u001b[0;34m\u001b[0m\u001b[0m\n",
            "\u001b[0;32m/usr/lib/python3.10/urllib/request.py\u001b[0m in \u001b[0;36mopen\u001b[0;34m(self, fullurl, data, timeout)\u001b[0m\n\u001b[1;32m    501\u001b[0m         \u001b[0;31m# accept a URL or a Request object\u001b[0m\u001b[0;34m\u001b[0m\u001b[0;34m\u001b[0m\u001b[0m\n\u001b[1;32m    502\u001b[0m         \u001b[0;32mif\u001b[0m \u001b[0misinstance\u001b[0m\u001b[0;34m(\u001b[0m\u001b[0mfullurl\u001b[0m\u001b[0;34m,\u001b[0m \u001b[0mstr\u001b[0m\u001b[0;34m)\u001b[0m\u001b[0;34m:\u001b[0m\u001b[0;34m\u001b[0m\u001b[0;34m\u001b[0m\u001b[0m\n\u001b[0;32m--> 503\u001b[0;31m             \u001b[0mreq\u001b[0m \u001b[0;34m=\u001b[0m \u001b[0mRequest\u001b[0m\u001b[0;34m(\u001b[0m\u001b[0mfullurl\u001b[0m\u001b[0;34m,\u001b[0m \u001b[0mdata\u001b[0m\u001b[0;34m)\u001b[0m\u001b[0;34m\u001b[0m\u001b[0;34m\u001b[0m\u001b[0m\n\u001b[0m\u001b[1;32m    504\u001b[0m         \u001b[0;32melse\u001b[0m\u001b[0;34m:\u001b[0m\u001b[0;34m\u001b[0m\u001b[0;34m\u001b[0m\u001b[0m\n\u001b[1;32m    505\u001b[0m             \u001b[0mreq\u001b[0m \u001b[0;34m=\u001b[0m \u001b[0mfullurl\u001b[0m\u001b[0;34m\u001b[0m\u001b[0;34m\u001b[0m\u001b[0m\n",
            "\u001b[0;32m/usr/lib/python3.10/urllib/request.py\u001b[0m in \u001b[0;36m__init__\u001b[0;34m(self, url, data, headers, origin_req_host, unverifiable, method)\u001b[0m\n\u001b[1;32m    320\u001b[0m                  \u001b[0morigin_req_host\u001b[0m\u001b[0;34m=\u001b[0m\u001b[0;32mNone\u001b[0m\u001b[0;34m,\u001b[0m \u001b[0munverifiable\u001b[0m\u001b[0;34m=\u001b[0m\u001b[0;32mFalse\u001b[0m\u001b[0;34m,\u001b[0m\u001b[0;34m\u001b[0m\u001b[0;34m\u001b[0m\u001b[0m\n\u001b[1;32m    321\u001b[0m                  method=None):\n\u001b[0;32m--> 322\u001b[0;31m         \u001b[0mself\u001b[0m\u001b[0;34m.\u001b[0m\u001b[0mfull_url\u001b[0m \u001b[0;34m=\u001b[0m \u001b[0murl\u001b[0m\u001b[0;34m\u001b[0m\u001b[0;34m\u001b[0m\u001b[0m\n\u001b[0m\u001b[1;32m    323\u001b[0m         \u001b[0mself\u001b[0m\u001b[0;34m.\u001b[0m\u001b[0mheaders\u001b[0m \u001b[0;34m=\u001b[0m \u001b[0;34m{\u001b[0m\u001b[0;34m}\u001b[0m\u001b[0;34m\u001b[0m\u001b[0;34m\u001b[0m\u001b[0m\n\u001b[1;32m    324\u001b[0m         \u001b[0mself\u001b[0m\u001b[0;34m.\u001b[0m\u001b[0munredirected_hdrs\u001b[0m \u001b[0;34m=\u001b[0m \u001b[0;34m{\u001b[0m\u001b[0;34m}\u001b[0m\u001b[0;34m\u001b[0m\u001b[0;34m\u001b[0m\u001b[0m\n",
            "\u001b[0;32m/usr/lib/python3.10/urllib/request.py\u001b[0m in \u001b[0;36mfull_url\u001b[0;34m(self, url)\u001b[0m\n\u001b[1;32m    346\u001b[0m         \u001b[0mself\u001b[0m\u001b[0;34m.\u001b[0m\u001b[0m_full_url\u001b[0m \u001b[0;34m=\u001b[0m \u001b[0munwrap\u001b[0m\u001b[0;34m(\u001b[0m\u001b[0murl\u001b[0m\u001b[0;34m)\u001b[0m\u001b[0;34m\u001b[0m\u001b[0;34m\u001b[0m\u001b[0m\n\u001b[1;32m    347\u001b[0m         \u001b[0mself\u001b[0m\u001b[0;34m.\u001b[0m\u001b[0m_full_url\u001b[0m\u001b[0;34m,\u001b[0m \u001b[0mself\u001b[0m\u001b[0;34m.\u001b[0m\u001b[0mfragment\u001b[0m \u001b[0;34m=\u001b[0m \u001b[0m_splittag\u001b[0m\u001b[0;34m(\u001b[0m\u001b[0mself\u001b[0m\u001b[0;34m.\u001b[0m\u001b[0m_full_url\u001b[0m\u001b[0;34m)\u001b[0m\u001b[0;34m\u001b[0m\u001b[0;34m\u001b[0m\u001b[0m\n\u001b[0;32m--> 348\u001b[0;31m         \u001b[0mself\u001b[0m\u001b[0;34m.\u001b[0m\u001b[0m_parse\u001b[0m\u001b[0;34m(\u001b[0m\u001b[0;34m)\u001b[0m\u001b[0;34m\u001b[0m\u001b[0;34m\u001b[0m\u001b[0m\n\u001b[0m\u001b[1;32m    349\u001b[0m \u001b[0;34m\u001b[0m\u001b[0m\n\u001b[1;32m    350\u001b[0m     \u001b[0;34m@\u001b[0m\u001b[0mfull_url\u001b[0m\u001b[0;34m.\u001b[0m\u001b[0mdeleter\u001b[0m\u001b[0;34m\u001b[0m\u001b[0;34m\u001b[0m\u001b[0m\n",
            "\u001b[0;32m/usr/lib/python3.10/urllib/request.py\u001b[0m in \u001b[0;36m_parse\u001b[0;34m(self)\u001b[0m\n\u001b[1;32m    375\u001b[0m         \u001b[0mself\u001b[0m\u001b[0;34m.\u001b[0m\u001b[0mtype\u001b[0m\u001b[0;34m,\u001b[0m \u001b[0mrest\u001b[0m \u001b[0;34m=\u001b[0m \u001b[0m_splittype\u001b[0m\u001b[0;34m(\u001b[0m\u001b[0mself\u001b[0m\u001b[0;34m.\u001b[0m\u001b[0m_full_url\u001b[0m\u001b[0;34m)\u001b[0m\u001b[0;34m\u001b[0m\u001b[0;34m\u001b[0m\u001b[0m\n\u001b[1;32m    376\u001b[0m         \u001b[0;32mif\u001b[0m \u001b[0mself\u001b[0m\u001b[0;34m.\u001b[0m\u001b[0mtype\u001b[0m \u001b[0;32mis\u001b[0m \u001b[0;32mNone\u001b[0m\u001b[0;34m:\u001b[0m\u001b[0;34m\u001b[0m\u001b[0;34m\u001b[0m\u001b[0m\n\u001b[0;32m--> 377\u001b[0;31m             \u001b[0;32mraise\u001b[0m \u001b[0mValueError\u001b[0m\u001b[0;34m(\u001b[0m\u001b[0;34m\"unknown url type: %r\"\u001b[0m \u001b[0;34m%\u001b[0m \u001b[0mself\u001b[0m\u001b[0;34m.\u001b[0m\u001b[0mfull_url\u001b[0m\u001b[0;34m)\u001b[0m\u001b[0;34m\u001b[0m\u001b[0;34m\u001b[0m\u001b[0m\n\u001b[0m\u001b[1;32m    378\u001b[0m         \u001b[0mself\u001b[0m\u001b[0;34m.\u001b[0m\u001b[0mhost\u001b[0m\u001b[0;34m,\u001b[0m \u001b[0mself\u001b[0m\u001b[0;34m.\u001b[0m\u001b[0mselector\u001b[0m \u001b[0;34m=\u001b[0m \u001b[0m_splithost\u001b[0m\u001b[0;34m(\u001b[0m\u001b[0mrest\u001b[0m\u001b[0;34m)\u001b[0m\u001b[0;34m\u001b[0m\u001b[0;34m\u001b[0m\u001b[0m\n\u001b[1;32m    379\u001b[0m         \u001b[0;32mif\u001b[0m \u001b[0mself\u001b[0m\u001b[0;34m.\u001b[0m\u001b[0mhost\u001b[0m\u001b[0;34m:\u001b[0m\u001b[0;34m\u001b[0m\u001b[0;34m\u001b[0m\u001b[0m\n",
            "\u001b[0;31mValueError\u001b[0m: unknown url type: '//drive.google.com/drive/folders/1D9C77Pp60pCy2cg4N_tJpObFigOyPNTO'"
          ]
        }
      ],
      "execution_count": null
    },
    {
      "cell_type": "code",
      "source": [
        "import os\n",
        "import numpy as np #works with arrays and matrcies using linear algebra\n",
        "import pandas as pd #works with datasets, analyzing, cleaning, exploring and manpulating data\n",
        "import pickle #module for serializing and de-serializing Python objects, to convert object to string and vice versa\n",
        "import cv2 #library for computer vision, machine learning, and image processing\n",
        "from os import listdir #Return a list containing the names of the entries in the directory given by path\n",
        "import tensorflow as tf #open source framework for creating and deploying ML models in any environment.\n",
        "from sklearn.preprocessing import LabelBinarizer #converts string into binary\n",
        "from tensorflow.keras.models import Sequential #default API for TensorFlow users to solve machine learning problems with modern deep learning. A model grouping layers into an object with training/inference features. execute operations one after another\n",
        "from tensorflow.keras.layers import BatchNormalization #the base class of all Keras layers, to create and customize stateful and stateless computations for TensorFlow models for predictions\n",
        "from tensorflow.keras.layers import Conv2D\n",
        "from tensorflow.keras.layers import MaxPooling2D\n",
        "from tensorflow.keras.layers import Activation, Flatten, Dropout, Dense\n",
        "from tensorflow.keras import backend as K\n",
        "from tensorflow.keras.preprocessing.image import ImageDataGenerator\n",
        "from tensorflow.keras.optimizers import Adam\n",
        "from tensorflow.keras.preprocessing import image\n",
        "from tensorflow.keras.preprocessing.image import img_to_array\n",
        "from sklearn.preprocessing import MultiLabelBinarizer\n",
        "from sklearn.model_selection import train_test_split\n",
        "import matplotlib.pyplot as plt"
      ],
      "metadata": {
        "execution": {
          "iopub.status.busy": "2022-04-25T03:47:23.523226Z",
          "iopub.execute_input": "2022-04-25T03:47:23.523885Z",
          "iopub.status.idle": "2022-04-25T03:47:23.530441Z",
          "shell.execute_reply.started": "2022-04-25T03:47:23.523846Z",
          "shell.execute_reply": "2022-04-25T03:47:23.529767Z"
        },
        "trusted": true,
        "id": "qq4mwJygGswK"
      },
      "execution_count": null,
      "outputs": []
    },
    {
      "cell_type": "code",
      "source": [
        "# Load the Drive helper and mount\n",
        "from google.colab import drive\n",
        "drive.mount('/content/gdrive', force_remount=True)\n",
        "\n",
        "#sys.path.append('/gdrive/drive/gdrive/MyDrive/ColabNotebooks/KaggleDataset/Dataset')\n",
        "sys.path.insert(0,'/content/gdrive/drive/gdrive/MyDrive/ColabNotebooks/KaggleDataset/Dataset')\n",
        "\n",
        "print('Data source import complete.')\n",
        "base_dir = '/content/gdrive/drive/gdrive/MyDrive/ColabNotebooks/KaggleDataset/Dataset'  #directory given by path, has 12 classes/folders with dataset images\n",
        "leaf_classs = os.listdir(base_dir) #saves enteries (folder titles) into this variable as an array\n",
        "leaf_classs"
      ],
      "metadata": {
        "execution": {
          "iopub.status.busy": "2022-04-25T03:47:47.89288Z",
          "iopub.execute_input": "2022-04-25T03:47:47.893338Z",
          "iopub.status.idle": "2022-04-25T03:47:47.896895Z",
          "shell.execute_reply.started": "2022-04-25T03:47:47.893302Z",
          "shell.execute_reply": "2022-04-25T03:47:47.896042Z"
        },
        "trusted": true,
        "id": "QltPq-UYGswL",
        "colab": {
          "base_uri": "https://localhost:8080/",
          "height": 232
        },
        "outputId": "14a6b5a5-eb0f-40cd-f4a3-a9574d0da80c"
      },
      "execution_count": null,
      "outputs": [
        {
          "output_type": "stream",
          "name": "stdout",
          "text": [
            "Mounted at /content/gdrive\n",
            "Data source import complete.\n"
          ]
        },
        {
          "output_type": "error",
          "ename": "FileNotFoundError",
          "evalue": "[Errno 2] No such file or directory: '/content/gdrive/drive/gdrive/MyDrive/ColabNotebooks/KaggleDataset/Dataset'",
          "traceback": [
            "\u001b[0;31m---------------------------------------------------------------------------\u001b[0m",
            "\u001b[0;31mFileNotFoundError\u001b[0m                         Traceback (most recent call last)",
            "\u001b[0;32m<ipython-input-26-aaace71f4702>\u001b[0m in \u001b[0;36m<cell line: 10>\u001b[0;34m()\u001b[0m\n\u001b[1;32m      8\u001b[0m \u001b[0mprint\u001b[0m\u001b[0;34m(\u001b[0m\u001b[0;34m'Data source import complete.'\u001b[0m\u001b[0;34m)\u001b[0m\u001b[0;34m\u001b[0m\u001b[0;34m\u001b[0m\u001b[0m\n\u001b[1;32m      9\u001b[0m \u001b[0mbase_dir\u001b[0m \u001b[0;34m=\u001b[0m \u001b[0;34m'/content/gdrive/drive/gdrive/MyDrive/ColabNotebooks/KaggleDataset/Dataset'\u001b[0m  \u001b[0;31m#directory given by path, has 12 classes/folders with dataset images\u001b[0m\u001b[0;34m\u001b[0m\u001b[0;34m\u001b[0m\u001b[0m\n\u001b[0;32m---> 10\u001b[0;31m \u001b[0mleaf_classs\u001b[0m \u001b[0;34m=\u001b[0m \u001b[0mos\u001b[0m\u001b[0;34m.\u001b[0m\u001b[0mlistdir\u001b[0m\u001b[0;34m(\u001b[0m\u001b[0mbase_dir\u001b[0m\u001b[0;34m)\u001b[0m \u001b[0;31m#saves enteries (folder titles) into this variable as an array\u001b[0m\u001b[0;34m\u001b[0m\u001b[0;34m\u001b[0m\u001b[0m\n\u001b[0m\u001b[1;32m     11\u001b[0m \u001b[0mleaf_classs\u001b[0m\u001b[0;34m\u001b[0m\u001b[0;34m\u001b[0m\u001b[0m\n",
            "\u001b[0;31mFileNotFoundError\u001b[0m: [Errno 2] No such file or directory: '/content/gdrive/drive/gdrive/MyDrive/ColabNotebooks/KaggleDataset/Dataset'"
          ]
        }
      ]
    },
    {
      "cell_type": "code",
      "source": [
        "leaf_classs = os.listdir(base_dir) #saves enteries (folder titles) into this variable as an array\n",
        "leaf_classs"
      ],
      "metadata": {
        "execution": {
          "iopub.status.busy": "2022-04-25T03:47:48.243719Z",
          "iopub.execute_input": "2022-04-25T03:47:48.244296Z",
          "iopub.status.idle": "2022-04-25T03:47:48.252597Z",
          "shell.execute_reply.started": "2022-04-25T03:47:48.244258Z",
          "shell.execute_reply": "2022-04-25T03:47:48.251794Z"
        },
        "trusted": true,
        "id": "CzWoiNf4GswM",
        "outputId": "7250cc1b-97f6-47a4-cc3c-149b6a6ac0c6",
        "colab": {
          "base_uri": "https://localhost:8080/",
          "height": 161
        }
      },
      "execution_count": null,
      "outputs": [
        {
          "output_type": "error",
          "ename": "FileNotFoundError",
          "evalue": "[Errno 2] No such file or directory: '/content/gdrive/drive/gdrive/MyDrive/ColabNotebooks/KaggleDataset/Dataset'",
          "traceback": [
            "\u001b[0;31m---------------------------------------------------------------------------\u001b[0m",
            "\u001b[0;31mFileNotFoundError\u001b[0m                         Traceback (most recent call last)",
            "\u001b[0;32m<ipython-input-22-699e5ba416a2>\u001b[0m in \u001b[0;36m<cell line: 1>\u001b[0;34m()\u001b[0m\n\u001b[0;32m----> 1\u001b[0;31m \u001b[0mleaf_classs\u001b[0m \u001b[0;34m=\u001b[0m \u001b[0mos\u001b[0m\u001b[0;34m.\u001b[0m\u001b[0mlistdir\u001b[0m\u001b[0;34m(\u001b[0m\u001b[0mbase_dir\u001b[0m\u001b[0;34m)\u001b[0m \u001b[0;31m#saves enteries (folder titles) into this variable as an array\u001b[0m\u001b[0;34m\u001b[0m\u001b[0;34m\u001b[0m\u001b[0m\n\u001b[0m\u001b[1;32m      2\u001b[0m \u001b[0mleaf_classs\u001b[0m\u001b[0;34m\u001b[0m\u001b[0;34m\u001b[0m\u001b[0m\n",
            "\u001b[0;31mFileNotFoundError\u001b[0m: [Errno 2] No such file or directory: '/content/gdrive/drive/gdrive/MyDrive/ColabNotebooks/KaggleDataset/Dataset'"
          ]
        }
      ]
    },
    {
      "cell_type": "code",
      "source": [
        "print(\"Total Plant classes are: {}\".format(len(leaf_classs))) #the number of folders inside the directory"
      ],
      "metadata": {
        "execution": {
          "iopub.status.busy": "2022-04-25T03:47:48.43434Z",
          "iopub.execute_input": "2022-04-25T03:47:48.434926Z",
          "iopub.status.idle": "2022-04-25T03:47:48.439966Z",
          "shell.execute_reply.started": "2022-04-25T03:47:48.434896Z",
          "shell.execute_reply": "2022-04-25T03:47:48.439101Z"
        },
        "trusted": true,
        "id": "Tgjlr1kkGswM",
        "outputId": "2d405a8a-7e0a-484d-e7aa-7ad5ffbb1c40",
        "colab": {
          "base_uri": "https://localhost:8080/"
        }
      },
      "execution_count": null,
      "outputs": [
        {
          "output_type": "stream",
          "name": "stdout",
          "text": [
            "Total Plant classes are: 3\n"
          ]
        }
      ]
    },
    {
      "cell_type": "code",
      "source": [
        " #counts number of images in each folder\n",
        " nums = {}\n",
        "for plant in leaf_classs:\n",
        "    nums[plant] = len(os.listdir(base_dir + '/' + plant))\n",
        "\n",
        "# converting the nums dictionary to pandas dataframe passing index as plant name and number of images as column. draws them as a table.\n",
        "\n",
        "img_per_class = pd.DataFrame(nums.values(), index=nums.keys(), columns=[\"no. of images\"])\n",
        "img_per_class"
      ],
      "metadata": {
        "execution": {
          "iopub.status.busy": "2022-04-25T03:47:48.613451Z",
          "iopub.execute_input": "2022-04-25T03:47:48.61409Z",
          "iopub.status.idle": "2022-04-25T03:47:48.871563Z",
          "shell.execute_reply.started": "2022-04-25T03:47:48.614053Z",
          "shell.execute_reply": "2022-04-25T03:47:48.870835Z"
        },
        "trusted": true,
        "id": "UINH2H4oGswN",
        "outputId": "84fdb41d-9c46-4ba9-d120-ba68caf6963d",
        "colab": {
          "base_uri": "https://localhost:8080/",
          "height": 214
        }
      },
      "execution_count": null,
      "outputs": [
        {
          "output_type": "error",
          "ename": "TypeError",
          "evalue": "unsupported operand type(s) for +: 'NoneType' and 'str'",
          "traceback": [
            "\u001b[0;31m---------------------------------------------------------------------------\u001b[0m",
            "\u001b[0;31mTypeError\u001b[0m                                 Traceback (most recent call last)",
            "\u001b[0;32m<ipython-input-18-2008c3706564>\u001b[0m in \u001b[0;36m<cell line: 3>\u001b[0;34m()\u001b[0m\n\u001b[1;32m      2\u001b[0m \u001b[0mnums\u001b[0m \u001b[0;34m=\u001b[0m \u001b[0;34m{\u001b[0m\u001b[0;34m}\u001b[0m\u001b[0;34m\u001b[0m\u001b[0;34m\u001b[0m\u001b[0m\n\u001b[1;32m      3\u001b[0m \u001b[0;32mfor\u001b[0m \u001b[0mplant\u001b[0m \u001b[0;32min\u001b[0m \u001b[0mleaf_classs\u001b[0m\u001b[0;34m:\u001b[0m\u001b[0;34m\u001b[0m\u001b[0;34m\u001b[0m\u001b[0m\n\u001b[0;32m----> 4\u001b[0;31m    \u001b[0mnums\u001b[0m\u001b[0;34m[\u001b[0m\u001b[0mplant\u001b[0m\u001b[0;34m]\u001b[0m \u001b[0;34m=\u001b[0m \u001b[0mlen\u001b[0m\u001b[0;34m(\u001b[0m\u001b[0mos\u001b[0m\u001b[0;34m.\u001b[0m\u001b[0mlistdir\u001b[0m\u001b[0;34m(\u001b[0m\u001b[0mbase_dir\u001b[0m \u001b[0;34m+\u001b[0m \u001b[0;34m'/'\u001b[0m \u001b[0;34m+\u001b[0m \u001b[0mplant\u001b[0m\u001b[0;34m)\u001b[0m\u001b[0;34m)\u001b[0m\u001b[0;34m\u001b[0m\u001b[0;34m\u001b[0m\u001b[0m\n\u001b[0m\u001b[1;32m      5\u001b[0m \u001b[0;34m\u001b[0m\u001b[0m\n\u001b[1;32m      6\u001b[0m \u001b[0;31m# converting the nums dictionary to pandas dataframe passing index as plant name and number of images as column. draws them as a table.\u001b[0m\u001b[0;34m\u001b[0m\u001b[0;34m\u001b[0m\u001b[0m\n",
            "\u001b[0;31mTypeError\u001b[0m: unsupported operand type(s) for +: 'NoneType' and 'str'"
          ]
        }
      ]
    },
    {
      "cell_type": "code",
      "source": [
        "from tensorflow import keras #imports keras API\n",
        "from tensorflow.keras.preprocessing.image import ImageDataGenerator, load_img"
      ],
      "metadata": {
        "execution": {
          "iopub.status.busy": "2022-04-25T03:47:48.873304Z",
          "iopub.execute_input": "2022-04-25T03:47:48.873569Z",
          "iopub.status.idle": "2022-04-25T03:47:48.878364Z",
          "shell.execute_reply.started": "2022-04-25T03:47:48.873536Z",
          "shell.execute_reply": "2022-04-25T03:47:48.877503Z"
        },
        "trusted": true,
        "id": "K2KKXgYrGswN"
      },
      "execution_count": null,
      "outputs": []
    },
    {
      "cell_type": "code",
      "source": [
        "train_gen=ImageDataGenerator(rescale=1./255,validation_split=0.2) #1. means float values upto 255 pixels. image scale limit. biggest size allowed for an image\n",
        "train_data=train_gen.flow_from_directory('/kaggle/input/plant-dataset/Dataset/',target_size=(64,64)\n",
        "                                         ,batch_size=32,class_mode='categorical',shuffle=True,subset='training') #32 training instance in each batch, meaning object or class."
      ],
      "metadata": {
        "execution": {
          "iopub.status.busy": "2022-04-25T03:47:49.364544Z",
          "iopub.execute_input": "2022-04-25T03:47:49.364828Z",
          "iopub.status.idle": "2022-04-25T03:47:54.49983Z",
          "shell.execute_reply.started": "2022-04-25T03:47:49.36478Z",
          "shell.execute_reply": "2022-04-25T03:47:54.49723Z"
        },
        "trusted": true,
        "id": "olyZ9P7oGswO",
        "outputId": "db064dc6-dbbc-4695-a93f-72802fd6e868",
        "colab": {
          "base_uri": "https://localhost:8080/"
        }
      },
      "execution_count": null,
      "outputs": [
        {
          "output_type": "stream",
          "name": "stdout",
          "text": [
            "Found 22295 images belonging to 12 classes.\n"
          ]
        }
      ]
    },
    {
      "cell_type": "code",
      "source": [
        "test_data=train_gen.flow_from_directory('/kaggle/input/plant-dataset/Dataset/',target_size=(64,64),\n",
        "                                        batch_size=1,shuffle=False,subset='validation') #remaining images used for validation"
      ],
      "metadata": {
        "execution": {
          "iopub.status.busy": "2022-04-25T03:47:54.501692Z",
          "iopub.execute_input": "2022-04-25T03:47:54.50196Z",
          "iopub.status.idle": "2022-04-25T03:47:54.919913Z",
          "shell.execute_reply.started": "2022-04-25T03:47:54.501924Z",
          "shell.execute_reply": "2022-04-25T03:47:54.919109Z"
        },
        "trusted": true,
        "id": "f7mp1Wn2GswO",
        "outputId": "f5656781-24c8-4aae-8f1c-698b2fa6497c",
        "colab": {
          "base_uri": "https://localhost:8080/"
        }
      },
      "execution_count": null,
      "outputs": [
        {
          "output_type": "stream",
          "name": "stdout",
          "text": [
            "Found 5571 images belonging to 12 classes.\n"
          ]
        }
      ]
    },
    {
      "cell_type": "code",
      "source": [
        "train_data.classes #the folders image batches. each number corresponds to the folder/class the image is from."
      ],
      "metadata": {
        "execution": {
          "iopub.status.busy": "2022-04-25T03:47:54.920984Z",
          "iopub.execute_input": "2022-04-25T03:47:54.921363Z",
          "iopub.status.idle": "2022-04-25T03:47:54.928572Z",
          "shell.execute_reply.started": "2022-04-25T03:47:54.921328Z",
          "shell.execute_reply": "2022-04-25T03:47:54.927789Z"
        },
        "trusted": true,
        "id": "PqKMef23GswP",
        "outputId": "e4e3c6e9-9ffc-40de-8a50-e9c4cb24e357",
        "colab": {
          "base_uri": "https://localhost:8080/"
        }
      },
      "execution_count": null,
      "outputs": [
        {
          "output_type": "execute_result",
          "data": {
            "text/plain": [
              "array([ 0,  0,  0, ..., 11, 11, 11], dtype=int32)"
            ]
          },
          "metadata": {},
          "execution_count": 10
        }
      ]
    },
    {
      "cell_type": "code",
      "source": [
        "train_data.class_indices #gave the folders indicies and saved them into an array. each time it sees an object from a class it will recognize which class. each folder title corresponds to an index."
      ],
      "metadata": {
        "execution": {
          "iopub.status.busy": "2022-04-25T03:47:54.931355Z",
          "iopub.execute_input": "2022-04-25T03:47:54.93196Z",
          "iopub.status.idle": "2022-04-25T03:47:54.938262Z",
          "shell.execute_reply.started": "2022-04-25T03:47:54.931924Z",
          "shell.execute_reply": "2022-04-25T03:47:54.93747Z"
        },
        "trusted": true,
        "id": "_sMvnm-8GswP",
        "outputId": "fab94ad3-aa21-4a65-98a8-0cde475db752",
        "colab": {
          "base_uri": "https://localhost:8080/"
        }
      },
      "execution_count": null,
      "outputs": [
        {
          "output_type": "execute_result",
          "data": {
            "text/plain": [
              "{'Apple___healthy': 0,\n",
              " 'Blueberry___healthy': 1,\n",
              " 'Cherry_(including_sour)___healthy': 2,\n",
              " 'Corn_(maize)___healthy': 3,\n",
              " 'Grape___healthy': 4,\n",
              " 'Peach___healthy': 5,\n",
              " 'Pepper,_bell___healthy': 6,\n",
              " 'Potato___healthy': 7,\n",
              " 'Raspberry___healthy': 8,\n",
              " 'Soybean___healthy': 9,\n",
              " 'Strawberry___healthy': 10,\n",
              " 'Tomato___healthy': 11}"
            ]
          },
          "metadata": {},
          "execution_count": 11
        }
      ]
    },
    {
      "cell_type": "code",
      "source": [
        "EPOCHS = 40 #changed from 200 to 40 just to run faster to see what would happen after the \"model.fit_generator\" block, error occures after reaching EPOCHS=47\n",
        "INIT_LR = 1e-3 #default value for the initial learning rate\n",
        "BS = 32 #passing batches of images into the network for training\n",
        "default_image_size = tuple((256, 256)) #width * height for sequare image\n",
        "image_size = 0\n",
        "directory_root = '../input/plantvillage/' #private dataset\n",
        "width=256\n",
        "height=256\n",
        "depth=3 #focus, clearity of image\n",
        "\n",
        "\"\"\"\n",
        "An epoch is a complete iteration through the entire training dataset in one cycle for training the machine learning model. During an epoch, Every training sample in the dataset is processed by the model, and its weights and biases are updated in accordance with the computed loss or error.\n",
        "\n",
        "In deep learning, the training dataset is generally divided into smaller groups called batches, and during each epoch, the model analyzes each batch in sequence, one at a time. The number of batches in an epoch is determined by the batch size, which is a hyperparameter that can be tuned to optimize the performance of the model. After each epoch, the model performance can be evaluated on the validation dataset. This helps to monitor the progress of the model.\n",
        "\"\"\""
      ],
      "metadata": {
        "execution": {
          "iopub.status.busy": "2022-04-25T03:47:54.93972Z",
          "iopub.execute_input": "2022-04-25T03:47:54.94028Z",
          "iopub.status.idle": "2022-04-25T03:47:54.94589Z",
          "shell.execute_reply.started": "2022-04-25T03:47:54.940244Z",
          "shell.execute_reply": "2022-04-25T03:47:54.945125Z"
        },
        "trusted": true,
        "id": "HAfsbK0rGswQ"
      },
      "execution_count": null,
      "outputs": []
    },
    {
      "cell_type": "code",
      "source": [
        "#function made to read images using openCV and convert it to an array to represent the image as pixels\n",
        "\n",
        "from tensorflow.keras.preprocessing.image import img_to_array\n",
        "#function definition and body\n",
        "def convert_image_to_array(image_dir):\n",
        "    try:\n",
        "        image = cv2.imread(image_dir) #saves the reading of the image from the directory into a variable\n",
        "        if image is not None : #if image exists\n",
        "            image = cv2.resize(image, default_image_size) #change size\n",
        "            return img_to_array(image) #converts image to an array\n",
        "        else :\n",
        "            return np.array([])\n",
        "    except Exception as e:\n",
        "        print(f\"Error : {e}\")\n",
        "        return None"
      ],
      "metadata": {
        "execution": {
          "iopub.status.busy": "2022-04-25T03:47:54.947312Z",
          "iopub.execute_input": "2022-04-25T03:47:54.947838Z",
          "iopub.status.idle": "2022-04-25T03:47:54.957417Z",
          "shell.execute_reply.started": "2022-04-25T03:47:54.947789Z",
          "shell.execute_reply": "2022-04-25T03:47:54.956665Z"
        },
        "trusted": true,
        "id": "evuvT3TlGswQ"
      },
      "execution_count": null,
      "outputs": []
    },
    {
      "cell_type": "code",
      "source": [
        "#converts images to matrices using the above function for training the model\n",
        "\n",
        "image_list, label_list = [], [] #array creation\n",
        "try:\n",
        "    print(\"[INFO] Loading images ...\")\n",
        "    root_dir = os.listdir(base_dir) #private dataset\n",
        "    print(root_dir) #print folder names\n",
        "\n",
        "    for plant_folder in root_dir : #\n",
        "        print(f\"[INFO] Processing {plant_folder} ...\")\n",
        "        plant_disease_image_list = os.listdir(base_dir + plant_folder)\n",
        "        #print(plant_image_folder_list)\n",
        "\n",
        "#returns the names of the folders there, choosing healthy plants only\n",
        "        for image in plant_disease_image_list[:200]:\n",
        "            image_directory = f\"{base_dir}/{plant_folder}/{image}\"\n",
        "            if image_directory.endswith(\".jpg\") == True or image_directory.endswith(\".JPG\") == True:\n",
        "                image_list.append(convert_image_to_array(image_directory)) #used the function above to retrieve these\n",
        "                label_list.append(plant_folder)\n",
        "\n",
        "    print(\"[INFO] Image loading completed\")\n",
        "except Exception as e:\n",
        "    print(f\"Error : {e}\")"
      ],
      "metadata": {
        "execution": {
          "iopub.status.busy": "2022-04-25T03:47:54.958887Z",
          "iopub.execute_input": "2022-04-25T03:47:54.959393Z",
          "iopub.status.idle": "2022-04-25T03:48:00.119354Z",
          "shell.execute_reply.started": "2022-04-25T03:47:54.959363Z",
          "shell.execute_reply": "2022-04-25T03:48:00.118537Z"
        },
        "trusted": true,
        "id": "eLgvQ061GswQ",
        "outputId": "be03e374-3c8a-40a8-f402-6df113eb4752",
        "colab": {
          "base_uri": "https://localhost:8080/"
        }
      },
      "execution_count": null,
      "outputs": [
        {
          "output_type": "stream",
          "name": "stdout",
          "text": [
            "[INFO] Loading images ...\n",
            "['Grape___healthy', 'Potato___healthy', 'Soybean___healthy', 'Blueberry___healthy', 'Peach___healthy', 'Tomato___healthy', 'Pepper,_bell___healthy', 'Corn_(maize)___healthy', 'Raspberry___healthy', 'Apple___healthy', 'Cherry_(including_sour)___healthy', 'Strawberry___healthy']\n",
            "[INFO] Processing Grape___healthy ...\n",
            "[INFO] Processing Potato___healthy ...\n",
            "[INFO] Processing Soybean___healthy ...\n",
            "[INFO] Processing Blueberry___healthy ...\n",
            "[INFO] Processing Peach___healthy ...\n",
            "[INFO] Processing Tomato___healthy ...\n",
            "[INFO] Processing Pepper,_bell___healthy ...\n",
            "[INFO] Processing Corn_(maize)___healthy ...\n",
            "[INFO] Processing Raspberry___healthy ...\n",
            "[INFO] Processing Apple___healthy ...\n",
            "[INFO] Processing Cherry_(including_sour)___healthy ...\n",
            "[INFO] Processing Strawberry___healthy ...\n",
            "[INFO] Image loading completed\n"
          ]
        }
      ]
    },
    {
      "cell_type": "code",
      "source": [
        "image_size = len(image_list) #passes the matrices above to the function, for a length of an object, then saves it in the image size variable. getting 2400 images that match the conditions."
      ],
      "metadata": {
        "execution": {
          "iopub.status.busy": "2022-04-25T03:48:00.120791Z",
          "iopub.execute_input": "2022-04-25T03:48:00.121089Z",
          "iopub.status.idle": "2022-04-25T03:48:00.125274Z",
          "shell.execute_reply.started": "2022-04-25T03:48:00.121053Z",
          "shell.execute_reply": "2022-04-25T03:48:00.124238Z"
        },
        "trusted": true,
        "id": "xKEdbOHRGswR"
      },
      "execution_count": null,
      "outputs": []
    },
    {
      "cell_type": "code",
      "source": [
        "image_size"
      ],
      "metadata": {
        "execution": {
          "iopub.status.busy": "2022-04-25T03:48:00.126959Z",
          "iopub.execute_input": "2022-04-25T03:48:00.127299Z",
          "iopub.status.idle": "2022-04-25T03:48:00.141209Z",
          "shell.execute_reply.started": "2022-04-25T03:48:00.127262Z",
          "shell.execute_reply": "2022-04-25T03:48:00.140385Z"
        },
        "trusted": true,
        "id": "UJoImKUzGswR",
        "outputId": "19ef2033-7649-4b0a-9977-ae0a848c9afd",
        "colab": {
          "base_uri": "https://localhost:8080/"
        }
      },
      "execution_count": null,
      "outputs": [
        {
          "output_type": "execute_result",
          "data": {
            "text/plain": [
              "2400"
            ]
          },
          "metadata": {},
          "execution_count": 16
        }
      ]
    },
    {
      "cell_type": "code",
      "source": [
        "#corresponds images to the title of their respective folders, labeling the object in the image with the folder title as its class. to recognize the object in the image as the label/class.\n",
        "\n",
        "label_binarizer = LabelBinarizer() #At learning time, this simply consists in learning one regressor or binary classifier per class. In doing so, one needs to convert multi-class labels to binary labels (belong or does not belong to the class). LabelBinarizer makes this process easy with the transform method.\n",
        "image_labels = label_binarizer.fit_transform(label_list) #passes folder titles to the function to add them to an array as labels\n",
        "pickle.dump(label_binarizer,open('label_transform.pkl', 'wb')) #opens file in binary format and writes in it\n",
        "n_classes = len(label_binarizer.classes_) #length the same as the classes number"
      ],
      "metadata": {
        "execution": {
          "iopub.status.busy": "2022-04-25T03:48:00.145136Z",
          "iopub.execute_input": "2022-04-25T03:48:00.145463Z",
          "iopub.status.idle": "2022-04-25T03:48:00.162073Z",
          "shell.execute_reply.started": "2022-04-25T03:48:00.145431Z",
          "shell.execute_reply": "2022-04-25T03:48:00.161375Z"
        },
        "trusted": true,
        "id": "N92k5gxoGswS"
      },
      "execution_count": null,
      "outputs": []
    },
    {
      "cell_type": "code",
      "source": [],
      "metadata": {
        "id": "W4bVo3pLmXEs"
      },
      "execution_count": null,
      "outputs": []
    },
    {
      "cell_type": "code",
      "source": [
        "/print(label_binarizer.classes_)"
      ],
      "metadata": {
        "execution": {
          "iopub.status.busy": "2022-04-25T03:48:00.165228Z",
          "iopub.execute_input": "2022-04-25T03:48:00.165833Z",
          "iopub.status.idle": "2022-04-25T03:48:00.170497Z",
          "shell.execute_reply.started": "2022-04-25T03:48:00.165776Z",
          "shell.execute_reply": "2022-04-25T03:48:00.169847Z"
        },
        "trusted": true,
        "id": "CVV8QLK7GswS",
        "outputId": "fdd0ffaf-6dbf-4ec2-cf6e-58362f5aa5e6",
        "colab": {
          "base_uri": "https://localhost:8080/"
        }
      },
      "execution_count": null,
      "outputs": [
        {
          "output_type": "stream",
          "name": "stdout",
          "text": [
            "['Apple___healthy' 'Blueberry___healthy'\n",
            " 'Cherry_(including_sour)___healthy' 'Corn_(maize)___healthy'\n",
            " 'Grape___healthy' 'Peach___healthy' 'Pepper,_bell___healthy'\n",
            " 'Potato___healthy' 'Raspberry___healthy' 'Soybean___healthy'\n",
            " 'Strawberry___healthy' 'Tomato___healthy']\n"
          ]
        }
      ]
    },
    {
      "cell_type": "code",
      "source": [
        "np_image_list = np.array(image_list, dtype=np.float16) / 225.0 #changing pixels into numbers between 0 and 1. reducing size in memory."
      ],
      "metadata": {
        "execution": {
          "iopub.status.busy": "2022-04-25T03:48:00.171876Z",
          "iopub.execute_input": "2022-04-25T03:48:00.172416Z",
          "iopub.status.idle": "2022-04-25T03:48:06.766903Z",
          "shell.execute_reply.started": "2022-04-25T03:48:00.172376Z",
          "shell.execute_reply": "2022-04-25T03:48:06.766124Z"
        },
        "trusted": true,
        "id": "YP0XWEcYGswS"
      },
      "execution_count": null,
      "outputs": []
    },
    {
      "cell_type": "code",
      "source": [
        "np_image_list #image quality and size in memory"
      ],
      "metadata": {
        "scrolled": true,
        "execution": {
          "iopub.status.busy": "2022-04-25T03:48:06.768407Z",
          "iopub.execute_input": "2022-04-25T03:48:06.768672Z",
          "iopub.status.idle": "2022-04-25T03:48:06.78906Z",
          "shell.execute_reply.started": "2022-04-25T03:48:06.768639Z",
          "shell.execute_reply": "2022-04-25T03:48:06.788284Z"
        },
        "trusted": true,
        "id": "N3y1WbSiGswS",
        "outputId": "0c61c842-336a-4f09-da41-4872ae4e648b",
        "colab": {
          "base_uri": "https://localhost:8080/"
        }
      },
      "execution_count": null,
      "outputs": [
        {
          "output_type": "execute_result",
          "data": {
            "text/plain": [
              "array([[[[0.      , 0.      , 0.03555 ],\n",
              "         [0.      , 0.      , 0.03555 ],\n",
              "         [0.      , 0.      , 0.03555 ],\n",
              "         ...,\n",
              "         [0.      , 0.      , 0.03111 ],\n",
              "         [0.      , 0.      , 0.03111 ],\n",
              "         [0.      , 0.      , 0.03111 ]],\n",
              "\n",
              "        [[0.8535  , 0.8623  , 0.911   ],\n",
              "         [0.8535  , 0.8623  , 0.911   ],\n",
              "         [0.858   , 0.8667  , 0.9155  ],\n",
              "         ...,\n",
              "         [0.9556  , 0.96    , 1.005   ],\n",
              "         [0.951   , 0.9556  , 1.      ],\n",
              "         [0.933   , 0.938   , 0.9824  ]],\n",
              "\n",
              "        [[0.844   , 0.8535  , 0.9023  ],\n",
              "         [0.844   , 0.8535  , 0.9023  ],\n",
              "         [0.849   , 0.858   , 0.9067  ],\n",
              "         ...,\n",
              "         [0.9287  , 0.933   , 0.9775  ],\n",
              "         [0.92    , 0.9243  , 0.9688  ],\n",
              "         [0.898   , 0.9023  , 0.947   ]],\n",
              "\n",
              "        ...,\n",
              "\n",
              "        [[0.8267  , 0.831   , 0.8936  ],\n",
              "         [0.782   , 0.7866  , 0.849   ],\n",
              "         [0.849   , 0.8535  , 0.9155  ],\n",
              "         ...,\n",
              "         [0.8667  , 0.8623  , 0.9067  ],\n",
              "         [0.9067  , 0.9023  , 0.947   ],\n",
              "         [0.911   , 0.9067  , 0.951   ]],\n",
              "\n",
              "        [[0.871   , 0.8755  , 0.938   ],\n",
              "         [0.7954  , 0.8     , 0.8623  ],\n",
              "         [0.84    , 0.844   , 0.9067  ],\n",
              "         ...,\n",
              "         [0.9956  , 0.991   , 1.035   ],\n",
              "         [1.022   , 1.018   , 1.0625  ],\n",
              "         [0.88    , 0.8755  , 0.92    ]],\n",
              "\n",
              "        [[0.791   , 0.7954  , 0.858   ],\n",
              "         [0.729   , 0.7334  , 0.7954  ],\n",
              "         [0.8047  , 0.809   , 0.871   ],\n",
              "         ...,\n",
              "         [0.9067  , 0.9023  , 0.947   ],\n",
              "         [0.9287  , 0.9243  , 0.9688  ],\n",
              "         [0.8667  , 0.8623  , 0.9067  ]]],\n",
              "\n",
              "\n",
              "       [[[0.622   , 0.6177  , 0.662   ],\n",
              "         [0.6577  , 0.6533  , 0.6978  ],\n",
              "         [0.831   , 0.8267  , 0.871   ],\n",
              "         ...,\n",
              "         [0.72    , 0.7246  , 0.769   ],\n",
              "         [0.6265  , 0.6313  , 0.676   ],\n",
              "         [0.671   , 0.676   , 0.72    ]],\n",
              "\n",
              "        [[0.8535  , 0.849   , 0.8936  ],\n",
              "         [0.7734  , 0.769   , 0.8135  ],\n",
              "         [0.676   , 0.671   , 0.7153  ],\n",
              "         ...,\n",
              "         [0.662   , 0.6665  , 0.711   ],\n",
              "         [0.6     , 0.6045  , 0.649   ],\n",
              "         [0.7065  , 0.711   , 0.7554  ]],\n",
              "\n",
              "        [[0.7866  , 0.782   , 0.8267  ],\n",
              "         [0.7866  , 0.782   , 0.8267  ],\n",
              "         [0.7554  , 0.751   , 0.7954  ],\n",
              "         ...,\n",
              "         [0.76    , 0.7646  , 0.809   ],\n",
              "         [0.7153  , 0.72    , 0.7646  ],\n",
              "         [0.6445  , 0.649   , 0.6934  ]],\n",
              "\n",
              "        ...,\n",
              "\n",
              "        [[0.782   , 0.7734  , 0.8     ],\n",
              "         [0.7954  , 0.7866  , 0.8135  ],\n",
              "         [0.809   , 0.8     , 0.8267  ],\n",
              "         ...,\n",
              "         [0.76    , 0.7646  , 0.809   ],\n",
              "         [0.7554  , 0.76    , 0.8047  ],\n",
              "         [0.7466  , 0.751   , 0.7954  ]],\n",
              "\n",
              "        [[0.7954  , 0.7866  , 0.8135  ],\n",
              "         [0.8047  , 0.7954  , 0.8223  ],\n",
              "         [0.8135  , 0.8047  , 0.831   ],\n",
              "         ...,\n",
              "         [0.76    , 0.7646  , 0.809   ],\n",
              "         [0.76    , 0.7646  , 0.809   ],\n",
              "         [0.742   , 0.7466  , 0.791   ]],\n",
              "\n",
              "        [[0.8047  , 0.7954  , 0.8223  ],\n",
              "         [0.8135  , 0.8047  , 0.831   ],\n",
              "         [0.809   , 0.8     , 0.8267  ],\n",
              "         ...,\n",
              "         [0.7646  , 0.769   , 0.8135  ],\n",
              "         [0.76    , 0.7646  , 0.809   ],\n",
              "         [0.742   , 0.7466  , 0.791   ]]],\n",
              "\n",
              "\n",
              "       [[[0.      , 0.      , 0.      ],\n",
              "         [0.      , 0.      , 0.      ],\n",
              "         [0.      , 0.      , 0.      ],\n",
              "         ...,\n",
              "         [0.      , 0.      , 0.      ],\n",
              "         [0.      , 0.      , 0.      ],\n",
              "         [0.      , 0.      , 0.      ]],\n",
              "\n",
              "        [[0.      , 0.      , 0.      ],\n",
              "         [0.      , 0.      , 0.      ],\n",
              "         [0.      , 0.      , 0.      ],\n",
              "         ...,\n",
              "         [0.      , 0.      , 0.      ],\n",
              "         [0.      , 0.      , 0.      ],\n",
              "         [0.      , 0.      , 0.      ]],\n",
              "\n",
              "        [[0.      , 0.      , 0.      ],\n",
              "         [0.      , 0.      , 0.      ],\n",
              "         [0.      , 0.      , 0.      ],\n",
              "         ...,\n",
              "         [0.      , 0.      , 0.      ],\n",
              "         [0.      , 0.      , 0.      ],\n",
              "         [0.      , 0.      , 0.      ]],\n",
              "\n",
              "        ...,\n",
              "\n",
              "        [[0.      , 0.      , 0.      ],\n",
              "         [0.      , 0.      , 0.      ],\n",
              "         [0.      , 0.      , 0.      ],\n",
              "         ...,\n",
              "         [0.      , 0.      , 0.      ],\n",
              "         [0.      , 0.      , 0.      ],\n",
              "         [0.      , 0.      , 0.      ]],\n",
              "\n",
              "        [[0.      , 0.      , 0.      ],\n",
              "         [0.      , 0.      , 0.      ],\n",
              "         [0.      , 0.      , 0.      ],\n",
              "         ...,\n",
              "         [0.      , 0.      , 0.      ],\n",
              "         [0.      , 0.      , 0.      ],\n",
              "         [0.      , 0.      , 0.      ]],\n",
              "\n",
              "        [[0.      , 0.      , 0.      ],\n",
              "         [0.      , 0.      , 0.      ],\n",
              "         [0.      , 0.      , 0.      ],\n",
              "         ...,\n",
              "         [0.      , 0.      , 0.      ],\n",
              "         [0.      , 0.      , 0.      ],\n",
              "         [0.      , 0.      , 0.      ]]],\n",
              "\n",
              "\n",
              "       ...,\n",
              "\n",
              "\n",
              "       [[[0.0845  , 0.      , 0.      ],\n",
              "         [0.6045  , 0.5024  , 0.4934  ],\n",
              "         [0.6445  , 0.507   , 0.5024  ],\n",
              "         ...,\n",
              "         [0.622   , 0.4844  , 0.4888  ],\n",
              "         [0.6577  , 0.52    , 0.5244  ],\n",
              "         [0.7153  , 0.5776  , 0.582   ]],\n",
              "\n",
              "        [[0.0845  , 0.      , 0.      ],\n",
              "         [0.6     , 0.4978  , 0.4888  ],\n",
              "         [0.6357  , 0.4978  , 0.4934  ],\n",
              "         ...,\n",
              "         [0.68    , 0.542   , 0.547   ],\n",
              "         [0.6045  , 0.4666  , 0.4712  ],\n",
              "         [0.6978  , 0.56    , 0.5645  ]],\n",
              "\n",
              "        [[0.0845  , 0.      , 0.      ],\n",
              "         [0.6045  , 0.5024  , 0.4934  ],\n",
              "         [0.64    , 0.5024  , 0.4978  ],\n",
              "         ...,\n",
              "         [0.6265  , 0.4888  , 0.4934  ],\n",
              "         [0.507   , 0.369   , 0.3733  ],\n",
              "         [0.5776  , 0.44    , 0.4443  ]],\n",
              "\n",
              "        ...,\n",
              "\n",
              "        [[0.1111  , 0.01778 , 0.013336],\n",
              "         [0.76    , 0.6665  , 0.662   ],\n",
              "         [0.7734  , 0.6665  , 0.6665  ],\n",
              "         ...,\n",
              "         [0.6133  , 0.52    , 0.533   ],\n",
              "         [0.676   , 0.582   , 0.5957  ],\n",
              "         [0.738   , 0.6445  , 0.6577  ]],\n",
              "\n",
              "        [[0.12    , 0.02667 , 0.02222 ],\n",
              "         [0.7646  , 0.671   , 0.6665  ],\n",
              "         [0.778   , 0.671   , 0.671   ],\n",
              "         ...,\n",
              "         [0.72    , 0.6265  , 0.64    ],\n",
              "         [0.711   , 0.6177  , 0.6313  ],\n",
              "         [0.6934  , 0.6     , 0.6133  ]],\n",
              "\n",
              "        [[0.0933  , 0.      , 0.      ],\n",
              "         [0.742   , 0.649   , 0.6445  ],\n",
              "         [0.7554  , 0.649   , 0.649   ],\n",
              "         ...,\n",
              "         [0.7466  , 0.6533  , 0.6665  ],\n",
              "         [0.742   , 0.649   , 0.662   ],\n",
              "         [0.742   , 0.649   , 0.662   ]]],\n",
              "\n",
              "\n",
              "       [[[0.      , 0.      , 0.      ],\n",
              "         [0.      , 0.      , 0.      ],\n",
              "         [0.      , 0.      , 0.      ],\n",
              "         ...,\n",
              "         [0.      , 0.      , 0.      ],\n",
              "         [0.      , 0.      , 0.      ],\n",
              "         [0.      , 0.      , 0.      ]],\n",
              "\n",
              "        [[0.      , 0.      , 0.      ],\n",
              "         [0.      , 0.      , 0.      ],\n",
              "         [0.      , 0.      , 0.      ],\n",
              "         ...,\n",
              "         [0.      , 0.      , 0.      ],\n",
              "         [0.      , 0.      , 0.      ],\n",
              "         [0.      , 0.      , 0.      ]],\n",
              "\n",
              "        [[0.      , 0.      , 0.      ],\n",
              "         [0.      , 0.      , 0.      ],\n",
              "         [0.      , 0.      , 0.      ],\n",
              "         ...,\n",
              "         [0.      , 0.      , 0.      ],\n",
              "         [0.      , 0.      , 0.      ],\n",
              "         [0.      , 0.      , 0.      ]],\n",
              "\n",
              "        ...,\n",
              "\n",
              "        [[0.      , 0.      , 0.      ],\n",
              "         [0.      , 0.      , 0.      ],\n",
              "         [0.      , 0.      , 0.      ],\n",
              "         ...,\n",
              "         [0.      , 0.      , 0.      ],\n",
              "         [0.      , 0.      , 0.      ],\n",
              "         [0.      , 0.      , 0.      ]],\n",
              "\n",
              "        [[0.      , 0.      , 0.      ],\n",
              "         [0.      , 0.      , 0.      ],\n",
              "         [0.      , 0.      , 0.      ],\n",
              "         ...,\n",
              "         [0.      , 0.      , 0.      ],\n",
              "         [0.      , 0.      , 0.      ],\n",
              "         [0.      , 0.      , 0.      ]],\n",
              "\n",
              "        [[0.      , 0.      , 0.      ],\n",
              "         [0.      , 0.      , 0.      ],\n",
              "         [0.      , 0.      , 0.      ],\n",
              "         ...,\n",
              "         [0.      , 0.      , 0.      ],\n",
              "         [0.      , 0.      , 0.      ],\n",
              "         [0.      , 0.      , 0.      ]]],\n",
              "\n",
              "\n",
              "       [[[0.511   , 0.4268  , 0.44    ],\n",
              "         [0.5024  , 0.4177  , 0.4312  ],\n",
              "         [0.5645  , 0.48    , 0.4934  ],\n",
              "         ...,\n",
              "         [0.769   , 0.6313  , 0.6445  ],\n",
              "         [0.7466  , 0.609   , 0.622   ],\n",
              "         [0.7153  , 0.5776  , 0.5913  ]],\n",
              "\n",
              "        [[0.4888  , 0.4045  , 0.4177  ],\n",
              "         [0.5156  , 0.4312  , 0.4443  ],\n",
              "         [0.6     , 0.5156  , 0.529   ],\n",
              "         ...,\n",
              "         [0.7646  , 0.6265  , 0.64    ],\n",
              "         [0.742   , 0.6045  , 0.6177  ],\n",
              "         [0.7153  , 0.5776  , 0.5913  ]],\n",
              "\n",
              "        [[0.5513  , 0.4666  , 0.48    ],\n",
              "         [0.689   , 0.6045  , 0.6177  ],\n",
              "         [0.769   , 0.6846  , 0.6978  ],\n",
              "         ...,\n",
              "         [0.751   , 0.6133  , 0.6265  ],\n",
              "         [0.738   , 0.6     , 0.6133  ],\n",
              "         [0.729   , 0.5913  , 0.6045  ]],\n",
              "\n",
              "        ...,\n",
              "\n",
              "        [[0.6533  , 0.5557  , 0.5776  ],\n",
              "         [0.689   , 0.5913  , 0.6133  ],\n",
              "         [0.6045  , 0.507   , 0.529   ],\n",
              "         ...,\n",
              "         [0.542   , 0.409   , 0.4312  ],\n",
              "         [0.6533  , 0.52    , 0.542   ],\n",
              "         [0.6045  , 0.4712  , 0.4934  ]],\n",
              "\n",
              "        [[0.5957  , 0.4978  , 0.52    ],\n",
              "         [0.6177  , 0.52    , 0.542   ],\n",
              "         [0.6     , 0.5024  , 0.5244  ],\n",
              "         ...,\n",
              "         [0.742   , 0.609   , 0.6313  ],\n",
              "         [0.7065  , 0.573   , 0.5957  ],\n",
              "         [0.9067  , 0.7734  , 0.7954  ]],\n",
              "\n",
              "        [[0.5864  , 0.4888  , 0.511   ],\n",
              "         [0.582   , 0.4844  , 0.507   ],\n",
              "         [0.662   , 0.5645  , 0.5864  ],\n",
              "         ...,\n",
              "         [0.676   , 0.542   , 0.5645  ],\n",
              "         [0.533   , 0.4     , 0.422   ],\n",
              "         [0.6665  , 0.533   , 0.5557  ]]]], dtype=float16)"
            ]
          },
          "metadata": {},
          "execution_count": 20
        }
      ]
    },
    {
      "cell_type": "code",
      "source": [
        "image_labels #turns labels/classes into vectors"
      ],
      "metadata": {
        "execution": {
          "iopub.status.busy": "2022-04-25T03:48:06.790344Z",
          "iopub.execute_input": "2022-04-25T03:48:06.790666Z",
          "iopub.status.idle": "2022-04-25T03:48:06.796928Z",
          "shell.execute_reply.started": "2022-04-25T03:48:06.790631Z",
          "shell.execute_reply": "2022-04-25T03:48:06.796156Z"
        },
        "trusted": true,
        "id": "LPeK_V-7GswS",
        "outputId": "ee652a3b-9da7-49c1-b1d1-893143503a2b",
        "colab": {
          "base_uri": "https://localhost:8080/"
        }
      },
      "execution_count": null,
      "outputs": [
        {
          "output_type": "execute_result",
          "data": {
            "text/plain": [
              "array([[0, 0, 0, ..., 0, 0, 0],\n",
              "       [0, 0, 0, ..., 0, 0, 0],\n",
              "       [0, 0, 0, ..., 0, 0, 0],\n",
              "       ...,\n",
              "       [0, 0, 0, ..., 0, 1, 0],\n",
              "       [0, 0, 0, ..., 0, 1, 0],\n",
              "       [0, 0, 0, ..., 0, 1, 0]])"
            ]
          },
          "metadata": {},
          "execution_count": 21
        }
      ]
    },
    {
      "cell_type": "code",
      "source": [
        "from sklearn.model_selection import train_test_split #split your dataset into subsets that minimize the potential for bias in your evaluation and validation process.\n",
        "print(\"[INFO] Spliting data to train, test\")\n",
        "#x for oject to be identified in image, y for class labels\n",
        "x_train, x_test_temp, y_train, y_test_temp = train_test_split(np_image_list, image_labels, test_size=0.2, random_state = 42) #x 2D array, y 1D array. test size=20% of the images. control randomization"
      ],
      "metadata": {
        "execution": {
          "iopub.status.busy": "2022-04-25T03:48:06.798225Z",
          "iopub.execute_input": "2022-04-25T03:48:06.799106Z",
          "iopub.status.idle": "2022-04-25T03:48:07.646573Z",
          "shell.execute_reply.started": "2022-04-25T03:48:06.799072Z",
          "shell.execute_reply": "2022-04-25T03:48:07.645843Z"
        },
        "trusted": true,
        "id": "n--y3c_AGswT",
        "outputId": "35f3a4bc-532a-4867-c42c-03b9206cb0b3",
        "colab": {
          "base_uri": "https://localhost:8080/"
        }
      },
      "execution_count": null,
      "outputs": [
        {
          "output_type": "stream",
          "name": "stdout",
          "text": [
            "[INFO] Spliting data to train, test\n"
          ]
        }
      ]
    },
    {
      "cell_type": "code",
      "source": [
        "print(\"[INFO] Spliting data to test, valid\")\n",
        "x_valid, x_test, y_valid, y_test = train_test_split(x_test_temp, y_test_temp, test_size=0.5, random_state = 42) #same but 50%. ensure test result is correct."
      ],
      "metadata": {
        "execution": {
          "iopub.status.busy": "2022-04-25T03:48:07.647859Z",
          "iopub.execute_input": "2022-04-25T03:48:07.648133Z",
          "iopub.status.idle": "2022-04-25T03:48:07.794716Z",
          "shell.execute_reply.started": "2022-04-25T03:48:07.6481Z",
          "shell.execute_reply": "2022-04-25T03:48:07.793914Z"
        },
        "trusted": true,
        "id": "qUuUWCSDGswT",
        "outputId": "897ccaaf-17e7-4b42-e835-06bf6dbd0035",
        "colab": {
          "base_uri": "https://localhost:8080/"
        }
      },
      "execution_count": null,
      "outputs": [
        {
          "output_type": "stream",
          "name": "stdout",
          "text": [
            "[INFO] Spliting data to test, valid\n"
          ]
        }
      ]
    },
    {
      "cell_type": "code",
      "source": [
        "x_train.shape , x_test.shape , x_valid.shape #it is a tuple of integers that describe how many dimensions the tensor has along each axis. number of images, length, width, depth"
      ],
      "metadata": {
        "execution": {
          "iopub.status.busy": "2022-04-25T03:48:07.796338Z",
          "iopub.execute_input": "2022-04-25T03:48:07.797288Z",
          "iopub.status.idle": "2022-04-25T03:48:07.803747Z",
          "shell.execute_reply.started": "2022-04-25T03:48:07.797249Z",
          "shell.execute_reply": "2022-04-25T03:48:07.803Z"
        },
        "trusted": true,
        "id": "Ca8SVQ0OGswT",
        "outputId": "b3264fda-58a0-48df-aa60-2d91479a4bf9",
        "colab": {
          "base_uri": "https://localhost:8080/"
        }
      },
      "execution_count": null,
      "outputs": [
        {
          "output_type": "execute_result",
          "data": {
            "text/plain": [
              "((1920, 256, 256, 3), (240, 256, 256, 3), (240, 256, 256, 3))"
            ]
          },
          "metadata": {},
          "execution_count": 24
        }
      ]
    },
    {
      "cell_type": "code",
      "source": [
        "#change image direction and angle\n",
        "aug = ImageDataGenerator(\n",
        "    rotation_range=25, width_shift_range=0.1,\n",
        "    height_shift_range=0.1, shear_range=0.2,\n",
        "    zoom_range=0.2,horizontal_flip=True,\n",
        "    fill_mode=\"nearest\")"
      ],
      "metadata": {
        "execution": {
          "iopub.status.busy": "2022-04-25T03:48:07.805155Z",
          "iopub.execute_input": "2022-04-25T03:48:07.805679Z",
          "iopub.status.idle": "2022-04-25T03:48:07.812486Z",
          "shell.execute_reply.started": "2022-04-25T03:48:07.805644Z",
          "shell.execute_reply": "2022-04-25T03:48:07.81148Z"
        },
        "trusted": true,
        "id": "KnqNY50oGswT"
      },
      "execution_count": null,
      "outputs": []
    },
    {
      "cell_type": "code",
      "source": [
        "#A Sequential model is appropriate for a plain stack of layers where each layer has exactly one input tensor and one output tensor. a tensor is a list of lists.\n",
        "#conv layer learn specific features to differntiate objects, such as color, image depth and volume, shape, space and so on\n",
        "#actviatio layers follow conv layers, take input and then output the positive values as is, and turn negative values into 0. to reduce nonlinearity.\n",
        "#ReLu neurons can indeed effectively ignore some input values. This is a good thing. The neurons are coupled to the inputs via trained weights, so some inputs are ignored by some neurons and other inputs are ignored by other neurons. It allows weights in the subsequent layers to focus on interesting subsets of your input space\n",
        "#pool layers resizes the input and exists between each conv layer and the next conv layer\n",
        "#brachnormalize layer are used to normalize the activations of a given input volume before passing it into the next layer in the network. reducing the number of epochs it takes to train a neural network. Batch normalization also has the added benefit of helping “stabilize” training, allowing for a larger variety of learning rates and regularization strengths.\n",
        "#dropout layer, a form of regularization that aims to help prevent overfitting by increasing testing accuracy, at the expense of training accuracy. For each mini-batch in our training set, dropout layers, with probability p, randomly disconnect inputs from the preceding layer to the next layer in the network architecture.\n",
        "#dropout layer  Randomly dropping connections ensures that no single node in the network is responsible for “activating” when presented with a given pattern. Instead, dropout ensures there are multiple, redundant nodes that will activate when presented with similar inputs — this, in turn, helps our model to generalize.\n",
        "#The dense layer is a neural network layer that is connected deeply, which means each neuron in the dense layer receives input from all neurons of its previous layer.\n",
        "#The output generated by the dense layer is an ‘m’ dimensional vector. Thus, dense layer is basically used for changing the dimensions of the vector. Dense layers also applies operations like rotation, scaling, translation on the vector.\n",
        "#flatten our pooled feature map into a column like in the image below. The reason we do this is that we're going to need to insert this data into an artificial neural network later on.\n",
        "\n",
        "model = Sequential()\n",
        "inputShape = (height, width, depth)\n",
        "chanDim = -1\n",
        "if K.image_data_format() == \"channels_first\":\n",
        "    inputShape = (depth, height, width)\n",
        "    chanDim = 1\n",
        "model.add(Conv2D(32, (3, 3), padding=\"same\",input_shape=inputShape))\n",
        "model.add(Activation(\"relu\"))\n",
        "model.add(BatchNormalization(axis=chanDim))\n",
        "model.add(MaxPooling2D(pool_size=(3, 3)))\n",
        "#model.add(Dropout(0.25))\n",
        "model.add(Conv2D(64, (3, 3), padding=\"same\"))\n",
        "model.add(Activation(\"relu\"))\n",
        "model.add(BatchNormalization(axis=chanDim))\n",
        "model.add(Conv2D(64, (3, 3), padding=\"same\"))\n",
        "model.add(Activation(\"relu\"))\n",
        "model.add(BatchNormalization(axis=chanDim))\n",
        "model.add(MaxPooling2D(pool_size=(2, 2)))\n",
        "#model.add(Dropout(0.25))\n",
        "model.add(Conv2D(128, (3, 3), padding=\"same\"))\n",
        "model.add(Activation(\"relu\"))\n",
        "model.add(BatchNormalization(axis=chanDim))\n",
        "model.add(Conv2D(128, (3, 3), padding=\"same\"))\n",
        "model.add(Activation(\"relu\"))\n",
        "model.add(BatchNormalization(axis=chanDim))\n",
        "model.add(MaxPooling2D(pool_size=(2, 2)))\n",
        "#model.add(Dropout(0.25))\n",
        "model.add(Flatten())\n",
        "model.add(Dense(1024))\n",
        "model.add(Activation(\"relu\"))\n",
        "model.add(BatchNormalization())\n",
        "model.add(Dropout(0.25))\n",
        "model.add(Dense(n_classes))\n",
        "model.add(Activation(\"softmax\"))"
      ],
      "metadata": {
        "execution": {
          "iopub.status.busy": "2022-04-25T03:48:07.814145Z",
          "iopub.execute_input": "2022-04-25T03:48:07.814786Z",
          "iopub.status.idle": "2022-04-25T03:48:07.970214Z",
          "shell.execute_reply.started": "2022-04-25T03:48:07.814751Z",
          "shell.execute_reply": "2022-04-25T03:48:07.969467Z"
        },
        "trusted": true,
        "id": "yiy93RCwGswT"
      },
      "execution_count": null,
      "outputs": []
    },
    {
      "cell_type": "code",
      "source": [
        "model.summary() #summary of the above block"
      ],
      "metadata": {
        "execution": {
          "iopub.status.busy": "2022-04-25T03:48:07.971686Z",
          "iopub.execute_input": "2022-04-25T03:48:07.971997Z",
          "iopub.status.idle": "2022-04-25T03:48:07.992243Z",
          "shell.execute_reply.started": "2022-04-25T03:48:07.97196Z",
          "shell.execute_reply": "2022-04-25T03:48:07.991518Z"
        },
        "trusted": true,
        "id": "hpNjCvkQGswU",
        "outputId": "b1b45dc0-feac-4bd1-824c-7f5ad92430ed",
        "colab": {
          "base_uri": "https://localhost:8080/"
        }
      },
      "execution_count": null,
      "outputs": [
        {
          "output_type": "stream",
          "name": "stdout",
          "text": [
            "Model: \"sequential\"\n",
            "_________________________________________________________________\n",
            " Layer (type)                Output Shape              Param #   \n",
            "=================================================================\n",
            " conv2d (Conv2D)             (None, 256, 256, 32)      896       \n",
            "                                                                 \n",
            " activation (Activation)     (None, 256, 256, 32)      0         \n",
            "                                                                 \n",
            " batch_normalization (Batch  (None, 256, 256, 32)      128       \n",
            " Normalization)                                                  \n",
            "                                                                 \n",
            " max_pooling2d (MaxPooling2  (None, 85, 85, 32)        0         \n",
            " D)                                                              \n",
            "                                                                 \n",
            " conv2d_1 (Conv2D)           (None, 85, 85, 64)        18496     \n",
            "                                                                 \n",
            " activation_1 (Activation)   (None, 85, 85, 64)        0         \n",
            "                                                                 \n",
            " batch_normalization_1 (Bat  (None, 85, 85, 64)        256       \n",
            " chNormalization)                                                \n",
            "                                                                 \n",
            " conv2d_2 (Conv2D)           (None, 85, 85, 64)        36928     \n",
            "                                                                 \n",
            " activation_2 (Activation)   (None, 85, 85, 64)        0         \n",
            "                                                                 \n",
            " batch_normalization_2 (Bat  (None, 85, 85, 64)        256       \n",
            " chNormalization)                                                \n",
            "                                                                 \n",
            " max_pooling2d_1 (MaxPoolin  (None, 42, 42, 64)        0         \n",
            " g2D)                                                            \n",
            "                                                                 \n",
            " conv2d_3 (Conv2D)           (None, 42, 42, 128)       73856     \n",
            "                                                                 \n",
            " activation_3 (Activation)   (None, 42, 42, 128)       0         \n",
            "                                                                 \n",
            " batch_normalization_3 (Bat  (None, 42, 42, 128)       512       \n",
            " chNormalization)                                                \n",
            "                                                                 \n",
            " conv2d_4 (Conv2D)           (None, 42, 42, 128)       147584    \n",
            "                                                                 \n",
            " activation_4 (Activation)   (None, 42, 42, 128)       0         \n",
            "                                                                 \n",
            " batch_normalization_4 (Bat  (None, 42, 42, 128)       512       \n",
            " chNormalization)                                                \n",
            "                                                                 \n",
            " max_pooling2d_2 (MaxPoolin  (None, 21, 21, 128)       0         \n",
            " g2D)                                                            \n",
            "                                                                 \n",
            " flatten (Flatten)           (None, 56448)             0         \n",
            "                                                                 \n",
            " dense (Dense)               (None, 1024)              57803776  \n",
            "                                                                 \n",
            " activation_5 (Activation)   (None, 1024)              0         \n",
            "                                                                 \n",
            " batch_normalization_5 (Bat  (None, 1024)              4096      \n",
            " chNormalization)                                                \n",
            "                                                                 \n",
            " dropout (Dropout)           (None, 1024)              0         \n",
            "                                                                 \n",
            " dense_1 (Dense)             (None, 12)                12300     \n",
            "                                                                 \n",
            " activation_6 (Activation)   (None, 12)                0         \n",
            "                                                                 \n",
            "=================================================================\n",
            "Total params: 58099596 (221.63 MB)\n",
            "Trainable params: 58096716 (221.62 MB)\n",
            "Non-trainable params: 2880 (11.25 KB)\n",
            "_________________________________________________________________\n"
          ]
        }
      ]
    },
    {
      "cell_type": "code",
      "source": [
        "#An optimizer is one of the two arguments required for compiling a Keras model. Adam is an optimizer. helps in tuning the parameters of a model to minimize the loss function. loss function which tell us how much the predicted output of the model differs from the actual output.\n",
        "opt = Adam(learning_rate=INIT_LR/ EPOCHS) #1e-3/40, train test validate for 40 cycles\n",
        "# distribution\n",
        "model.compile(loss=\"binary_crossentropy\", optimizer=opt,metrics=[\"accuracy\"]) #combile the model with the layers and the optimizer defined above to begin training\n",
        "# train the network\n",
        "print(\"[INFO] training network...\")"
      ],
      "metadata": {
        "execution": {
          "iopub.status.busy": "2022-04-25T03:48:07.994623Z",
          "iopub.execute_input": "2022-04-25T03:48:07.994829Z",
          "iopub.status.idle": "2022-04-25T03:48:08.010108Z",
          "shell.execute_reply.started": "2022-04-25T03:48:07.994787Z",
          "shell.execute_reply": "2022-04-25T03:48:08.009392Z"
        },
        "trusted": true,
        "id": "uQqJWswrGswU",
        "outputId": "39b804ec-c59d-41ef-b7f2-2dbf9195982a",
        "colab": {
          "base_uri": "https://localhost:8080/"
        }
      },
      "execution_count": null,
      "outputs": [
        {
          "output_type": "stream",
          "name": "stdout",
          "text": [
            "[INFO] training network...\n"
          ]
        }
      ]
    },
    {
      "cell_type": "code",
      "source": [
        "#fit_generator supports augumentation. images are given to model to train by associating pictures/objects with labels, and validate.\n",
        "history = model.fit_generator(\n",
        "    aug.flow(x_train, y_train, batch_size=BS), #x for images, y for labels\n",
        "    validation_data=(x_valid, y_valid),\n",
        "    steps_per_epoch=len(x_train) // BS, #Total number of steps (batches of samples) to yield from generator before declaring one epoch finished and starting the next epoch=images array length//batch size. // for rounded integer result.\n",
        "    epochs=EPOCHS, verbose=1 #to draw the arrow\n",
        "    )"
      ],
      "metadata": {
        "execution": {
          "iopub.status.busy": "2022-04-25T03:48:16.343774Z",
          "iopub.execute_input": "2022-04-25T03:48:16.344315Z",
          "iopub.status.idle": "2022-04-25T03:48:23.314241Z",
          "shell.execute_reply.started": "2022-04-25T03:48:16.344277Z",
          "shell.execute_reply": "2022-04-25T03:48:23.311862Z"
        },
        "trusted": true,
        "id": "_5WtPW91GswU",
        "outputId": "07b0a522-8d42-4649-9d7f-51c8a0396e8c",
        "colab": {
          "base_uri": "https://localhost:8080/"
        }
      },
      "execution_count": null,
      "outputs": [
        {
          "metadata": {
            "tags": null
          },
          "name": "stderr",
          "output_type": "stream",
          "text": [
            "<ipython-input-29-3cb6ff29eaf8>:1: UserWarning: `Model.fit_generator` is deprecated and will be removed in a future version. Please use `Model.fit`, which supports generators.\n",
            "  history = model.fit_generator(\n"
          ]
        },
        {
          "output_type": "stream",
          "name": "stdout",
          "text": [
            "Epoch 1/40\n",
            "60/60 [==============================] - 530s 9s/step - loss: 0.7839 - accuracy: 0.4792 - val_loss: 0.7768 - val_accuracy: 0.0583\n",
            "Epoch 2/40\n",
            "60/60 [==============================] - 521s 9s/step - loss: 0.6837 - accuracy: 0.6448 - val_loss: 1.1253 - val_accuracy: 0.0583\n",
            "Epoch 3/40\n",
            "60/60 [==============================] - 522s 9s/step - loss: 0.6411 - accuracy: 0.7083 - val_loss: 1.3695 - val_accuracy: 0.0583\n",
            "Epoch 4/40\n",
            "60/60 [==============================] - 516s 9s/step - loss: 0.6111 - accuracy: 0.7359 - val_loss: 1.5326 - val_accuracy: 0.0583\n",
            "Epoch 5/40\n",
            "60/60 [==============================] - 510s 8s/step - loss: 0.5910 - accuracy: 0.7651 - val_loss: 1.3255 - val_accuracy: 0.0583\n",
            "Epoch 6/40\n",
            "60/60 [==============================] - 517s 9s/step - loss: 0.5651 - accuracy: 0.8062 - val_loss: 1.1991 - val_accuracy: 0.1292\n",
            "Epoch 7/40\n",
            "60/60 [==============================] - 511s 8s/step - loss: 0.5571 - accuracy: 0.8177 - val_loss: 0.9361 - val_accuracy: 0.2667\n",
            "Epoch 8/40\n",
            "60/60 [==============================] - 511s 9s/step - loss: 0.5404 - accuracy: 0.8297 - val_loss: 0.7686 - val_accuracy: 0.4167\n",
            "Epoch 9/40\n",
            "60/60 [==============================] - 499s 8s/step - loss: 0.5181 - accuracy: 0.8448 - val_loss: 0.5733 - val_accuracy: 0.6000\n",
            "Epoch 10/40\n",
            "60/60 [==============================] - 501s 8s/step - loss: 0.5060 - accuracy: 0.8547 - val_loss: 0.5310 - val_accuracy: 0.7625\n",
            "Epoch 11/40\n",
            "60/60 [==============================] - 506s 8s/step - loss: 0.5015 - accuracy: 0.8568 - val_loss: 0.5040 - val_accuracy: 0.7750\n",
            "Epoch 12/40\n",
            "60/60 [==============================] - 506s 8s/step - loss: 0.4822 - accuracy: 0.8604 - val_loss: 0.5293 - val_accuracy: 0.7875\n",
            "Epoch 13/40\n",
            "60/60 [==============================] - 500s 8s/step - loss: 0.4748 - accuracy: 0.8719 - val_loss: 0.5120 - val_accuracy: 0.7917\n",
            "Epoch 14/40\n",
            "60/60 [==============================] - 504s 8s/step - loss: 0.4643 - accuracy: 0.8693 - val_loss: 0.5391 - val_accuracy: 0.7667\n",
            "Epoch 15/40\n",
            "60/60 [==============================] - 505s 8s/step - loss: 0.4551 - accuracy: 0.8786 - val_loss: 0.5621 - val_accuracy: 0.7500\n",
            "Epoch 16/40\n",
            "60/60 [==============================] - 502s 8s/step - loss: 0.4439 - accuracy: 0.8917 - val_loss: 0.5956 - val_accuracy: 0.7542\n",
            "Epoch 17/40\n",
            "60/60 [==============================] - 502s 8s/step - loss: 0.4297 - accuracy: 0.8844 - val_loss: 0.5921 - val_accuracy: 0.7417\n",
            "Epoch 18/40\n",
            "60/60 [==============================] - 505s 8s/step - loss: 0.4206 - accuracy: 0.8906 - val_loss: 0.5456 - val_accuracy: 0.7542\n",
            "Epoch 19/40\n",
            "60/60 [==============================] - 497s 8s/step - loss: 0.4127 - accuracy: 0.8870 - val_loss: 0.5440 - val_accuracy: 0.7792\n",
            "Epoch 20/40\n",
            "60/60 [==============================] - 489s 8s/step - loss: 0.3944 - accuracy: 0.8995 - val_loss: 0.4668 - val_accuracy: 0.7958\n",
            "Epoch 21/40\n",
            "60/60 [==============================] - 489s 8s/step - loss: 0.3898 - accuracy: 0.8932 - val_loss: 0.5612 - val_accuracy: 0.7875\n",
            "Epoch 22/40\n",
            "60/60 [==============================] - 485s 8s/step - loss: 0.3796 - accuracy: 0.9094 - val_loss: 0.4997 - val_accuracy: 0.7583\n",
            "Epoch 23/40\n",
            "60/60 [==============================] - 481s 8s/step - loss: 0.3712 - accuracy: 0.9021 - val_loss: 0.5495 - val_accuracy: 0.7542\n",
            "Epoch 24/40\n",
            "60/60 [==============================] - 483s 8s/step - loss: 0.3566 - accuracy: 0.9078 - val_loss: 0.4403 - val_accuracy: 0.8417\n",
            "Epoch 25/40\n",
            "60/60 [==============================] - 496s 8s/step - loss: 0.3520 - accuracy: 0.9099 - val_loss: 0.4935 - val_accuracy: 0.7917\n",
            "Epoch 26/40\n",
            "60/60 [==============================] - 483s 8s/step - loss: 0.3395 - accuracy: 0.9146 - val_loss: 0.4911 - val_accuracy: 0.7833\n",
            "Epoch 27/40\n",
            "60/60 [==============================] - 484s 8s/step - loss: 0.3285 - accuracy: 0.9120 - val_loss: 0.4761 - val_accuracy: 0.8083\n",
            "Epoch 28/40\n",
            "60/60 [==============================] - 483s 8s/step - loss: 0.3205 - accuracy: 0.9297 - val_loss: 0.3876 - val_accuracy: 0.8417\n",
            "Epoch 29/40\n",
            "60/60 [==============================] - 475s 8s/step - loss: 0.3128 - accuracy: 0.9286 - val_loss: 0.4517 - val_accuracy: 0.8042\n",
            "Epoch 30/40\n",
            "60/60 [==============================] - 483s 8s/step - loss: 0.3041 - accuracy: 0.9271 - val_loss: 0.4379 - val_accuracy: 0.8083\n",
            "Epoch 31/40\n",
            "60/60 [==============================] - 477s 8s/step - loss: 0.2936 - accuracy: 0.9245 - val_loss: 0.4767 - val_accuracy: 0.7958\n",
            "Epoch 32/40\n",
            "60/60 [==============================] - 485s 8s/step - loss: 0.2842 - accuracy: 0.9286 - val_loss: 0.4648 - val_accuracy: 0.7917\n",
            "Epoch 33/40\n",
            "60/60 [==============================] - 484s 8s/step - loss: 0.2724 - accuracy: 0.9312 - val_loss: 0.3635 - val_accuracy: 0.8375\n",
            "Epoch 34/40\n",
            "60/60 [==============================] - 482s 8s/step - loss: 0.2676 - accuracy: 0.9318 - val_loss: 0.3881 - val_accuracy: 0.8208\n",
            "Epoch 35/40\n",
            "60/60 [==============================] - 487s 8s/step - loss: 0.2589 - accuracy: 0.9359 - val_loss: 0.3792 - val_accuracy: 0.8750\n",
            "Epoch 36/40\n",
            "60/60 [==============================] - 463s 8s/step - loss: 0.2510 - accuracy: 0.9333 - val_loss: 0.3716 - val_accuracy: 0.8417\n",
            "Epoch 37/40\n",
            "60/60 [==============================] - 438s 7s/step - loss: 0.2393 - accuracy: 0.9406 - val_loss: 0.3336 - val_accuracy: 0.8542\n",
            "Epoch 38/40\n",
            "60/60 [==============================] - 443s 7s/step - loss: 0.2356 - accuracy: 0.9370 - val_loss: 0.3780 - val_accuracy: 0.8167\n",
            "Epoch 39/40\n",
            "60/60 [==============================] - 448s 7s/step - loss: 0.2273 - accuracy: 0.9370 - val_loss: 0.3506 - val_accuracy: 0.8167\n",
            "Epoch 40/40\n",
            "60/60 [==============================] - 449s 7s/step - loss: 0.2193 - accuracy: 0.9401 - val_loss: 0.3501 - val_accuracy: 0.8417\n"
          ]
        }
      ]
    },
    {
      "cell_type": "code",
      "source": [
        "history.history #You can use the data collected in the history object to create plots."
      ],
      "metadata": {
        "execution": {
          "iopub.status.busy": "2022-04-25T03:44:22.915904Z",
          "iopub.status.idle": "2022-04-25T03:44:22.91684Z",
          "shell.execute_reply.started": "2022-04-25T03:44:22.916585Z",
          "shell.execute_reply": "2022-04-25T03:44:22.916608Z"
        },
        "trusted": true,
        "id": "TKh81DdZGswU",
        "outputId": "42f42ae6-885b-4331-ef85-82e0f8d171f0",
        "colab": {
          "base_uri": "https://localhost:8080/"
        }
      },
      "execution_count": null,
      "outputs": [
        {
          "output_type": "execute_result",
          "data": {
            "text/plain": [
              "{'loss': [0.7839224338531494,\n",
              "  0.6837300658226013,\n",
              "  0.641144871711731,\n",
              "  0.6111262440681458,\n",
              "  0.5910233855247498,\n",
              "  0.565096914768219,\n",
              "  0.557083010673523,\n",
              "  0.5403904318809509,\n",
              "  0.5181331038475037,\n",
              "  0.5059694051742554,\n",
              "  0.5014859437942505,\n",
              "  0.48220571875572205,\n",
              "  0.47479158639907837,\n",
              "  0.46433261036872864,\n",
              "  0.45512154698371887,\n",
              "  0.4439431428909302,\n",
              "  0.4297308027744293,\n",
              "  0.42062538862228394,\n",
              "  0.41266778111457825,\n",
              "  0.39443856477737427,\n",
              "  0.389750212430954,\n",
              "  0.3796248137950897,\n",
              "  0.3711930513381958,\n",
              "  0.356620192527771,\n",
              "  0.3519744873046875,\n",
              "  0.33953920006752014,\n",
              "  0.32846030592918396,\n",
              "  0.32052311301231384,\n",
              "  0.3127725422382355,\n",
              "  0.30406197905540466,\n",
              "  0.29358333349227905,\n",
              "  0.28417107462882996,\n",
              "  0.27243772149086,\n",
              "  0.267617791891098,\n",
              "  0.2588818371295929,\n",
              "  0.25099167227745056,\n",
              "  0.2393360733985901,\n",
              "  0.23557493090629578,\n",
              "  0.22732168436050415,\n",
              "  0.21925140917301178],\n",
              " 'accuracy': [0.4791666567325592,\n",
              "  0.6447916626930237,\n",
              "  0.7083333134651184,\n",
              "  0.7359374761581421,\n",
              "  0.7651041746139526,\n",
              "  0.8062499761581421,\n",
              "  0.8177083134651184,\n",
              "  0.8296874761581421,\n",
              "  0.8447916507720947,\n",
              "  0.854687511920929,\n",
              "  0.8567708134651184,\n",
              "  0.8604166507720947,\n",
              "  0.871874988079071,\n",
              "  0.8692708611488342,\n",
              "  0.8786458373069763,\n",
              "  0.8916666507720947,\n",
              "  0.8843749761581421,\n",
              "  0.890625,\n",
              "  0.8869791626930237,\n",
              "  0.8994791507720947,\n",
              "  0.8932291865348816,\n",
              "  0.909375011920929,\n",
              "  0.9020833373069763,\n",
              "  0.9078124761581421,\n",
              "  0.9098958373069763,\n",
              "  0.9145833253860474,\n",
              "  0.9119791388511658,\n",
              "  0.9296875,\n",
              "  0.9286458492279053,\n",
              "  0.9270833134651184,\n",
              "  0.9244791865348816,\n",
              "  0.9286458492279053,\n",
              "  0.9312499761581421,\n",
              "  0.9317708611488342,\n",
              "  0.9359375238418579,\n",
              "  0.9333333373069763,\n",
              "  0.940625011920929,\n",
              "  0.9369791746139526,\n",
              "  0.9369791746139526,\n",
              "  0.9401041865348816],\n",
              " 'val_loss': [0.7768037915229797,\n",
              "  1.1252599954605103,\n",
              "  1.369524359703064,\n",
              "  1.5325630903244019,\n",
              "  1.3254621028900146,\n",
              "  1.1990694999694824,\n",
              "  0.9361277222633362,\n",
              "  0.7686088681221008,\n",
              "  0.5733247399330139,\n",
              "  0.5310407280921936,\n",
              "  0.5040328502655029,\n",
              "  0.5293285250663757,\n",
              "  0.5119639039039612,\n",
              "  0.539111316204071,\n",
              "  0.5620568990707397,\n",
              "  0.5956009030342102,\n",
              "  0.5921193361282349,\n",
              "  0.5456004738807678,\n",
              "  0.5439968109130859,\n",
              "  0.46679484844207764,\n",
              "  0.5612322688102722,\n",
              "  0.49966421723365784,\n",
              "  0.549509584903717,\n",
              "  0.44027024507522583,\n",
              "  0.49346911907196045,\n",
              "  0.4910520613193512,\n",
              "  0.4761132597923279,\n",
              "  0.38757091760635376,\n",
              "  0.45166367292404175,\n",
              "  0.4378888010978699,\n",
              "  0.4767168164253235,\n",
              "  0.46481743454933167,\n",
              "  0.36350318789482117,\n",
              "  0.3881071209907532,\n",
              "  0.37923452258110046,\n",
              "  0.3715788424015045,\n",
              "  0.33363908529281616,\n",
              "  0.37801918387413025,\n",
              "  0.3505934774875641,\n",
              "  0.35014215111732483],\n",
              " 'val_accuracy': [0.05833333358168602,\n",
              "  0.05833333358168602,\n",
              "  0.05833333358168602,\n",
              "  0.05833333358168602,\n",
              "  0.05833333358168602,\n",
              "  0.12916666269302368,\n",
              "  0.2666666805744171,\n",
              "  0.4166666567325592,\n",
              "  0.6000000238418579,\n",
              "  0.762499988079071,\n",
              "  0.7749999761581421,\n",
              "  0.7875000238418579,\n",
              "  0.7916666865348816,\n",
              "  0.7666666507720947,\n",
              "  0.75,\n",
              "  0.7541666626930237,\n",
              "  0.7416666746139526,\n",
              "  0.7541666626930237,\n",
              "  0.7791666388511658,\n",
              "  0.7958333492279053,\n",
              "  0.7875000238418579,\n",
              "  0.7583333253860474,\n",
              "  0.7541666626930237,\n",
              "  0.8416666388511658,\n",
              "  0.7916666865348816,\n",
              "  0.7833333611488342,\n",
              "  0.8083333373069763,\n",
              "  0.8416666388511658,\n",
              "  0.8041666746139526,\n",
              "  0.8083333373069763,\n",
              "  0.7958333492279053,\n",
              "  0.7916666865348816,\n",
              "  0.8374999761581421,\n",
              "  0.8208333253860474,\n",
              "  0.875,\n",
              "  0.8416666388511658,\n",
              "  0.8541666865348816,\n",
              "  0.8166666626930237,\n",
              "  0.8166666626930237,\n",
              "  0.8416666388511658]}"
            ]
          },
          "metadata": {},
          "execution_count": 30
        }
      ]
    },
    {
      "cell_type": "code",
      "source": [
        "#saves history attributes in variables to use them in the plot drawing\n",
        "acc = history.history['accuracy']\n",
        "val_acc = history.history['val_accuracy']\n",
        "loss = history.history['loss']\n",
        "val_loss = history.history['val_loss']\n",
        "epochs = range(1, len(acc) + 1) #starts from 1 to the length of accuracy array+1 because it starts from 0 and will need 1 to make the index from 1-...\n",
        "#Train and validation accuracy. calling methods to draw and passing the variables to it.\n",
        "plt.plot(epochs, acc, 'b', label='Training accurarcy') #blue line\n",
        "plt.plot(epochs, val_acc, 'r', label='Validation accurarcy') #red line\n",
        "plt.title('Training and Validation accurarcy')\n",
        "plt.legend() #marks the dots\n",
        "\n",
        "plt.figure() #draws the overall figure\n",
        "#Train and validation loss\n",
        "plt.plot(epochs, loss, 'b', label='Training loss') #blue line\n",
        "plt.plot(epochs, val_loss, 'r', label='Validation loss') #red line\n",
        "plt.title('Training and Validation loss')\n",
        "plt.legend()\n",
        "plt.show() #outputs the plot"
      ],
      "metadata": {
        "execution": {
          "iopub.status.busy": "2022-04-25T03:44:22.917948Z",
          "iopub.status.idle": "2022-04-25T03:44:22.918761Z",
          "shell.execute_reply.started": "2022-04-25T03:44:22.918522Z",
          "shell.execute_reply": "2022-04-25T03:44:22.918545Z"
        },
        "trusted": true,
        "id": "9hkpiHo4GswV",
        "outputId": "fc4e1cd8-9f04-4291-e802-1e798e95609f",
        "colab": {
          "base_uri": "https://localhost:8080/",
          "height": 887
        }
      },
      "execution_count": null,
      "outputs": [
        {
          "output_type": "display_data",
          "data": {
            "text/plain": [
              "<Figure size 640x480 with 1 Axes>"
            ],
            "image/png": "[encoded data removed]"
          },
          "metadata": {}
        },
        {
          "output_type": "display_data",
          "data": {
            "text/plain": [
              "<Figure size 640x480 with 1 Axes>"
            ],
            "image/png": "[encoded data removed]"
          },
          "metadata": {}
        }
      ]
    },
    {
      "cell_type": "code",
      "source": [
        "print(\"[INFO] Calculating model accuracy\")\n",
        "scores = model.evaluate(x_test, y_test) #test the model with the hidden testing images and classes/labels\n",
        "print(f\"Test Accuracy: {scores[1]*100}\") #accuracy*100 for percentage"
      ],
      "metadata": {
        "execution": {
          "iopub.status.busy": "2022-04-25T03:44:22.919874Z",
          "iopub.status.idle": "2022-04-25T03:44:22.920688Z",
          "shell.execute_reply.started": "2022-04-25T03:44:22.920447Z",
          "shell.execute_reply": "2022-04-25T03:44:22.92047Z"
        },
        "trusted": true,
        "id": "6xC-dwEYGswV",
        "outputId": "b8e16ef0-dbed-4fda-bdea-a7e1e0a5c655",
        "colab": {
          "base_uri": "https://localhost:8080/"
        }
      },
      "execution_count": null,
      "outputs": [
        {
          "output_type": "stream",
          "name": "stdout",
          "text": [
            "[INFO] Calculating model accuracy\n",
            "8/8 [==============================] - 24s 3s/step - loss: 0.3262 - accuracy: 0.8250\n",
            "Test Accuracy: 82.4999988079071\n"
          ]
        }
      ]
    },
    {
      "cell_type": "code",
      "source": [
        "from tensorflow.keras.models import load_model\n",
        "\n",
        "model.save('my_model.h5') #save model"
      ],
      "metadata": {
        "execution": {
          "iopub.status.busy": "2022-04-25T03:44:22.92176Z",
          "iopub.status.idle": "2022-04-25T03:44:22.922598Z",
          "shell.execute_reply.started": "2022-04-25T03:44:22.922341Z",
          "shell.execute_reply": "2022-04-25T03:44:22.922363Z"
        },
        "trusted": true,
        "id": "_Z6sDTfEGswV",
        "outputId": "e61b800a-3cb6-4744-ed07-43637da83c14",
        "colab": {
          "base_uri": "https://localhost:8080/"
        }
      },
      "execution_count": null,
      "outputs": [
        {
          "output_type": "stream",
          "name": "stderr",
          "text": [
            "/usr/local/lib/python3.10/dist-packages/keras/src/engine/training.py:3103: UserWarning: You are saving your model as an HDF5 file via `model.save()`. This file format is considered legacy. We recommend using instead the native Keras format, e.g. `model.save('my_model.keras')`.\n",
            "  saving_api.save_model(\n"
          ]
        }
      ]
    },
    {
      "cell_type": "code",
      "source": [
        "#doesn't work, comments below from the original code\n",
        "#from tensorflow import keras\n",
        "#model = keras.models.load_model('/kaggle/input/my-model/my_model.h5')"
      ],
      "metadata": {
        "execution": {
          "iopub.status.busy": "2022-04-25T03:44:22.92368Z",
          "iopub.status.idle": "2022-04-25T03:44:22.924477Z",
          "shell.execute_reply.started": "2022-04-25T03:44:22.924245Z",
          "shell.execute_reply": "2022-04-25T03:44:22.924267Z"
        },
        "trusted": true,
        "id": "4msQz7y-GswW"
      },
      "execution_count": null,
      "outputs": []
    },
    {
      "cell_type": "code",
      "source": [
        "#enables us to predict the labels of the data values on the basis of the trained model. accepts only a single argument which is usually the data to be tested.\n",
        "predicted = model.predict(x_test)\n",
        "predicted"
      ],
      "metadata": {
        "execution": {
          "iopub.status.busy": "2022-04-25T03:44:22.925564Z",
          "iopub.status.idle": "2022-04-25T03:44:22.926391Z",
          "shell.execute_reply.started": "2022-04-25T03:44:22.926152Z",
          "shell.execute_reply": "2022-04-25T03:44:22.926175Z"
        },
        "trusted": true,
        "id": "5Gr0DBTdGswW",
        "outputId": "19ec97c6-f4ad-42ef-a007-6ec71f8fcef0",
        "colab": {
          "base_uri": "https://localhost:8080/"
        }
      },
      "execution_count": null,
      "outputs": [
        {
          "output_type": "stream",
          "name": "stdout",
          "text": [
            "8/8 [==============================] - 18s 2s/step\n"
          ]
        },
        {
          "output_type": "execute_result",
          "data": {
            "text/plain": [
              "array([[1.41563960e-05, 2.03774849e-04, 1.08371387e-04, ...,\n",
              "        1.81060735e-04, 1.69544073e-04, 1.70884741e-04],\n",
              "       [3.61544488e-04, 1.02994335e-03, 6.54482424e-01, ...,\n",
              "        3.81356478e-03, 6.14158576e-04, 4.91793326e-04],\n",
              "       [1.10457651e-03, 1.39947911e-03, 7.99617078e-03, ...,\n",
              "        1.22939855e-01, 1.51048857e-03, 2.57550865e-01],\n",
              "       ...,\n",
              "       [9.47564338e-09, 1.68532754e-09, 1.40379495e-08, ...,\n",
              "        2.27078321e-08, 9.99999464e-01, 1.91832925e-07],\n",
              "       [3.96975130e-03, 5.66712767e-03, 3.97212198e-03, ...,\n",
              "        2.60378476e-02, 5.46541670e-03, 5.46374125e-03],\n",
              "       [1.25998121e-25, 9.98005557e-26, 8.20686451e-26, ...,\n",
              "        2.84725366e-25, 2.80740213e-25, 4.50949686e-26]], dtype=float32)"
            ]
          },
          "metadata": {},
          "execution_count": 37
        }
      ]
    },
    {
      "cell_type": "code",
      "source": [
        "truth = y_test #labels/classes to be compared against to see if model got it right. saved to the truth variable.\n",
        "truth"
      ],
      "metadata": {
        "execution": {
          "iopub.status.busy": "2022-04-25T03:44:22.927494Z",
          "iopub.status.idle": "2022-04-25T03:44:22.92836Z",
          "shell.execute_reply.started": "2022-04-25T03:44:22.928117Z",
          "shell.execute_reply": "2022-04-25T03:44:22.928152Z"
        },
        "trusted": true,
        "id": "Y106wENYGswW",
        "outputId": "64bd6d45-ba6c-48a6-8397-e307bfbfad8c",
        "colab": {
          "base_uri": "https://localhost:8080/"
        }
      },
      "execution_count": null,
      "outputs": [
        {
          "output_type": "execute_result",
          "data": {
            "text/plain": [
              "array([[0, 0, 0, ..., 0, 0, 0],\n",
              "       [0, 0, 1, ..., 0, 0, 0],\n",
              "       [0, 0, 0, ..., 0, 0, 0],\n",
              "       ...,\n",
              "       [0, 0, 0, ..., 0, 1, 0],\n",
              "       [0, 0, 0, ..., 0, 0, 0],\n",
              "       [0, 0, 0, ..., 0, 0, 0]])"
            ]
          },
          "metadata": {},
          "execution_count": 38
        }
      ]
    },
    {
      "cell_type": "code",
      "source": [
        "predicted_temp = predicted\n",
        "predicted[0] #tensor/array of arrays. for index 0. showcasing how close the plant in an image is to the plants the model knows."
      ],
      "metadata": {
        "execution": {
          "iopub.status.busy": "2022-04-25T03:44:22.929424Z",
          "iopub.status.idle": "2022-04-25T03:44:22.930298Z",
          "shell.execute_reply.started": "2022-04-25T03:44:22.930054Z",
          "shell.execute_reply": "2022-04-25T03:44:22.930079Z"
        },
        "trusted": true,
        "id": "UcYOJVxsGswW",
        "outputId": "ea4d82cf-4a89-4db6-c673-4596273ba35e",
        "colab": {
          "base_uri": "https://localhost:8080/"
        }
      },
      "execution_count": null,
      "outputs": [
        {
          "output_type": "execute_result",
          "data": {
            "text/plain": [
              "array([1.4156396e-05, 2.0377485e-04, 1.0837139e-04, 1.4456492e-05,\n",
              "       5.5099576e-05, 1.6951337e-04, 1.5965973e-03, 6.5875465e-05,\n",
              "       9.9725074e-01, 1.8106074e-04, 1.6954407e-04, 1.7088474e-04],\n",
              "      dtype=float32)"
            ]
          },
          "metadata": {},
          "execution_count": 39
        }
      ]
    },
    {
      "cell_type": "code",
      "source": [
        "len(predicted) #indices/number of arrays"
      ],
      "metadata": {
        "execution": {
          "iopub.status.busy": "2022-04-25T03:44:22.931416Z",
          "iopub.status.idle": "2022-04-25T03:44:22.932231Z",
          "shell.execute_reply.started": "2022-04-25T03:44:22.932001Z",
          "shell.execute_reply": "2022-04-25T03:44:22.932025Z"
        },
        "trusted": true,
        "id": "LuoqFkYZGswW",
        "outputId": "d86c6b39-2fc8-47de-c5bc-5211254a23e9",
        "colab": {
          "base_uri": "https://localhost:8080/"
        }
      },
      "execution_count": null,
      "outputs": [
        {
          "output_type": "execute_result",
          "data": {
            "text/plain": [
              "240"
            ]
          },
          "metadata": {},
          "execution_count": 40
        }
      ]
    },
    {
      "cell_type": "code",
      "source": [
        "#for loop.\n",
        "for i in range(0,240): #all arrays within the array\n",
        "    for j in range(0,12): #all images within each inner array\n",
        "        if(predicted[i][j] >= 0.5): #if positive or negative\n",
        "            predicted_temp[i][j] = 1\n",
        "        else:\n",
        "            predicted_temp[i][j] = 0\n",
        "\n",
        "predicted_temp\n",
        "#1 belongs to the class, 0 doesn't belong to the class"
      ],
      "metadata": {
        "execution": {
          "iopub.status.busy": "2022-04-25T03:44:22.933313Z",
          "iopub.status.idle": "2022-04-25T03:44:22.934082Z",
          "shell.execute_reply.started": "2022-04-25T03:44:22.933905Z",
          "shell.execute_reply": "2022-04-25T03:44:22.933927Z"
        },
        "trusted": true,
        "id": "PpnLGA33GswW",
        "outputId": "f0687c84-2edd-415b-e7ff-408415ee3b2b",
        "colab": {
          "base_uri": "https://localhost:8080/"
        }
      },
      "execution_count": null,
      "outputs": [
        {
          "output_type": "execute_result",
          "data": {
            "text/plain": [
              "array([[0., 0., 0., ..., 0., 0., 0.],\n",
              "       [0., 0., 1., ..., 0., 0., 0.],\n",
              "       [0., 0., 0., ..., 0., 0., 0.],\n",
              "       ...,\n",
              "       [0., 0., 0., ..., 0., 1., 0.],\n",
              "       [0., 0., 0., ..., 0., 0., 0.],\n",
              "       [0., 0., 0., ..., 0., 0., 0.]], dtype=float32)"
            ]
          },
          "metadata": {},
          "execution_count": 41
        }
      ]
    },
    {
      "cell_type": "code",
      "source": [
        "predictions = label_binarizer.inverse_transform(predicted_temp) #returns the pictures from binary numbers to normal"
      ],
      "metadata": {
        "execution": {
          "iopub.status.busy": "2022-04-25T03:44:22.935675Z",
          "iopub.status.idle": "2022-04-25T03:44:22.936109Z",
          "shell.execute_reply.started": "2022-04-25T03:44:22.935871Z",
          "shell.execute_reply": "2022-04-25T03:44:22.935893Z"
        },
        "trusted": true,
        "id": "QvSBO2iuGswW"
      },
      "execution_count": null,
      "outputs": []
    },
    {
      "cell_type": "code",
      "source": [
        "truths = label_binarizer.inverse_transform(truth) #erturns the labels from numbers back into classes to be checked"
      ],
      "metadata": {
        "execution": {
          "iopub.status.busy": "2022-04-25T03:44:22.937256Z",
          "iopub.status.idle": "2022-04-25T03:44:22.937935Z",
          "shell.execute_reply.started": "2022-04-25T03:44:22.937686Z",
          "shell.execute_reply": "2022-04-25T03:44:22.937709Z"
        },
        "trusted": true,
        "id": "MXQ8btK0GswX"
      },
      "execution_count": null,
      "outputs": []
    },
    {
      "cell_type": "code",
      "source": [
        "predictions.shape #returns the dimentions of the array"
      ],
      "metadata": {
        "execution": {
          "iopub.status.busy": "2022-04-25T03:44:22.939133Z",
          "iopub.status.idle": "2022-04-25T03:44:22.9396Z",
          "shell.execute_reply.started": "2022-04-25T03:44:22.939358Z",
          "shell.execute_reply": "2022-04-25T03:44:22.93938Z"
        },
        "trusted": true,
        "id": "D58MdQMDGswX",
        "outputId": "2c94a9b5-6f23-451c-c253-b5403e6f0ea4",
        "colab": {
          "base_uri": "https://localhost:8080/"
        }
      },
      "execution_count": null,
      "outputs": [
        {
          "output_type": "execute_result",
          "data": {
            "text/plain": [
              "(240,)"
            ]
          },
          "metadata": {},
          "execution_count": 44
        }
      ]
    },
    {
      "cell_type": "code",
      "source": [
        "truths.shape #same"
      ],
      "metadata": {
        "execution": {
          "iopub.status.busy": "2022-04-25T03:44:22.941531Z",
          "iopub.status.idle": "2022-04-25T03:44:22.942452Z",
          "shell.execute_reply.started": "2022-04-25T03:44:22.942207Z",
          "shell.execute_reply": "2022-04-25T03:44:22.94223Z"
        },
        "trusted": true,
        "id": "fypNp1PLGswX",
        "outputId": "eee1ec05-883e-4e05-9aa7-fc84c9f096dd",
        "colab": {
          "base_uri": "https://localhost:8080/"
        }
      },
      "execution_count": null,
      "outputs": [
        {
          "output_type": "execute_result",
          "data": {
            "text/plain": [
              "(240,)"
            ]
          },
          "metadata": {},
          "execution_count": 45
        }
      ]
    },
    {
      "cell_type": "code",
      "source": [
        "# Source code credit for this function: https://gist.github.com/shaypal5/94c53d765083101efc0240d776a23823\n",
        "#find the issues and mistakes of the model\n",
        "def print_confusion_matrix(confusion_matrix, class_names, figsize = (20,20), fontsize=14):\n",
        "\n",
        "    \"\"\"Prints a confusion matrix, as returned by sklearn.metrics.confusion_matrix, as a heatmap.\n",
        "\n",
        "    Arguments\n",
        "    ---------\n",
        "    confusion_matrix: numpy.ndarray\n",
        "        The numpy.ndarray object returned from a call to sklearn.metrics.confusion_matrix.\n",
        "        Similarly constructed ndarrays can also be used.\n",
        "    class_names: list\n",
        "        An ordered list of class names, in the order they index the given confusion matrix.\n",
        "    figsize: tuple\n",
        "        A 2-long tuple, the first value determining the horizontal size of the ouputted figure,\n",
        "        the second determining the vertical size. Defaults to (10,7).\n",
        "    fontsize: int\n",
        "        Font size for axes labels. Defaults to 14.\n",
        "\n",
        "    Returns\n",
        "    -------\n",
        "    matplotlib.figure.Figure\n",
        "        The resulting confusion matrix figure\n",
        "\n",
        "        Here is a description of the four elements of a confusion matrix:\n",
        "\n",
        "    True Positive (TP): The number of cases in which the model correctly predicted the positive class.\n",
        "    False Positive (FP): The number of cases in which the model predicted the positive class, but it was actually negative.\n",
        "    True Negative (TN): The number of cases in which the model correctly predicted the negative class.\n",
        "    False Negative (FN): The number of cases in which the model predicted the negative class, but it was actually positive\n",
        "    \"\"\"\n",
        "\n",
        "    df_cm = pd.DataFrame(\n",
        "        confusion_matrix, index=class_names, columns=class_names,\n",
        "    )\n",
        "    fig = plt.figure(figsize=figsize)\n",
        "    try:\n",
        "        heatmap = sns.heatmap(df_cm, annot=True, fmt=\"d\")\n",
        "    except ValueError:\n",
        "        raise ValueError(\"Confusion matrix values must be integers.\")\n",
        "    heatmap.yaxis.set_ticklabels(heatmap.yaxis.get_ticklabels(), rotation=0, ha='right', fontsize=fontsize)\n",
        "    heatmap.xaxis.set_ticklabels(heatmap.xaxis.get_ticklabels(), rotation=45, ha='right', fontsize=fontsize)\n",
        "    plt.ylabel('Truth')\n",
        "    plt.xlabel('Prediction')"
      ],
      "metadata": {
        "execution": {
          "iopub.status.busy": "2022-04-25T03:44:22.944104Z",
          "iopub.status.idle": "2022-04-25T03:44:22.945059Z",
          "shell.execute_reply.started": "2022-04-25T03:44:22.944833Z",
          "shell.execute_reply": "2022-04-25T03:44:22.944854Z"
        },
        "trusted": true,
        "id": "2WOw023YGswX"
      },
      "execution_count": null,
      "outputs": []
    },
    {
      "cell_type": "code",
      "source": [
        "from matplotlib import pyplot as plt\n",
        "from sklearn.metrics import confusion_matrix , classification_report\n",
        "import pandas as pd\n",
        "import seaborn as sns\n",
        "\n",
        "cm = confusion_matrix(truths,predictions)\n",
        "print_confusion_matrix(cm,leaf_classs)"
      ],
      "metadata": {
        "execution": {
          "iopub.status.busy": "2022-04-25T03:44:22.946134Z",
          "iopub.status.idle": "2022-04-25T03:44:22.947057Z",
          "shell.execute_reply.started": "2022-04-25T03:44:22.946824Z",
          "shell.execute_reply": "2022-04-25T03:44:22.946847Z"
        },
        "trusted": true,
        "id": "FNrqEjb3Gswc",
        "outputId": "dd4e0e6e-f510-4a28-89ce-755ef9a579ff",
        "colab": {
          "base_uri": "https://localhost:8080/",
          "height": 1000
        }
      },
      "execution_count": null,
      "outputs": [
        {
          "output_type": "display_data",
          "data": {
            "text/plain": [
              "<Figure size 2000x2000 with 2 Axes>"
            ],
            "image/png": "[encoded data removed]"
          },
          "metadata": {}
        }
      ]
    },
    {
      "cell_type": "code",
      "source": [
        "leaf_classs #array with labels as strings"
      ],
      "metadata": {
        "execution": {
          "iopub.status.busy": "2022-04-25T03:44:22.948149Z",
          "iopub.status.idle": "2022-04-25T03:44:22.949072Z",
          "shell.execute_reply.started": "2022-04-25T03:44:22.948838Z",
          "shell.execute_reply": "2022-04-25T03:44:22.948861Z"
        },
        "trusted": true,
        "id": "aOsYsFs2Gswc",
        "outputId": "e663d3e6-d4f2-47b1-baf2-01549c36e2be",
        "colab": {
          "base_uri": "https://localhost:8080/"
        }
      },
      "execution_count": null,
      "outputs": [
        {
          "output_type": "execute_result",
          "data": {
            "text/plain": [
              "['Grape___healthy',\n",
              " 'Potato___healthy',\n",
              " 'Soybean___healthy',\n",
              " 'Blueberry___healthy',\n",
              " 'Peach___healthy',\n",
              " 'Tomato___healthy',\n",
              " 'Pepper,_bell___healthy',\n",
              " 'Corn_(maize)___healthy',\n",
              " 'Raspberry___healthy',\n",
              " 'Apple___healthy',\n",
              " 'Cherry_(including_sour)___healthy',\n",
              " 'Strawberry___healthy']"
            ]
          },
          "metadata": {},
          "execution_count": 48
        }
      ]
    },
    {
      "cell_type": "code",
      "source": [
        "print(classification_report(truths, predictions)) #measuring the model performance\n",
        "\n",
        "\"\"\"\n",
        "Precision: Percentage of correct positive predictions relative to total positive predictions.\n",
        "\n",
        "Recall: Percentage of correct positive predictions relative to total actual (truth) positives.\n",
        "\n",
        "F1 Score: A weighted harmonic mean of precision and recall. The closer to 1, the better the model.\n",
        "\n",
        "    F1 Score: 2 * (Precision * Recall) / (Precision + Recall)\n",
        "\n",
        "Support: These values simply tell us how many players belonged to each class in the test dataset.\n",
        "\n",
        "macro average (averaging the unweighted mean per label), weighted average (averaging the support-weighted mean per label). macro-averaging shows how well the model performs on each label independently.\n",
        "weighted averaging accounts for class frequency by adjusting the influence of each class on the overall metric."
      ],
      "metadata": {
        "execution": {
          "iopub.status.busy": "2022-04-25T03:44:22.95017Z",
          "iopub.status.idle": "2022-04-25T03:44:22.951083Z",
          "shell.execute_reply.started": "2022-04-25T03:44:22.950851Z",
          "shell.execute_reply": "2022-04-25T03:44:22.950874Z"
        },
        "trusted": true,
        "id": "J90qEXb9Gswe",
        "outputId": "d0ed1243-a6c1-4bbf-c25b-2395d9a8f0c6",
        "colab": {
          "base_uri": "https://localhost:8080/"
        }
      },
      "execution_count": null,
      "outputs": [
        {
          "output_type": "stream",
          "name": "stdout",
          "text": [
            "                                   precision    recall  f1-score   support\n",
            "\n",
            "                  Apple___healthy       0.44      0.78      0.56        18\n",
            "              Blueberry___healthy       1.00      0.58      0.73        19\n",
            "Cherry_(including_sour)___healthy       1.00      0.90      0.95        21\n",
            "           Corn_(maize)___healthy       1.00      0.95      0.97        19\n",
            "                  Grape___healthy       0.89      0.47      0.62        17\n",
            "                  Peach___healthy       1.00      0.73      0.84        22\n",
            "           Pepper,_bell___healthy       0.88      0.88      0.88        16\n",
            "                 Potato___healthy       0.92      0.50      0.65        22\n",
            "              Raspberry___healthy       0.84      0.93      0.88        28\n",
            "                Soybean___healthy       0.89      0.85      0.87        20\n",
            "             Strawberry___healthy       0.95      0.86      0.90        21\n",
            "                 Tomato___healthy       0.45      1.00      0.62        17\n",
            "\n",
            "                         accuracy                           0.79       240\n",
            "                        macro avg       0.85      0.78      0.79       240\n",
            "                     weighted avg       0.86      0.79      0.80       240\n",
            "\n"
          ]
        }
      ]
    },
    {
      "cell_type": "code",
      "source": [],
      "metadata": {
        "id": "AuSAXqpvGswe"
      },
      "execution_count": null,
      "outputs": []
    }
  ]
}