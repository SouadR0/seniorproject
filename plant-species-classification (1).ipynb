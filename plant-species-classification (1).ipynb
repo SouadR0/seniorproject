{
 "cells": [
  {
   "cell_type": "code",
   "execution_count": 1,
   "id": "0cffad81",
   "metadata": {
    "execution": {
     "iopub.execute_input": "2022-04-25T03:50:00.035047Z",
     "iopub.status.busy": "2022-04-25T03:50:00.032999Z",
     "iopub.status.idle": "2022-04-25T03:50:06.494353Z",
     "shell.execute_reply": "2022-04-25T03:50:06.493500Z",
     "shell.execute_reply.started": "2022-04-25T03:47:23.523846Z"
    },
    "papermill": {
     "duration": 6.510672,
     "end_time": "2022-04-25T03:50:06.494539",
     "exception": false,
     "start_time": "2022-04-25T03:49:59.983867",
     "status": "completed"
    },
    "tags": []
   },
   "outputs": [
    {
     "name": "stderr",
     "output_type": "stream",
     "text": [
      "2022-04-25 03:50:00.908035: I tensorflow/stream_executor/platform/default/dso_loader.cc:49] Successfully opened dynamic library libcudart.so.11.0\n"
     ]
    }
   ],
   "source": [
    "import os\n",
    "import numpy as np\n",
    "import pandas as pd\n",
    "import pickle\n",
    "import cv2\n",
    "from os import listdir\n",
    "import tensorflow as tf\n",
    "from sklearn.preprocessing import LabelBinarizer\n",
    "from tensorflow.keras.models import Sequential\n",
    "from tensorflow.keras.layers import BatchNormalization\n",
    "from tensorflow.keras.layers import Conv2D\n",
    "from tensorflow.keras.layers import MaxPooling2D\n",
    "from tensorflow.keras.layers import Activation, Flatten, Dropout, Dense\n",
    "from tensorflow.keras import backend as K\n",
    "from tensorflow.keras.preprocessing.image import ImageDataGenerator\n",
    "from tensorflow.keras.optimizers import Adam\n",
    "from tensorflow.keras.preprocessing import image\n",
    "from tensorflow.keras.preprocessing.image import img_to_array\n",
    "from sklearn.preprocessing import MultiLabelBinarizer\n",
    "from sklearn.model_selection import train_test_split\n",
    "import matplotlib.pyplot as plt"
   ]
  },
  {
   "cell_type": "code",
   "execution_count": 2,
   "id": "2d554ddd",
   "metadata": {
    "execution": {
     "iopub.execute_input": "2022-04-25T03:50:06.583021Z",
     "iopub.status.busy": "2022-04-25T03:50:06.581938Z",
     "iopub.status.idle": "2022-04-25T03:50:06.585259Z",
     "shell.execute_reply": "2022-04-25T03:50:06.584723Z",
     "shell.execute_reply.started": "2022-04-25T03:47:47.893302Z"
    },
    "papermill": {
     "duration": 0.04891,
     "end_time": "2022-04-25T03:50:06.585409",
     "exception": false,
     "start_time": "2022-04-25T03:50:06.536499",
     "status": "completed"
    },
    "tags": []
   },
   "outputs": [],
   "source": [
    "base_dir = '/kaggle/input/plant-dataset/Dataset/'"
   ]
  },
  {
   "cell_type": "code",
   "execution_count": 3,
   "id": "f36a087b",
   "metadata": {
    "execution": {
     "iopub.execute_input": "2022-04-25T03:50:06.675544Z",
     "iopub.status.busy": "2022-04-25T03:50:06.674834Z",
     "iopub.status.idle": "2022-04-25T03:50:06.688558Z",
     "shell.execute_reply": "2022-04-25T03:50:06.689165Z",
     "shell.execute_reply.started": "2022-04-25T03:47:48.244258Z"
    },
    "papermill": {
     "duration": 0.059544,
     "end_time": "2022-04-25T03:50:06.689346",
     "exception": false,
     "start_time": "2022-04-25T03:50:06.629802",
     "status": "completed"
    },
    "tags": []
   },
   "outputs": [
    {
     "data": {
      "text/plain": [
       "['Tomato___healthy',\n",
       " 'Grape___healthy',\n",
       " 'Soybean___healthy',\n",
       " 'Potato___healthy',\n",
       " 'Peach___healthy',\n",
       " 'Blueberry___healthy',\n",
       " 'Pepper,_bell___healthy',\n",
       " 'Strawberry___healthy',\n",
       " 'Apple___healthy',\n",
       " 'Cherry_(including_sour)___healthy',\n",
       " 'Raspberry___healthy',\n",
       " 'Corn_(maize)___healthy']"
      ]
     },
     "execution_count": 3,
     "metadata": {},
     "output_type": "execute_result"
    }
   ],
   "source": [
    "leaf_classs = os.listdir(base_dir)\n",
    "leaf_classs"
   ]
  },
  {
   "cell_type": "code",
   "execution_count": 4,
   "id": "976481b5",
   "metadata": {
    "execution": {
     "iopub.execute_input": "2022-04-25T03:50:06.779221Z",
     "iopub.status.busy": "2022-04-25T03:50:06.778155Z",
     "iopub.status.idle": "2022-04-25T03:50:06.783271Z",
     "shell.execute_reply": "2022-04-25T03:50:06.784269Z",
     "shell.execute_reply.started": "2022-04-25T03:47:48.434896Z"
    },
    "papermill": {
     "duration": 0.052339,
     "end_time": "2022-04-25T03:50:06.784503",
     "exception": false,
     "start_time": "2022-04-25T03:50:06.732164",
     "status": "completed"
    },
    "tags": []
   },
   "outputs": [
    {
     "name": "stdout",
     "output_type": "stream",
     "text": [
      "Total Plant classes are: 12\n"
     ]
    }
   ],
   "source": [
    "print(\"Total Plant classes are: {}\".format(len(leaf_classs)))"
   ]
  },
  {
   "cell_type": "code",
   "execution_count": 5,
   "id": "9afe040a",
   "metadata": {
    "execution": {
     "iopub.execute_input": "2022-04-25T03:50:06.874001Z",
     "iopub.status.busy": "2022-04-25T03:50:06.873204Z",
     "iopub.status.idle": "2022-04-25T03:50:08.548806Z",
     "shell.execute_reply": "2022-04-25T03:50:08.549667Z",
     "shell.execute_reply.started": "2022-04-25T03:47:48.614053Z"
    },
    "papermill": {
     "duration": 1.723477,
     "end_time": "2022-04-25T03:50:08.549985",
     "exception": false,
     "start_time": "2022-04-25T03:50:06.826508",
     "status": "completed"
    },
    "tags": []
   },
   "outputs": [
    {
     "data": {
      "text/html": [
       "<div>\n",
       "<style scoped>\n",
       "    .dataframe tbody tr th:only-of-type {\n",
       "        vertical-align: middle;\n",
       "    }\n",
       "\n",
       "    .dataframe tbody tr th {\n",
       "        vertical-align: top;\n",
       "    }\n",
       "\n",
       "    .dataframe thead th {\n",
       "        text-align: right;\n",
       "    }\n",
       "</style>\n",
       "<table border=\"1\" class=\"dataframe\">\n",
       "  <thead>\n",
       "    <tr style=\"text-align: right;\">\n",
       "      <th></th>\n",
       "      <th>no. of images</th>\n",
       "    </tr>\n",
       "  </thead>\n",
       "  <tbody>\n",
       "    <tr>\n",
       "      <th>Tomato___healthy</th>\n",
       "      <td>2407</td>\n",
       "    </tr>\n",
       "    <tr>\n",
       "      <th>Grape___healthy</th>\n",
       "      <td>2115</td>\n",
       "    </tr>\n",
       "    <tr>\n",
       "      <th>Soybean___healthy</th>\n",
       "      <td>2527</td>\n",
       "    </tr>\n",
       "    <tr>\n",
       "      <th>Potato___healthy</th>\n",
       "      <td>2280</td>\n",
       "    </tr>\n",
       "    <tr>\n",
       "      <th>Peach___healthy</th>\n",
       "      <td>2160</td>\n",
       "    </tr>\n",
       "    <tr>\n",
       "      <th>Blueberry___healthy</th>\n",
       "      <td>2270</td>\n",
       "    </tr>\n",
       "    <tr>\n",
       "      <th>Pepper,_bell___healthy</th>\n",
       "      <td>2485</td>\n",
       "    </tr>\n",
       "    <tr>\n",
       "      <th>Strawberry___healthy</th>\n",
       "      <td>2280</td>\n",
       "    </tr>\n",
       "    <tr>\n",
       "      <th>Apple___healthy</th>\n",
       "      <td>2510</td>\n",
       "    </tr>\n",
       "    <tr>\n",
       "      <th>Cherry_(including_sour)___healthy</th>\n",
       "      <td>2282</td>\n",
       "    </tr>\n",
       "    <tr>\n",
       "      <th>Raspberry___healthy</th>\n",
       "      <td>2226</td>\n",
       "    </tr>\n",
       "    <tr>\n",
       "      <th>Corn_(maize)___healthy</th>\n",
       "      <td>2324</td>\n",
       "    </tr>\n",
       "  </tbody>\n",
       "</table>\n",
       "</div>"
      ],
      "text/plain": [
       "                                   no. of images\n",
       "Tomato___healthy                            2407\n",
       "Grape___healthy                             2115\n",
       "Soybean___healthy                           2527\n",
       "Potato___healthy                            2280\n",
       "Peach___healthy                             2160\n",
       "Blueberry___healthy                         2270\n",
       "Pepper,_bell___healthy                      2485\n",
       "Strawberry___healthy                        2280\n",
       "Apple___healthy                             2510\n",
       "Cherry_(including_sour)___healthy           2282\n",
       "Raspberry___healthy                         2226\n",
       "Corn_(maize)___healthy                      2324"
      ]
     },
     "execution_count": 5,
     "metadata": {},
     "output_type": "execute_result"
    }
   ],
   "source": [
    "nums = {}\n",
    "for plant in leaf_classs:\n",
    "    nums[plant] = len(os.listdir(base_dir + '/' + plant))\n",
    "    \n",
    "# converting the nums dictionary to pandas dataframe passing index as plant name and number of images as column\n",
    "\n",
    "img_per_class = pd.DataFrame(nums.values(), index=nums.keys(), columns=[\"no. of images\"])\n",
    "img_per_class"
   ]
  },
  {
   "cell_type": "code",
   "execution_count": 6,
   "id": "00ce1971",
   "metadata": {
    "execution": {
     "iopub.execute_input": "2022-04-25T03:50:08.719286Z",
     "iopub.status.busy": "2022-04-25T03:50:08.718092Z",
     "iopub.status.idle": "2022-04-25T03:50:08.720307Z",
     "shell.execute_reply": "2022-04-25T03:50:08.722075Z",
     "shell.execute_reply.started": "2022-04-25T03:47:48.873536Z"
    },
    "papermill": {
     "duration": 0.084568,
     "end_time": "2022-04-25T03:50:08.722316",
     "exception": false,
     "start_time": "2022-04-25T03:50:08.637748",
     "status": "completed"
    },
    "tags": []
   },
   "outputs": [],
   "source": [
    "from tensorflow import keras\n",
    "from tensorflow.keras.preprocessing.image import ImageDataGenerator, load_img "
   ]
  },
  {
   "cell_type": "code",
   "execution_count": 7,
   "id": "196d9699",
   "metadata": {
    "execution": {
     "iopub.execute_input": "2022-04-25T03:50:08.874409Z",
     "iopub.status.busy": "2022-04-25T03:50:08.873085Z",
     "iopub.status.idle": "2022-04-25T03:50:22.903104Z",
     "shell.execute_reply": "2022-04-25T03:50:22.901758Z",
     "shell.execute_reply.started": "2022-04-25T03:47:49.364780Z"
    },
    "papermill": {
     "duration": 14.109475,
     "end_time": "2022-04-25T03:50:22.903331",
     "exception": false,
     "start_time": "2022-04-25T03:50:08.793856",
     "status": "completed"
    },
    "tags": []
   },
   "outputs": [
    {
     "name": "stdout",
     "output_type": "stream",
     "text": [
      "Found 22295 images belonging to 12 classes.\n"
     ]
    }
   ],
   "source": [
    "train_gen=ImageDataGenerator(rescale=1./255,validation_split=0.2)#1. means float values upto 255 pixels \n",
    "train_data=train_gen.flow_from_directory('/kaggle/input/plant-dataset/Dataset/',target_size=(64,64)\n",
    "                                         ,batch_size=32,class_mode='categorical',shuffle=True,subset='training')"
   ]
  },
  {
   "cell_type": "code",
   "execution_count": 8,
   "id": "e07ca1cb",
   "metadata": {
    "execution": {
     "iopub.execute_input": "2022-04-25T03:50:22.993324Z",
     "iopub.status.busy": "2022-04-25T03:50:22.992281Z",
     "iopub.status.idle": "2022-04-25T03:50:29.910317Z",
     "shell.execute_reply": "2022-04-25T03:50:29.911111Z",
     "shell.execute_reply.started": "2022-04-25T03:47:54.501924Z"
    },
    "papermill": {
     "duration": 6.964737,
     "end_time": "2022-04-25T03:50:29.911369",
     "exception": false,
     "start_time": "2022-04-25T03:50:22.946632",
     "status": "completed"
    },
    "tags": []
   },
   "outputs": [
    {
     "name": "stdout",
     "output_type": "stream",
     "text": [
      "Found 5571 images belonging to 12 classes.\n"
     ]
    }
   ],
   "source": [
    "test_data=train_gen.flow_from_directory('/kaggle/input/plant-dataset/Dataset/',target_size=(64,64),\n",
    "                                        batch_size=1,shuffle=False,subset='validation')"
   ]
  },
  {
   "cell_type": "code",
   "execution_count": 9,
   "id": "5f078711",
   "metadata": {
    "execution": {
     "iopub.execute_input": "2022-04-25T03:50:30.001447Z",
     "iopub.status.busy": "2022-04-25T03:50:30.000371Z",
     "iopub.status.idle": "2022-04-25T03:50:30.010073Z",
     "shell.execute_reply": "2022-04-25T03:50:30.009531Z",
     "shell.execute_reply.started": "2022-04-25T03:47:54.921328Z"
    },
    "papermill": {
     "duration": 0.054813,
     "end_time": "2022-04-25T03:50:30.010206",
     "exception": false,
     "start_time": "2022-04-25T03:50:29.955393",
     "status": "completed"
    },
    "tags": []
   },
   "outputs": [
    {
     "data": {
      "text/plain": [
       "array([ 0,  0,  0, ..., 11, 11, 11], dtype=int32)"
      ]
     },
     "execution_count": 9,
     "metadata": {},
     "output_type": "execute_result"
    }
   ],
   "source": [
    "train_data.classes"
   ]
  },
  {
   "cell_type": "code",
   "execution_count": 10,
   "id": "17633907",
   "metadata": {
    "execution": {
     "iopub.execute_input": "2022-04-25T03:50:30.100995Z",
     "iopub.status.busy": "2022-04-25T03:50:30.099978Z",
     "iopub.status.idle": "2022-04-25T03:50:30.103492Z",
     "shell.execute_reply": "2022-04-25T03:50:30.104116Z",
     "shell.execute_reply.started": "2022-04-25T03:47:54.931924Z"
    },
    "papermill": {
     "duration": 0.052341,
     "end_time": "2022-04-25T03:50:30.104263",
     "exception": false,
     "start_time": "2022-04-25T03:50:30.051922",
     "status": "completed"
    },
    "tags": []
   },
   "outputs": [
    {
     "data": {
      "text/plain": [
       "{'Apple___healthy': 0,\n",
       " 'Blueberry___healthy': 1,\n",
       " 'Cherry_(including_sour)___healthy': 2,\n",
       " 'Corn_(maize)___healthy': 3,\n",
       " 'Grape___healthy': 4,\n",
       " 'Peach___healthy': 5,\n",
       " 'Pepper,_bell___healthy': 6,\n",
       " 'Potato___healthy': 7,\n",
       " 'Raspberry___healthy': 8,\n",
       " 'Soybean___healthy': 9,\n",
       " 'Strawberry___healthy': 10,\n",
       " 'Tomato___healthy': 11}"
      ]
     },
     "execution_count": 10,
     "metadata": {},
     "output_type": "execute_result"
    }
   ],
   "source": [
    "train_data.class_indices"
   ]
  },
  {
   "cell_type": "code",
   "execution_count": 11,
   "id": "8950e5e6",
   "metadata": {
    "execution": {
     "iopub.execute_input": "2022-04-25T03:50:30.195087Z",
     "iopub.status.busy": "2022-04-25T03:50:30.194299Z",
     "iopub.status.idle": "2022-04-25T03:50:30.197126Z",
     "shell.execute_reply": "2022-04-25T03:50:30.197827Z",
     "shell.execute_reply.started": "2022-04-25T03:47:54.940244Z"
    },
    "papermill": {
     "duration": 0.050378,
     "end_time": "2022-04-25T03:50:30.197967",
     "exception": false,
     "start_time": "2022-04-25T03:50:30.147589",
     "status": "completed"
    },
    "tags": []
   },
   "outputs": [],
   "source": [
    "EPOCHS = 200\n",
    "INIT_LR = 1e-3\n",
    "BS = 32\n",
    "default_image_size = tuple((256, 256))\n",
    "image_size = 0\n",
    "directory_root = '../input/plantvillage/'\n",
    "width=256\n",
    "height=256\n",
    "depth=3"
   ]
  },
  {
   "cell_type": "code",
   "execution_count": 12,
   "id": "20560610",
   "metadata": {
    "execution": {
     "iopub.execute_input": "2022-04-25T03:50:30.287723Z",
     "iopub.status.busy": "2022-04-25T03:50:30.286609Z",
     "iopub.status.idle": "2022-04-25T03:50:30.293725Z",
     "shell.execute_reply": "2022-04-25T03:50:30.294311Z",
     "shell.execute_reply.started": "2022-04-25T03:47:54.947789Z"
    },
    "papermill": {
     "duration": 0.053074,
     "end_time": "2022-04-25T03:50:30.294460",
     "exception": false,
     "start_time": "2022-04-25T03:50:30.241386",
     "status": "completed"
    },
    "tags": []
   },
   "outputs": [],
   "source": [
    "from tensorflow.keras.preprocessing.image import img_to_array\n",
    "\n",
    "def convert_image_to_array(image_dir):\n",
    "    try:\n",
    "        image = cv2.imread(image_dir)\n",
    "        if image is not None :\n",
    "            image = cv2.resize(image, default_image_size)   \n",
    "            return img_to_array(image)\n",
    "        else :\n",
    "            return np.array([])\n",
    "    except Exception as e:\n",
    "        print(f\"Error : {e}\")\n",
    "        return None"
   ]
  },
  {
   "cell_type": "code",
   "execution_count": 13,
   "id": "8f66be0a",
   "metadata": {
    "execution": {
     "iopub.execute_input": "2022-04-25T03:50:30.387111Z",
     "iopub.status.busy": "2022-04-25T03:50:30.386121Z",
     "iopub.status.idle": "2022-04-25T03:50:44.971008Z",
     "shell.execute_reply": "2022-04-25T03:50:44.970367Z",
     "shell.execute_reply.started": "2022-04-25T03:47:54.959363Z"
    },
    "papermill": {
     "duration": 14.635123,
     "end_time": "2022-04-25T03:50:44.971251",
     "exception": false,
     "start_time": "2022-04-25T03:50:30.336128",
     "status": "completed"
    },
    "tags": []
   },
   "outputs": [
    {
     "name": "stdout",
     "output_type": "stream",
     "text": [
      "[INFO] Loading images ...\n",
      "['Tomato___healthy', 'Grape___healthy', 'Soybean___healthy', 'Potato___healthy', 'Peach___healthy', 'Blueberry___healthy', 'Pepper,_bell___healthy', 'Strawberry___healthy', 'Apple___healthy', 'Cherry_(including_sour)___healthy', 'Raspberry___healthy', 'Corn_(maize)___healthy']\n",
      "[INFO] Processing Tomato___healthy ...\n",
      "[INFO] Processing Grape___healthy ...\n",
      "[INFO] Processing Soybean___healthy ...\n",
      "[INFO] Processing Potato___healthy ...\n",
      "[INFO] Processing Peach___healthy ...\n",
      "[INFO] Processing Blueberry___healthy ...\n",
      "[INFO] Processing Pepper,_bell___healthy ...\n",
      "[INFO] Processing Strawberry___healthy ...\n",
      "[INFO] Processing Apple___healthy ...\n",
      "[INFO] Processing Cherry_(including_sour)___healthy ...\n",
      "[INFO] Processing Raspberry___healthy ...\n",
      "[INFO] Processing Corn_(maize)___healthy ...\n",
      "[INFO] Image loading completed\n"
     ]
    }
   ],
   "source": [
    "image_list, label_list = [], []\n",
    "try:\n",
    "    print(\"[INFO] Loading images ...\")\n",
    "    root_dir = os.listdir(base_dir)\n",
    "    print(root_dir)\n",
    "    \n",
    "    for plant_folder in root_dir :\n",
    "        print(f\"[INFO] Processing {plant_folder} ...\")\n",
    "        plant_disease_image_list = os.listdir(base_dir + plant_folder)\n",
    "        #print(plant_image_folder_list)\n",
    "\n",
    "        for image in plant_disease_image_list[:200]:\n",
    "            image_directory = f\"{base_dir}/{plant_folder}/{image}\"\n",
    "            if image_directory.endswith(\".jpg\") == True or image_directory.endswith(\".JPG\") == True:                    \n",
    "                image_list.append(convert_image_to_array(image_directory))\n",
    "                label_list.append(plant_folder)\n",
    "                    \n",
    "    print(\"[INFO] Image loading completed\")  \n",
    "except Exception as e:\n",
    "    print(f\"Error : {e}\")"
   ]
  },
  {
   "cell_type": "code",
   "execution_count": 14,
   "id": "cd11b393",
   "metadata": {
    "execution": {
     "iopub.execute_input": "2022-04-25T03:50:45.076983Z",
     "iopub.status.busy": "2022-04-25T03:50:45.076314Z",
     "iopub.status.idle": "2022-04-25T03:50:45.080303Z",
     "shell.execute_reply": "2022-04-25T03:50:45.079748Z",
     "shell.execute_reply.started": "2022-04-25T03:48:00.121053Z"
    },
    "papermill": {
     "duration": 0.056093,
     "end_time": "2022-04-25T03:50:45.080440",
     "exception": false,
     "start_time": "2022-04-25T03:50:45.024347",
     "status": "completed"
    },
    "tags": []
   },
   "outputs": [],
   "source": [
    "image_size = len(image_list)"
   ]
  },
  {
   "cell_type": "code",
   "execution_count": 15,
   "id": "9c43b56f",
   "metadata": {
    "execution": {
     "iopub.execute_input": "2022-04-25T03:50:45.180428Z",
     "iopub.status.busy": "2022-04-25T03:50:45.179559Z",
     "iopub.status.idle": "2022-04-25T03:50:45.182613Z",
     "shell.execute_reply": "2022-04-25T03:50:45.183162Z",
     "shell.execute_reply.started": "2022-04-25T03:48:00.127262Z"
    },
    "papermill": {
     "duration": 0.055838,
     "end_time": "2022-04-25T03:50:45.183293",
     "exception": false,
     "start_time": "2022-04-25T03:50:45.127455",
     "status": "completed"
    },
    "tags": []
   },
   "outputs": [
    {
     "data": {
      "text/plain": [
       "2400"
      ]
     },
     "execution_count": 15,
     "metadata": {},
     "output_type": "execute_result"
    }
   ],
   "source": [
    "image_size"
   ]
  },
  {
   "cell_type": "code",
   "execution_count": 16,
   "id": "7f81f3e4",
   "metadata": {
    "execution": {
     "iopub.execute_input": "2022-04-25T03:50:45.282091Z",
     "iopub.status.busy": "2022-04-25T03:50:45.281124Z",
     "iopub.status.idle": "2022-04-25T03:50:45.292029Z",
     "shell.execute_reply": "2022-04-25T03:50:45.291461Z",
     "shell.execute_reply.started": "2022-04-25T03:48:00.145431Z"
    },
    "papermill": {
     "duration": 0.062356,
     "end_time": "2022-04-25T03:50:45.292168",
     "exception": false,
     "start_time": "2022-04-25T03:50:45.229812",
     "status": "completed"
    },
    "tags": []
   },
   "outputs": [],
   "source": [
    "label_binarizer = LabelBinarizer()\n",
    "image_labels = label_binarizer.fit_transform(label_list)\n",
    "pickle.dump(label_binarizer,open('label_transform.pkl', 'wb'))\n",
    "n_classes = len(label_binarizer.classes_)"
   ]
  },
  {
   "cell_type": "code",
   "execution_count": 17,
   "id": "13e655f6",
   "metadata": {
    "execution": {
     "iopub.execute_input": "2022-04-25T03:50:45.392291Z",
     "iopub.status.busy": "2022-04-25T03:50:45.391340Z",
     "iopub.status.idle": "2022-04-25T03:50:45.395951Z",
     "shell.execute_reply": "2022-04-25T03:50:45.396448Z",
     "shell.execute_reply.started": "2022-04-25T03:48:00.165776Z"
    },
    "papermill": {
     "duration": 0.057636,
     "end_time": "2022-04-25T03:50:45.396633",
     "exception": false,
     "start_time": "2022-04-25T03:50:45.338997",
     "status": "completed"
    },
    "tags": []
   },
   "outputs": [
    {
     "name": "stdout",
     "output_type": "stream",
     "text": [
      "['Apple___healthy' 'Blueberry___healthy'\n",
      " 'Cherry_(including_sour)___healthy' 'Corn_(maize)___healthy'\n",
      " 'Grape___healthy' 'Peach___healthy' 'Pepper,_bell___healthy'\n",
      " 'Potato___healthy' 'Raspberry___healthy' 'Soybean___healthy'\n",
      " 'Strawberry___healthy' 'Tomato___healthy']\n"
     ]
    }
   ],
   "source": [
    "print(label_binarizer.classes_)"
   ]
  },
  {
   "cell_type": "code",
   "execution_count": 18,
   "id": "0f86d6af",
   "metadata": {
    "execution": {
     "iopub.execute_input": "2022-04-25T03:50:45.497076Z",
     "iopub.status.busy": "2022-04-25T03:50:45.496127Z",
     "iopub.status.idle": "2022-04-25T03:50:53.660884Z",
     "shell.execute_reply": "2022-04-25T03:50:53.660307Z",
     "shell.execute_reply.started": "2022-04-25T03:48:00.172376Z"
    },
    "papermill": {
     "duration": 8.217139,
     "end_time": "2022-04-25T03:50:53.661060",
     "exception": false,
     "start_time": "2022-04-25T03:50:45.443921",
     "status": "completed"
    },
    "tags": []
   },
   "outputs": [],
   "source": [
    "np_image_list = np.array(image_list, dtype=np.float16) / 225.0"
   ]
  },
  {
   "cell_type": "code",
   "execution_count": 19,
   "id": "c740f0f5",
   "metadata": {
    "execution": {
     "iopub.execute_input": "2022-04-25T03:50:53.762312Z",
     "iopub.status.busy": "2022-04-25T03:50:53.761209Z",
     "iopub.status.idle": "2022-04-25T03:50:53.778002Z",
     "shell.execute_reply": "2022-04-25T03:50:53.778660Z",
     "shell.execute_reply.started": "2022-04-25T03:48:06.768639Z"
    },
    "papermill": {
     "duration": 0.069055,
     "end_time": "2022-04-25T03:50:53.778836",
     "exception": false,
     "start_time": "2022-04-25T03:50:53.709781",
     "status": "completed"
    },
    "scrolled": true,
    "tags": []
   },
   "outputs": [
    {
     "data": {
      "text/plain": [
       "array([[[[0.56   , 0.542  , 0.569  ],\n",
       "         [0.7334 , 0.7153 , 0.742  ],\n",
       "         [0.6533 , 0.6357 , 0.662  ],\n",
       "         ...,\n",
       "         [0.662  , 0.6313 , 0.6533 ],\n",
       "         [0.7734 , 0.742  , 0.7646 ],\n",
       "         [0.8623 , 0.831  , 0.8535 ]],\n",
       "\n",
       "        [[0.729  , 0.711  , 0.738  ],\n",
       "         [0.6445 , 0.6265 , 0.6533 ],\n",
       "         [0.5913 , 0.573  , 0.6    ],\n",
       "         ...,\n",
       "         [0.778  , 0.7466 , 0.769  ],\n",
       "         [0.84   , 0.809  , 0.831  ],\n",
       "         [0.92   , 0.8887 , 0.911  ]],\n",
       "\n",
       "        [[0.6533 , 0.6357 , 0.662  ],\n",
       "         [0.533  , 0.5156 , 0.542  ],\n",
       "         [0.569  , 0.5513 , 0.5776 ],\n",
       "         ...,\n",
       "         [0.5376 , 0.507  , 0.529  ],\n",
       "         [0.6    , 0.569  , 0.5913 ],\n",
       "         [0.951  , 0.92   , 0.9424 ]],\n",
       "\n",
       "        ...,\n",
       "\n",
       "        [[0.511  , 0.4934 , 0.547  ],\n",
       "         [0.48   , 0.4622 , 0.5156 ],\n",
       "         [0.3467 , 0.3289 , 0.3823 ],\n",
       "         ...,\n",
       "         [0.4622 , 0.4268 , 0.4756 ],\n",
       "         [0.4934 , 0.4578 , 0.507  ],\n",
       "         [0.4622 , 0.4268 , 0.4756 ]],\n",
       "\n",
       "        [[0.4355 , 0.4177 , 0.4712 ],\n",
       "         [0.4    , 0.3823 , 0.4355 ],\n",
       "         [0.547  , 0.5376 , 0.5913 ],\n",
       "         ...,\n",
       "         [0.4756 , 0.44   , 0.4888 ],\n",
       "         [0.6577 , 0.622  , 0.671  ],\n",
       "         [0.533  , 0.4978 , 0.547  ]],\n",
       "\n",
       "        [[0.3555 , 0.338  , 0.391  ],\n",
       "         [0.4712 , 0.4534 , 0.507  ],\n",
       "         [0.4934 , 0.4844 , 0.5376 ],\n",
       "         ...,\n",
       "         [0.5244 , 0.4888 , 0.5376 ],\n",
       "         [0.369  , 0.3333 , 0.3823 ],\n",
       "         [0.92   , 0.8843 , 0.933  ]]],\n",
       "\n",
       "\n",
       "       [[[0.64   , 0.622  , 0.6445 ],\n",
       "         [0.6357 , 0.6177 , 0.64   ],\n",
       "         [0.64   , 0.622  , 0.6445 ],\n",
       "         ...,\n",
       "         [0.6313 , 0.6133 , 0.6357 ],\n",
       "         [0.5776 , 0.56   , 0.582  ],\n",
       "         [0.6533 , 0.6357 , 0.6577 ]],\n",
       "\n",
       "        [[0.5864 , 0.569  , 0.5913 ],\n",
       "         [0.582  , 0.5645 , 0.5864 ],\n",
       "         [0.582  , 0.5645 , 0.5864 ],\n",
       "         ...,\n",
       "         [0.5645 , 0.547  , 0.569  ],\n",
       "         [0.6313 , 0.6133 , 0.6357 ],\n",
       "         [0.6846 , 0.6665 , 0.689  ]],\n",
       "\n",
       "        [[0.6045 , 0.5864 , 0.609  ],\n",
       "         [0.5913 , 0.573  , 0.5957 ],\n",
       "         [0.582  , 0.5645 , 0.5864 ],\n",
       "         ...,\n",
       "         [0.676  , 0.6577 , 0.68   ],\n",
       "         [0.533  , 0.5156 , 0.5376 ],\n",
       "         [0.5557 , 0.5376 , 0.56   ]],\n",
       "\n",
       "        ...,\n",
       "\n",
       "        [[0.4534 , 0.44   , 0.449  ],\n",
       "         [0.48   , 0.4666 , 0.4756 ],\n",
       "         [0.369  , 0.3555 , 0.3645 ],\n",
       "         ...,\n",
       "         [0.409  , 0.4    , 0.4    ],\n",
       "         [0.4133 , 0.4045 , 0.4045 ],\n",
       "         [0.3777 , 0.369  , 0.369  ]],\n",
       "\n",
       "        [[0.4    , 0.3867 , 0.3955 ],\n",
       "         [0.4443 , 0.4312 , 0.44   ],\n",
       "         [0.391  , 0.3777 , 0.3867 ],\n",
       "         ...,\n",
       "         [0.4133 , 0.4045 , 0.4045 ],\n",
       "         [0.4    , 0.391  , 0.391  ],\n",
       "         [0.409  , 0.4    , 0.4    ]],\n",
       "\n",
       "        [[0.4045 , 0.391  , 0.4    ],\n",
       "         [0.4133 , 0.4    , 0.409  ],\n",
       "         [0.4622 , 0.449  , 0.4578 ],\n",
       "         ...,\n",
       "         [0.4177 , 0.409  , 0.409  ],\n",
       "         [0.3645 , 0.3555 , 0.3555 ],\n",
       "         [0.44   , 0.4312 , 0.4312 ]]],\n",
       "\n",
       "\n",
       "       [[[0.5513 , 0.5376 , 0.547  ],\n",
       "         [0.6133 , 0.6    , 0.609  ],\n",
       "         [0.6177 , 0.6045 , 0.6133 ],\n",
       "         ...,\n",
       "         [0.6357 , 0.6177 , 0.64   ],\n",
       "         [0.507  , 0.4888 , 0.511  ],\n",
       "         [0.6445 , 0.6265 , 0.649  ]],\n",
       "\n",
       "        [[0.6665 , 0.6533 , 0.662  ],\n",
       "         [0.7153 , 0.702  , 0.711  ],\n",
       "         [0.6133 , 0.6    , 0.609  ],\n",
       "         ...,\n",
       "         [0.5244 , 0.507  , 0.529  ],\n",
       "         [0.5244 , 0.507  , 0.529  ],\n",
       "         [0.662  , 0.6445 , 0.6665 ]],\n",
       "\n",
       "        [[0.7153 , 0.702  , 0.711  ],\n",
       "         [0.5645 , 0.5513 , 0.56   ],\n",
       "         [0.6934 , 0.68   , 0.689  ],\n",
       "         ...,\n",
       "         [0.6357 , 0.6177 , 0.64   ],\n",
       "         [0.68   , 0.662  , 0.6846 ],\n",
       "         [0.609  , 0.5913 , 0.6133 ]],\n",
       "\n",
       "        ...,\n",
       "\n",
       "        [[0.3777 , 0.3645 , 0.3733 ],\n",
       "         [0.271  , 0.2578 , 0.2666 ],\n",
       "         [0.5024 , 0.4888 , 0.4978 ],\n",
       "         ...,\n",
       "         [0.422  , 0.4    , 0.4045 ],\n",
       "         [0.48   , 0.4578 , 0.4622 ],\n",
       "         [0.5156 , 0.4934 , 0.4978 ]],\n",
       "\n",
       "        [[0.3823 , 0.369  , 0.3777 ],\n",
       "         [0.4712 , 0.4578 , 0.4666 ],\n",
       "         [0.3823 , 0.369  , 0.3777 ],\n",
       "         ...,\n",
       "         [0.4934 , 0.4712 , 0.4756 ],\n",
       "         [0.533  , 0.511  , 0.5156 ],\n",
       "         [0.5244 , 0.5024 , 0.507  ]],\n",
       "\n",
       "        [[0.4934 , 0.48   , 0.4888 ],\n",
       "         [0.4    , 0.3867 , 0.3955 ],\n",
       "         [0.338  , 0.3245 , 0.3333 ],\n",
       "         ...,\n",
       "         [0.449  , 0.4268 , 0.4312 ],\n",
       "         [0.5244 , 0.5024 , 0.507  ],\n",
       "         [0.5244 , 0.5024 , 0.507  ]]],\n",
       "\n",
       "\n",
       "       ...,\n",
       "\n",
       "\n",
       "       [[[0.671  , 0.84   , 0.7065 ],\n",
       "         [0.6533 , 0.8223 , 0.689  ],\n",
       "         [0.6445 , 0.8135 , 0.68   ],\n",
       "         ...,\n",
       "         [0.2578 , 0.5244 , 0.3467 ],\n",
       "         [0.2756 , 0.542  , 0.3645 ],\n",
       "         [0.2756 , 0.542  , 0.3645 ]],\n",
       "\n",
       "        [[0.6577 , 0.8267 , 0.6934 ],\n",
       "         [0.6533 , 0.8223 , 0.689  ],\n",
       "         [0.6577 , 0.8267 , 0.6934 ],\n",
       "         ...,\n",
       "         [0.2222 , 0.4888 , 0.311  ],\n",
       "         [0.2356 , 0.5024 , 0.3245 ],\n",
       "         [0.2534 , 0.52   , 0.3423 ]],\n",
       "\n",
       "        [[0.6533 , 0.8223 , 0.689  ],\n",
       "         [0.6665 , 0.8354 , 0.702  ],\n",
       "         [0.671  , 0.84   , 0.7065 ],\n",
       "         ...,\n",
       "         [0.2311 , 0.4978 , 0.32   ],\n",
       "         [0.2356 , 0.5024 , 0.3245 ],\n",
       "         [0.2666 , 0.533  , 0.3555 ]],\n",
       "\n",
       "        ...,\n",
       "\n",
       "        [[0.0845 , 0.3066 , 0.1289 ],\n",
       "         [0.0978 , 0.32   , 0.1422 ],\n",
       "         [0.10223, 0.3245 , 0.1466 ],\n",
       "         ...,\n",
       "         [0.582  , 0.8667 , 0.738  ],\n",
       "         [0.6177 , 0.88   , 0.7554 ],\n",
       "         [0.582  , 0.844  , 0.72   ]],\n",
       "\n",
       "        [[0.06665, 0.2979 , 0.12   ],\n",
       "         [0.08   , 0.311  , 0.1333 ],\n",
       "         [0.0845 , 0.3157 , 0.1378 ],\n",
       "         ...,\n",
       "         [0.609  , 0.88   , 0.7554 ],\n",
       "         [0.5024 , 0.76   , 0.6357 ],\n",
       "         [0.2222 , 0.48   , 0.3555 ]],\n",
       "\n",
       "        [[0.06223, 0.2932 , 0.11554],\n",
       "         [0.0711 , 0.3022 , 0.12445],\n",
       "         [0.07556, 0.3066 , 0.1289 ],\n",
       "         ...,\n",
       "         [0.6045 , 0.8755 , 0.751  ],\n",
       "         [0.3289 , 0.5864 , 0.4622 ],\n",
       "         [0.     , 0.0711 , 0.     ]]],\n",
       "\n",
       "\n",
       "       [[[0.542  , 0.702  , 0.649  ],\n",
       "         [0.689  , 0.849  , 0.7954 ],\n",
       "         [0.7866 , 0.947  , 0.8936 ],\n",
       "         ...,\n",
       "         [0.569  , 0.7866 , 0.6177 ],\n",
       "         [0.5513 , 0.76   , 0.5913 ],\n",
       "         [0.533  , 0.742  , 0.573  ]],\n",
       "\n",
       "        [[0.6265 , 0.7866 , 0.7334 ],\n",
       "         [0.738  , 0.898  , 0.844  ],\n",
       "         [0.791  , 0.951  , 0.898  ],\n",
       "         ...,\n",
       "         [0.569  , 0.7866 , 0.6177 ],\n",
       "         [0.547  , 0.7646 , 0.5957 ],\n",
       "         [0.533  , 0.751  , 0.582  ]],\n",
       "\n",
       "        [[0.711  , 0.8843 , 0.818  ],\n",
       "         [0.778  , 0.951  , 0.8843 ],\n",
       "         [0.7734 , 0.947  , 0.88   ],\n",
       "         ...,\n",
       "         [0.547  , 0.7734 , 0.6045 ],\n",
       "         [0.5376 , 0.7646 , 0.5957 ],\n",
       "         [0.529  , 0.7554 , 0.5864 ]],\n",
       "\n",
       "        ...,\n",
       "\n",
       "        [[0.3555 , 0.5645 , 0.4177 ],\n",
       "         [0.391  , 0.6133 , 0.4622 ],\n",
       "         [0.4268 , 0.662  , 0.5156 ],\n",
       "         ...,\n",
       "         [0.03555, 0.05334, 0.05777],\n",
       "         [0.05334, 0.06223, 0.06665],\n",
       "         [0.08   , 0.08887, 0.0933 ]],\n",
       "\n",
       "        [[0.3823 , 0.6045 , 0.4622 ],\n",
       "         [0.4177 , 0.6533 , 0.507  ],\n",
       "         [0.4622 , 0.7065 , 0.56   ],\n",
       "         ...,\n",
       "         [0.04443, 0.05334, 0.05777],\n",
       "         [0.06223, 0.0711 , 0.0711 ],\n",
       "         [0.0933 , 0.10223, 0.10223]],\n",
       "\n",
       "        [[0.4045 , 0.64   , 0.4934 ],\n",
       "         [0.44   , 0.6846 , 0.5376 ],\n",
       "         [0.4934 , 0.738  , 0.5913 ],\n",
       "         ...,\n",
       "         [0.04   , 0.0489 , 0.05334],\n",
       "         [0.04   , 0.0489 , 0.0489 ],\n",
       "         [0.06223, 0.0711 , 0.0711 ]]],\n",
       "\n",
       "\n",
       "       [[[0.5776 , 0.6045 , 0.422  ],\n",
       "         [0.5645 , 0.5913 , 0.409  ],\n",
       "         [0.56   , 0.5957 , 0.4133 ],\n",
       "         ...,\n",
       "         [0.689  , 0.751  , 0.6    ],\n",
       "         [0.844  , 0.8887 , 0.7554 ],\n",
       "         [0.9556 , 1.     , 0.8667 ]],\n",
       "\n",
       "        [[0.582  , 0.609  , 0.4268 ],\n",
       "         [0.573  , 0.6    , 0.4177 ],\n",
       "         [0.5776 , 0.6133 , 0.4312 ],\n",
       "         ...,\n",
       "         [0.831  , 0.8936 , 0.742  ],\n",
       "         [0.844  , 0.8887 , 0.7554 ],\n",
       "         [0.9067 , 0.951  , 0.818  ]],\n",
       "\n",
       "        [[0.5645 , 0.6    , 0.4177 ],\n",
       "         [0.5645 , 0.6    , 0.4177 ],\n",
       "         [0.5776 , 0.6133 , 0.4312 ],\n",
       "         ...,\n",
       "         [0.8936 , 0.9556 , 0.8047 ],\n",
       "         [0.8623 , 0.9067 , 0.7734 ],\n",
       "         [0.8887 , 0.933  , 0.8    ]],\n",
       "\n",
       "        ...,\n",
       "\n",
       "        [[0.2    , 0.2888 , 0.1333 ],\n",
       "         [0.369  , 0.4578 , 0.3022 ],\n",
       "         [0.547  , 0.6357 , 0.48   ],\n",
       "         ...,\n",
       "         [0.6978 , 0.791  , 0.6177 ],\n",
       "         [0.68   , 0.7734 , 0.6    ],\n",
       "         [0.738  , 0.831  , 0.6577 ]],\n",
       "\n",
       "        [[0.1956 , 0.271  , 0.12445],\n",
       "         [0.2622 , 0.338  , 0.1912 ],\n",
       "         [0.4622 , 0.5376 , 0.3867 ],\n",
       "         ...,\n",
       "         [0.7246 , 0.818  , 0.6445 ],\n",
       "         [0.7554 , 0.849  , 0.676  ],\n",
       "         [0.7954 , 0.8887 , 0.7153 ]],\n",
       "\n",
       "        [[0.2178 , 0.2932 , 0.1466 ],\n",
       "         [0.169  , 0.2444 , 0.0978 ],\n",
       "         [0.369  , 0.44   , 0.2888 ],\n",
       "         ...,\n",
       "         [0.6665 , 0.76   , 0.5864 ],\n",
       "         [0.7466 , 0.84   , 0.6665 ],\n",
       "         [0.7554 , 0.849  , 0.676  ]]]], dtype=float16)"
      ]
     },
     "execution_count": 19,
     "metadata": {},
     "output_type": "execute_result"
    }
   ],
   "source": [
    "np_image_list"
   ]
  },
  {
   "cell_type": "code",
   "execution_count": 20,
   "id": "d5c39dc6",
   "metadata": {
    "execution": {
     "iopub.execute_input": "2022-04-25T03:50:53.879363Z",
     "iopub.status.busy": "2022-04-25T03:50:53.878280Z",
     "iopub.status.idle": "2022-04-25T03:50:53.885305Z",
     "shell.execute_reply": "2022-04-25T03:50:53.884816Z",
     "shell.execute_reply.started": "2022-04-25T03:48:06.790631Z"
    },
    "papermill": {
     "duration": 0.05832,
     "end_time": "2022-04-25T03:50:53.885424",
     "exception": false,
     "start_time": "2022-04-25T03:50:53.827104",
     "status": "completed"
    },
    "tags": []
   },
   "outputs": [
    {
     "data": {
      "text/plain": [
       "array([[0, 0, 0, ..., 0, 0, 1],\n",
       "       [0, 0, 0, ..., 0, 0, 1],\n",
       "       [0, 0, 0, ..., 0, 0, 1],\n",
       "       ...,\n",
       "       [0, 0, 0, ..., 0, 0, 0],\n",
       "       [0, 0, 0, ..., 0, 0, 0],\n",
       "       [0, 0, 0, ..., 0, 0, 0]])"
      ]
     },
     "execution_count": 20,
     "metadata": {},
     "output_type": "execute_result"
    }
   ],
   "source": [
    "image_labels"
   ]
  },
  {
   "cell_type": "code",
   "execution_count": 21,
   "id": "0e98e1fa",
   "metadata": {
    "execution": {
     "iopub.execute_input": "2022-04-25T03:50:53.994894Z",
     "iopub.status.busy": "2022-04-25T03:50:53.994030Z",
     "iopub.status.idle": "2022-04-25T03:50:54.352758Z",
     "shell.execute_reply": "2022-04-25T03:50:54.353313Z",
     "shell.execute_reply.started": "2022-04-25T03:48:06.799072Z"
    },
    "papermill": {
     "duration": 0.41903,
     "end_time": "2022-04-25T03:50:54.353506",
     "exception": false,
     "start_time": "2022-04-25T03:50:53.934476",
     "status": "completed"
    },
    "tags": []
   },
   "outputs": [
    {
     "name": "stdout",
     "output_type": "stream",
     "text": [
      "[INFO] Spliting data to train, test\n"
     ]
    }
   ],
   "source": [
    "from sklearn.model_selection import train_test_split\n",
    "print(\"[INFO] Spliting data to train, test\")\n",
    "x_train, x_test_temp, y_train, y_test_temp = train_test_split(np_image_list, image_labels, test_size=0.2, random_state = 42) "
   ]
  },
  {
   "cell_type": "code",
   "execution_count": 22,
   "id": "6eba6d94",
   "metadata": {
    "execution": {
     "iopub.execute_input": "2022-04-25T03:50:54.460493Z",
     "iopub.status.busy": "2022-04-25T03:50:54.459060Z",
     "iopub.status.idle": "2022-04-25T03:50:54.535343Z",
     "shell.execute_reply": "2022-04-25T03:50:54.536293Z",
     "shell.execute_reply.started": "2022-04-25T03:48:07.648100Z"
    },
    "papermill": {
     "duration": 0.133565,
     "end_time": "2022-04-25T03:50:54.536734",
     "exception": false,
     "start_time": "2022-04-25T03:50:54.403169",
     "status": "completed"
    },
    "tags": []
   },
   "outputs": [
    {
     "name": "stdout",
     "output_type": "stream",
     "text": [
      "[INFO] Spliting data to test, valid\n"
     ]
    }
   ],
   "source": [
    "print(\"[INFO] Spliting data to test, valid\")\n",
    "x_valid, x_test, y_valid, y_test = train_test_split(x_test_temp, y_test_temp, test_size=0.5, random_state = 42) "
   ]
  },
  {
   "cell_type": "code",
   "execution_count": 23,
   "id": "102c56d1",
   "metadata": {
    "execution": {
     "iopub.execute_input": "2022-04-25T03:50:54.644460Z",
     "iopub.status.busy": "2022-04-25T03:50:54.643469Z",
     "iopub.status.idle": "2022-04-25T03:50:54.647046Z",
     "shell.execute_reply": "2022-04-25T03:50:54.647580Z",
     "shell.execute_reply.started": "2022-04-25T03:48:07.797249Z"
    },
    "papermill": {
     "duration": 0.058173,
     "end_time": "2022-04-25T03:50:54.647779",
     "exception": false,
     "start_time": "2022-04-25T03:50:54.589606",
     "status": "completed"
    },
    "tags": []
   },
   "outputs": [
    {
     "data": {
      "text/plain": [
       "((1920, 256, 256, 3), (240, 256, 256, 3), (240, 256, 256, 3))"
      ]
     },
     "execution_count": 23,
     "metadata": {},
     "output_type": "execute_result"
    }
   ],
   "source": [
    "x_train.shape , x_test.shape , x_valid.shape"
   ]
  },
  {
   "cell_type": "code",
   "execution_count": 24,
   "id": "3b0f948d",
   "metadata": {
    "execution": {
     "iopub.execute_input": "2022-04-25T03:50:54.754589Z",
     "iopub.status.busy": "2022-04-25T03:50:54.753567Z",
     "iopub.status.idle": "2022-04-25T03:50:54.756885Z",
     "shell.execute_reply": "2022-04-25T03:50:54.756229Z",
     "shell.execute_reply.started": "2022-04-25T03:48:07.805644Z"
    },
    "papermill": {
     "duration": 0.057198,
     "end_time": "2022-04-25T03:50:54.757072",
     "exception": false,
     "start_time": "2022-04-25T03:50:54.699874",
     "status": "completed"
    },
    "tags": []
   },
   "outputs": [],
   "source": [
    "aug = ImageDataGenerator(\n",
    "    rotation_range=25, width_shift_range=0.1,\n",
    "    height_shift_range=0.1, shear_range=0.2, \n",
    "    zoom_range=0.2,horizontal_flip=True, \n",
    "    fill_mode=\"nearest\")"
   ]
  },
  {
   "cell_type": "code",
   "execution_count": 25,
   "id": "f541e475",
   "metadata": {
    "execution": {
     "iopub.execute_input": "2022-04-25T03:50:54.869048Z",
     "iopub.status.busy": "2022-04-25T03:50:54.868309Z",
     "iopub.status.idle": "2022-04-25T03:50:57.760711Z",
     "shell.execute_reply": "2022-04-25T03:50:57.760009Z",
     "shell.execute_reply.started": "2022-04-25T03:48:07.814751Z"
    },
    "papermill": {
     "duration": 2.955427,
     "end_time": "2022-04-25T03:50:57.760910",
     "exception": false,
     "start_time": "2022-04-25T03:50:54.805483",
     "status": "completed"
    },
    "tags": []
   },
   "outputs": [
    {
     "name": "stderr",
     "output_type": "stream",
     "text": [
      "2022-04-25 03:50:54.880584: I tensorflow/compiler/jit/xla_cpu_device.cc:41] Not creating XLA devices, tf_xla_enable_xla_devices not set\n",
      "2022-04-25 03:50:54.884439: I tensorflow/stream_executor/platform/default/dso_loader.cc:49] Successfully opened dynamic library libcuda.so.1\n",
      "2022-04-25 03:50:54.946319: I tensorflow/stream_executor/cuda/cuda_gpu_executor.cc:941] successful NUMA node read from SysFS had negative value (-1), but there must be at least one NUMA node, so returning NUMA node zero\n",
      "2022-04-25 03:50:54.947451: I tensorflow/core/common_runtime/gpu/gpu_device.cc:1720] Found device 0 with properties: \n",
      "pciBusID: 0000:00:04.0 name: Tesla P100-PCIE-16GB computeCapability: 6.0\n",
      "coreClock: 1.3285GHz coreCount: 56 deviceMemorySize: 15.90GiB deviceMemoryBandwidth: 681.88GiB/s\n",
      "2022-04-25 03:50:54.947537: I tensorflow/stream_executor/platform/default/dso_loader.cc:49] Successfully opened dynamic library libcudart.so.11.0\n",
      "2022-04-25 03:50:54.997405: I tensorflow/stream_executor/platform/default/dso_loader.cc:49] Successfully opened dynamic library libcublas.so.11\n",
      "2022-04-25 03:50:54.997542: I tensorflow/stream_executor/platform/default/dso_loader.cc:49] Successfully opened dynamic library libcublasLt.so.11\n",
      "2022-04-25 03:50:55.016511: I tensorflow/stream_executor/platform/default/dso_loader.cc:49] Successfully opened dynamic library libcufft.so.10\n",
      "2022-04-25 03:50:55.028475: I tensorflow/stream_executor/platform/default/dso_loader.cc:49] Successfully opened dynamic library libcurand.so.10\n",
      "2022-04-25 03:50:55.057576: I tensorflow/stream_executor/platform/default/dso_loader.cc:49] Successfully opened dynamic library libcusolver.so.10\n",
      "2022-04-25 03:50:55.067592: I tensorflow/stream_executor/platform/default/dso_loader.cc:49] Successfully opened dynamic library libcusparse.so.11\n",
      "2022-04-25 03:50:55.072380: I tensorflow/stream_executor/platform/default/dso_loader.cc:49] Successfully opened dynamic library libcudnn.so.8\n",
      "2022-04-25 03:50:55.072562: I tensorflow/stream_executor/cuda/cuda_gpu_executor.cc:941] successful NUMA node read from SysFS had negative value (-1), but there must be at least one NUMA node, so returning NUMA node zero\n",
      "2022-04-25 03:50:55.073699: I tensorflow/stream_executor/cuda/cuda_gpu_executor.cc:941] successful NUMA node read from SysFS had negative value (-1), but there must be at least one NUMA node, so returning NUMA node zero\n",
      "2022-04-25 03:50:55.076046: I tensorflow/core/common_runtime/gpu/gpu_device.cc:1862] Adding visible gpu devices: 0\n",
      "2022-04-25 03:50:55.077508: I tensorflow/core/platform/cpu_feature_guard.cc:142] This TensorFlow binary is optimized with oneAPI Deep Neural Network Library (oneDNN) to use the following CPU instructions in performance-critical operations:  AVX2 FMA\n",
      "To enable them in other operations, rebuild TensorFlow with the appropriate compiler flags.\n",
      "2022-04-25 03:50:55.077728: I tensorflow/compiler/jit/xla_gpu_device.cc:99] Not creating XLA devices, tf_xla_enable_xla_devices not set\n",
      "2022-04-25 03:50:55.077963: I tensorflow/stream_executor/cuda/cuda_gpu_executor.cc:941] successful NUMA node read from SysFS had negative value (-1), but there must be at least one NUMA node, so returning NUMA node zero\n",
      "2022-04-25 03:50:55.078978: I tensorflow/core/common_runtime/gpu/gpu_device.cc:1720] Found device 0 with properties: \n",
      "pciBusID: 0000:00:04.0 name: Tesla P100-PCIE-16GB computeCapability: 6.0\n",
      "coreClock: 1.3285GHz coreCount: 56 deviceMemorySize: 15.90GiB deviceMemoryBandwidth: 681.88GiB/s\n",
      "2022-04-25 03:50:55.079047: I tensorflow/stream_executor/platform/default/dso_loader.cc:49] Successfully opened dynamic library libcudart.so.11.0\n",
      "2022-04-25 03:50:55.079087: I tensorflow/stream_executor/platform/default/dso_loader.cc:49] Successfully opened dynamic library libcublas.so.11\n",
      "2022-04-25 03:50:55.079125: I tensorflow/stream_executor/platform/default/dso_loader.cc:49] Successfully opened dynamic library libcublasLt.so.11\n",
      "2022-04-25 03:50:55.079161: I tensorflow/stream_executor/platform/default/dso_loader.cc:49] Successfully opened dynamic library libcufft.so.10\n",
      "2022-04-25 03:50:55.079194: I tensorflow/stream_executor/platform/default/dso_loader.cc:49] Successfully opened dynamic library libcurand.so.10\n",
      "2022-04-25 03:50:55.079228: I tensorflow/stream_executor/platform/default/dso_loader.cc:49] Successfully opened dynamic library libcusolver.so.10\n",
      "2022-04-25 03:50:55.079264: I tensorflow/stream_executor/platform/default/dso_loader.cc:49] Successfully opened dynamic library libcusparse.so.11\n",
      "2022-04-25 03:50:55.079314: I tensorflow/stream_executor/platform/default/dso_loader.cc:49] Successfully opened dynamic library libcudnn.so.8\n",
      "2022-04-25 03:50:55.079419: I tensorflow/stream_executor/cuda/cuda_gpu_executor.cc:941] successful NUMA node read from SysFS had negative value (-1), but there must be at least one NUMA node, so returning NUMA node zero\n",
      "2022-04-25 03:50:55.080477: I tensorflow/stream_executor/cuda/cuda_gpu_executor.cc:941] successful NUMA node read from SysFS had negative value (-1), but there must be at least one NUMA node, so returning NUMA node zero\n",
      "2022-04-25 03:50:55.081380: I tensorflow/core/common_runtime/gpu/gpu_device.cc:1862] Adding visible gpu devices: 0\n",
      "2022-04-25 03:50:55.082579: I tensorflow/stream_executor/platform/default/dso_loader.cc:49] Successfully opened dynamic library libcudart.so.11.0\n",
      "2022-04-25 03:50:56.893073: I tensorflow/core/common_runtime/gpu/gpu_device.cc:1261] Device interconnect StreamExecutor with strength 1 edge matrix:\n",
      "2022-04-25 03:50:56.893140: I tensorflow/core/common_runtime/gpu/gpu_device.cc:1267]      0 \n",
      "2022-04-25 03:50:56.893161: I tensorflow/core/common_runtime/gpu/gpu_device.cc:1280] 0:   N \n",
      "2022-04-25 03:50:56.896065: I tensorflow/stream_executor/cuda/cuda_gpu_executor.cc:941] successful NUMA node read from SysFS had negative value (-1), but there must be at least one NUMA node, so returning NUMA node zero\n",
      "2022-04-25 03:50:56.897379: I tensorflow/stream_executor/cuda/cuda_gpu_executor.cc:941] successful NUMA node read from SysFS had negative value (-1), but there must be at least one NUMA node, so returning NUMA node zero\n",
      "2022-04-25 03:50:56.898709: I tensorflow/stream_executor/cuda/cuda_gpu_executor.cc:941] successful NUMA node read from SysFS had negative value (-1), but there must be at least one NUMA node, so returning NUMA node zero\n",
      "2022-04-25 03:50:56.899865: I tensorflow/core/common_runtime/gpu/gpu_device.cc:1406] Created TensorFlow device (/job:localhost/replica:0/task:0/device:GPU:0 with 14957 MB memory) -> physical GPU (device: 0, name: Tesla P100-PCIE-16GB, pci bus id: 0000:00:04.0, compute capability: 6.0)\n"
     ]
    }
   ],
   "source": [
    "model = Sequential()\n",
    "inputShape = (height, width, depth)\n",
    "chanDim = -1\n",
    "if K.image_data_format() == \"channels_first\":\n",
    "    inputShape = (depth, height, width)\n",
    "    chanDim = 1\n",
    "model.add(Conv2D(32, (3, 3), padding=\"same\",input_shape=inputShape))\n",
    "model.add(Activation(\"relu\"))\n",
    "model.add(BatchNormalization(axis=chanDim))\n",
    "model.add(MaxPooling2D(pool_size=(3, 3)))\n",
    "#model.add(Dropout(0.25))\n",
    "model.add(Conv2D(64, (3, 3), padding=\"same\"))\n",
    "model.add(Activation(\"relu\"))\n",
    "model.add(BatchNormalization(axis=chanDim))\n",
    "model.add(Conv2D(64, (3, 3), padding=\"same\"))\n",
    "model.add(Activation(\"relu\"))\n",
    "model.add(BatchNormalization(axis=chanDim))\n",
    "model.add(MaxPooling2D(pool_size=(2, 2)))\n",
    "#model.add(Dropout(0.25))\n",
    "model.add(Conv2D(128, (3, 3), padding=\"same\"))\n",
    "model.add(Activation(\"relu\"))\n",
    "model.add(BatchNormalization(axis=chanDim))\n",
    "model.add(Conv2D(128, (3, 3), padding=\"same\"))\n",
    "model.add(Activation(\"relu\"))\n",
    "model.add(BatchNormalization(axis=chanDim))\n",
    "model.add(MaxPooling2D(pool_size=(2, 2)))\n",
    "#model.add(Dropout(0.25))\n",
    "model.add(Flatten())\n",
    "model.add(Dense(1024))\n",
    "model.add(Activation(\"relu\"))\n",
    "model.add(BatchNormalization())\n",
    "model.add(Dropout(0.25))\n",
    "model.add(Dense(n_classes))\n",
    "model.add(Activation(\"softmax\"))"
   ]
  },
  {
   "cell_type": "code",
   "execution_count": 26,
   "id": "1328e660",
   "metadata": {
    "execution": {
     "iopub.execute_input": "2022-04-25T03:50:57.873763Z",
     "iopub.status.busy": "2022-04-25T03:50:57.869667Z",
     "iopub.status.idle": "2022-04-25T03:50:57.891263Z",
     "shell.execute_reply": "2022-04-25T03:50:57.890463Z",
     "shell.execute_reply.started": "2022-04-25T03:48:07.971960Z"
    },
    "papermill": {
     "duration": 0.078579,
     "end_time": "2022-04-25T03:50:57.891393",
     "exception": false,
     "start_time": "2022-04-25T03:50:57.812814",
     "status": "completed"
    },
    "tags": []
   },
   "outputs": [
    {
     "name": "stdout",
     "output_type": "stream",
     "text": [
      "Model: \"sequential\"\n",
      "_________________________________________________________________\n",
      "Layer (type)                 Output Shape              Param #   \n",
      "=================================================================\n",
      "conv2d (Conv2D)              (None, 256, 256, 32)      896       \n",
      "_________________________________________________________________\n",
      "activation (Activation)      (None, 256, 256, 32)      0         \n",
      "_________________________________________________________________\n",
      "batch_normalization (BatchNo (None, 256, 256, 32)      128       \n",
      "_________________________________________________________________\n",
      "max_pooling2d (MaxPooling2D) (None, 85, 85, 32)        0         \n",
      "_________________________________________________________________\n",
      "conv2d_1 (Conv2D)            (None, 85, 85, 64)        18496     \n",
      "_________________________________________________________________\n",
      "activation_1 (Activation)    (None, 85, 85, 64)        0         \n",
      "_________________________________________________________________\n",
      "batch_normalization_1 (Batch (None, 85, 85, 64)        256       \n",
      "_________________________________________________________________\n",
      "conv2d_2 (Conv2D)            (None, 85, 85, 64)        36928     \n",
      "_________________________________________________________________\n",
      "activation_2 (Activation)    (None, 85, 85, 64)        0         \n",
      "_________________________________________________________________\n",
      "batch_normalization_2 (Batch (None, 85, 85, 64)        256       \n",
      "_________________________________________________________________\n",
      "max_pooling2d_1 (MaxPooling2 (None, 42, 42, 64)        0         \n",
      "_________________________________________________________________\n",
      "conv2d_3 (Conv2D)            (None, 42, 42, 128)       73856     \n",
      "_________________________________________________________________\n",
      "activation_3 (Activation)    (None, 42, 42, 128)       0         \n",
      "_________________________________________________________________\n",
      "batch_normalization_3 (Batch (None, 42, 42, 128)       512       \n",
      "_________________________________________________________________\n",
      "conv2d_4 (Conv2D)            (None, 42, 42, 128)       147584    \n",
      "_________________________________________________________________\n",
      "activation_4 (Activation)    (None, 42, 42, 128)       0         \n",
      "_________________________________________________________________\n",
      "batch_normalization_4 (Batch (None, 42, 42, 128)       512       \n",
      "_________________________________________________________________\n",
      "max_pooling2d_2 (MaxPooling2 (None, 21, 21, 128)       0         \n",
      "_________________________________________________________________\n",
      "flatten (Flatten)            (None, 56448)             0         \n",
      "_________________________________________________________________\n",
      "dense (Dense)                (None, 1024)              57803776  \n",
      "_________________________________________________________________\n",
      "activation_5 (Activation)    (None, 1024)              0         \n",
      "_________________________________________________________________\n",
      "batch_normalization_5 (Batch (None, 1024)              4096      \n",
      "_________________________________________________________________\n",
      "dropout (Dropout)            (None, 1024)              0         \n",
      "_________________________________________________________________\n",
      "dense_1 (Dense)              (None, 12)                12300     \n",
      "_________________________________________________________________\n",
      "activation_6 (Activation)    (None, 12)                0         \n",
      "=================================================================\n",
      "Total params: 58,099,596\n",
      "Trainable params: 58,096,716\n",
      "Non-trainable params: 2,880\n",
      "_________________________________________________________________\n"
     ]
    }
   ],
   "source": [
    "model.summary()"
   ]
  },
  {
   "cell_type": "code",
   "execution_count": 27,
   "id": "473a4a95",
   "metadata": {
    "execution": {
     "iopub.execute_input": "2022-04-25T03:50:58.009471Z",
     "iopub.status.busy": "2022-04-25T03:50:58.008291Z",
     "iopub.status.idle": "2022-04-25T03:50:58.017632Z",
     "shell.execute_reply": "2022-04-25T03:50:58.018430Z",
     "shell.execute_reply.started": "2022-04-25T03:48:07.994787Z"
    },
    "papermill": {
     "duration": 0.074497,
     "end_time": "2022-04-25T03:50:58.018645",
     "exception": false,
     "start_time": "2022-04-25T03:50:57.944148",
     "status": "completed"
    },
    "tags": []
   },
   "outputs": [
    {
     "name": "stdout",
     "output_type": "stream",
     "text": [
      "[INFO] training network...\n"
     ]
    }
   ],
   "source": [
    "opt = Adam(lr=INIT_LR, decay=INIT_LR / EPOCHS)\n",
    "# distribution\n",
    "model.compile(loss=\"binary_crossentropy\", optimizer=opt,metrics=[\"accuracy\"])\n",
    "# train the network\n",
    "print(\"[INFO] training network...\")"
   ]
  },
  {
   "cell_type": "code",
   "execution_count": 28,
   "id": "1c43ff6d",
   "metadata": {
    "execution": {
     "iopub.execute_input": "2022-04-25T03:50:58.128470Z",
     "iopub.status.busy": "2022-04-25T03:50:58.127356Z",
     "iopub.status.idle": "2022-04-25T05:22:16.031300Z",
     "shell.execute_reply": "2022-04-25T05:22:16.031860Z",
     "shell.execute_reply.started": "2022-04-25T03:48:16.344277Z"
    },
    "papermill": {
     "duration": 5477.961657,
     "end_time": "2022-04-25T05:22:16.032039",
     "exception": false,
     "start_time": "2022-04-25T03:50:58.070382",
     "status": "completed"
    },
    "tags": []
   },
   "outputs": [
    {
     "name": "stderr",
     "output_type": "stream",
     "text": [
      "/opt/conda/lib/python3.7/site-packages/tensorflow/python/keras/engine/training.py:1844: UserWarning: `Model.fit_generator` is deprecated and will be removed in a future version. Please use `Model.fit`, which supports generators.\n",
      "  warnings.warn('`Model.fit_generator` is deprecated and '\n",
      "2022-04-25 03:50:59.974749: I tensorflow/compiler/mlir/mlir_graph_optimization_pass.cc:116] None of the MLIR optimization passes are enabled (registered 2)\n",
      "2022-04-25 03:50:59.979951: I tensorflow/core/platform/profile_utils/cpu_utils.cc:112] CPU Frequency: 2200000000 Hz\n"
     ]
    },
    {
     "name": "stdout",
     "output_type": "stream",
     "text": [
      "Epoch 1/200\n"
     ]
    },
    {
     "name": "stderr",
     "output_type": "stream",
     "text": [
      "2022-04-25 03:51:01.250123: I tensorflow/stream_executor/platform/default/dso_loader.cc:49] Successfully opened dynamic library libcublas.so.11\n",
      "2022-04-25 03:51:02.261159: I tensorflow/stream_executor/platform/default/dso_loader.cc:49] Successfully opened dynamic library libcublasLt.so.11\n",
      "2022-04-25 03:51:02.314294: I tensorflow/stream_executor/platform/default/dso_loader.cc:49] Successfully opened dynamic library libcudnn.so.8\n"
     ]
    },
    {
     "name": "stdout",
     "output_type": "stream",
     "text": [
      "60/60 [==============================] - 36s 461ms/step - loss: 0.8085 - accuracy: 0.4250 - val_loss: 1.0635 - val_accuracy: 0.0583\n",
      "Epoch 2/200\n",
      "60/60 [==============================] - 26s 439ms/step - loss: 0.3348 - accuracy: 0.5961 - val_loss: 0.5269 - val_accuracy: 0.0583\n",
      "Epoch 3/200\n",
      "60/60 [==============================] - 26s 439ms/step - loss: 0.1513 - accuracy: 0.7554 - val_loss: 0.4468 - val_accuracy: 0.0583\n",
      "Epoch 4/200\n",
      "60/60 [==============================] - 26s 437ms/step - loss: 0.1074 - accuracy: 0.7975 - val_loss: 0.4162 - val_accuracy: 0.2083\n",
      "Epoch 5/200\n",
      "60/60 [==============================] - 26s 433ms/step - loss: 0.0904 - accuracy: 0.8155 - val_loss: 0.4597 - val_accuracy: 0.2167\n",
      "Epoch 6/200\n",
      "60/60 [==============================] - 27s 446ms/step - loss: 0.0741 - accuracy: 0.8669 - val_loss: 0.8011 - val_accuracy: 0.0917\n",
      "Epoch 7/200\n",
      "60/60 [==============================] - 27s 443ms/step - loss: 0.0807 - accuracy: 0.8470 - val_loss: 0.3882 - val_accuracy: 0.3625\n",
      "Epoch 8/200\n",
      "60/60 [==============================] - 27s 445ms/step - loss: 0.0626 - accuracy: 0.8788 - val_loss: 0.1901 - val_accuracy: 0.6250\n",
      "Epoch 9/200\n",
      "60/60 [==============================] - 26s 435ms/step - loss: 0.0577 - accuracy: 0.8929 - val_loss: 0.2000 - val_accuracy: 0.5917\n",
      "Epoch 10/200\n",
      "60/60 [==============================] - 26s 432ms/step - loss: 0.0493 - accuracy: 0.9126 - val_loss: 0.2996 - val_accuracy: 0.4875\n",
      "Epoch 11/200\n",
      "60/60 [==============================] - 26s 439ms/step - loss: 0.0570 - accuracy: 0.9001 - val_loss: 0.2426 - val_accuracy: 0.6333\n",
      "Epoch 12/200\n",
      "60/60 [==============================] - 26s 440ms/step - loss: 0.0398 - accuracy: 0.9250 - val_loss: 0.1384 - val_accuracy: 0.7542\n",
      "Epoch 13/200\n",
      "60/60 [==============================] - 27s 449ms/step - loss: 0.0373 - accuracy: 0.9436 - val_loss: 2.5284 - val_accuracy: 0.2458\n",
      "Epoch 14/200\n",
      "60/60 [==============================] - 27s 449ms/step - loss: 0.0495 - accuracy: 0.9183 - val_loss: 0.3091 - val_accuracy: 0.6042\n",
      "Epoch 15/200\n",
      "60/60 [==============================] - 26s 435ms/step - loss: 0.0417 - accuracy: 0.9387 - val_loss: 0.1878 - val_accuracy: 0.8000\n",
      "Epoch 16/200\n",
      "60/60 [==============================] - 26s 441ms/step - loss: 0.0358 - accuracy: 0.9507 - val_loss: 0.2561 - val_accuracy: 0.5792\n",
      "Epoch 17/200\n",
      "60/60 [==============================] - 27s 443ms/step - loss: 0.0340 - accuracy: 0.9408 - val_loss: 0.8255 - val_accuracy: 0.3792\n",
      "Epoch 18/200\n",
      "60/60 [==============================] - 26s 438ms/step - loss: 0.0311 - accuracy: 0.9485 - val_loss: 0.2460 - val_accuracy: 0.6792\n",
      "Epoch 19/200\n",
      "60/60 [==============================] - 26s 441ms/step - loss: 0.0304 - accuracy: 0.9472 - val_loss: 0.4596 - val_accuracy: 0.5667\n",
      "Epoch 20/200\n",
      "60/60 [==============================] - 26s 439ms/step - loss: 0.0289 - accuracy: 0.9520 - val_loss: 1.0362 - val_accuracy: 0.3250\n",
      "Epoch 21/200\n",
      "60/60 [==============================] - 27s 442ms/step - loss: 0.0329 - accuracy: 0.9477 - val_loss: 0.5816 - val_accuracy: 0.5417\n",
      "Epoch 22/200\n",
      "60/60 [==============================] - 27s 445ms/step - loss: 0.0336 - accuracy: 0.9481 - val_loss: 0.2468 - val_accuracy: 0.7417\n",
      "Epoch 23/200\n",
      "60/60 [==============================] - 27s 447ms/step - loss: 0.0254 - accuracy: 0.9648 - val_loss: 0.3958 - val_accuracy: 0.5375\n",
      "Epoch 24/200\n",
      "60/60 [==============================] - 26s 440ms/step - loss: 0.0235 - accuracy: 0.9754 - val_loss: 0.7684 - val_accuracy: 0.3917\n",
      "Epoch 25/200\n",
      "60/60 [==============================] - 26s 425ms/step - loss: 0.0233 - accuracy: 0.9665 - val_loss: 0.4560 - val_accuracy: 0.5042\n",
      "Epoch 26/200\n",
      "60/60 [==============================] - 26s 441ms/step - loss: 0.0197 - accuracy: 0.9731 - val_loss: 0.1787 - val_accuracy: 0.7583\n",
      "Epoch 27/200\n",
      "60/60 [==============================] - 27s 449ms/step - loss: 0.0217 - accuracy: 0.9610 - val_loss: 0.0950 - val_accuracy: 0.8500\n",
      "Epoch 28/200\n",
      "60/60 [==============================] - 27s 444ms/step - loss: 0.0200 - accuracy: 0.9687 - val_loss: 0.4582 - val_accuracy: 0.4875\n",
      "Epoch 29/200\n",
      "60/60 [==============================] - 27s 446ms/step - loss: 0.0227 - accuracy: 0.9622 - val_loss: 0.1684 - val_accuracy: 0.7750\n",
      "Epoch 30/200\n",
      "60/60 [==============================] - 26s 435ms/step - loss: 0.0192 - accuracy: 0.9742 - val_loss: 0.1418 - val_accuracy: 0.7917\n",
      "Epoch 31/200\n",
      "60/60 [==============================] - 26s 427ms/step - loss: 0.0164 - accuracy: 0.9799 - val_loss: 0.3712 - val_accuracy: 0.6542\n",
      "Epoch 32/200\n",
      "60/60 [==============================] - 27s 447ms/step - loss: 0.0202 - accuracy: 0.9693 - val_loss: 0.1853 - val_accuracy: 0.7542\n",
      "Epoch 33/200\n",
      "60/60 [==============================] - 26s 441ms/step - loss: 0.0219 - accuracy: 0.9641 - val_loss: 0.0724 - val_accuracy: 0.8708\n",
      "Epoch 34/200\n",
      "60/60 [==============================] - 27s 446ms/step - loss: 0.0196 - accuracy: 0.9683 - val_loss: 0.2445 - val_accuracy: 0.6292\n",
      "Epoch 35/200\n",
      "60/60 [==============================] - 26s 438ms/step - loss: 0.0147 - accuracy: 0.9827 - val_loss: 0.1391 - val_accuracy: 0.7833\n",
      "Epoch 36/200\n",
      "60/60 [==============================] - 28s 457ms/step - loss: 0.0143 - accuracy: 0.9862 - val_loss: 0.1594 - val_accuracy: 0.7708\n",
      "Epoch 37/200\n",
      "60/60 [==============================] - 27s 448ms/step - loss: 0.0157 - accuracy: 0.9757 - val_loss: 0.8390 - val_accuracy: 0.3833\n",
      "Epoch 38/200\n",
      "60/60 [==============================] - 26s 438ms/step - loss: 0.0183 - accuracy: 0.9721 - val_loss: 0.5324 - val_accuracy: 0.5125\n",
      "Epoch 39/200\n",
      "60/60 [==============================] - 27s 448ms/step - loss: 0.0170 - accuracy: 0.9716 - val_loss: 0.5700 - val_accuracy: 0.4875\n",
      "Epoch 40/200\n",
      "60/60 [==============================] - 27s 445ms/step - loss: 0.0146 - accuracy: 0.9876 - val_loss: 0.3384 - val_accuracy: 0.6542\n",
      "Epoch 41/200\n",
      "60/60 [==============================] - 26s 429ms/step - loss: 0.0132 - accuracy: 0.9791 - val_loss: 0.2563 - val_accuracy: 0.6958\n",
      "Epoch 42/200\n",
      "60/60 [==============================] - 27s 447ms/step - loss: 0.0129 - accuracy: 0.9828 - val_loss: 0.1352 - val_accuracy: 0.8125\n",
      "Epoch 43/200\n",
      "60/60 [==============================] - 27s 444ms/step - loss: 0.0173 - accuracy: 0.9790 - val_loss: 0.1187 - val_accuracy: 0.8292\n",
      "Epoch 44/200\n",
      "60/60 [==============================] - 27s 442ms/step - loss: 0.0100 - accuracy: 0.9871 - val_loss: 0.1385 - val_accuracy: 0.8083\n",
      "Epoch 45/200\n",
      "60/60 [==============================] - 27s 445ms/step - loss: 0.0142 - accuracy: 0.9799 - val_loss: 0.6032 - val_accuracy: 0.4708\n",
      "Epoch 46/200\n",
      "60/60 [==============================] - 26s 440ms/step - loss: 0.0117 - accuracy: 0.9834 - val_loss: 0.0709 - val_accuracy: 0.8833\n",
      "Epoch 47/200\n",
      "60/60 [==============================] - 27s 444ms/step - loss: 0.0119 - accuracy: 0.9818 - val_loss: 0.3067 - val_accuracy: 0.6917\n",
      "Epoch 48/200\n",
      "60/60 [==============================] - 27s 445ms/step - loss: 0.0107 - accuracy: 0.9877 - val_loss: 0.3220 - val_accuracy: 0.6250\n",
      "Epoch 49/200\n",
      "60/60 [==============================] - 27s 446ms/step - loss: 0.0170 - accuracy: 0.9738 - val_loss: 0.4094 - val_accuracy: 0.5875\n",
      "Epoch 50/200\n",
      "60/60 [==============================] - 26s 428ms/step - loss: 0.0132 - accuracy: 0.9841 - val_loss: 0.5432 - val_accuracy: 0.5417\n",
      "Epoch 51/200\n",
      "60/60 [==============================] - 26s 439ms/step - loss: 0.0136 - accuracy: 0.9797 - val_loss: 0.1185 - val_accuracy: 0.7875\n",
      "Epoch 52/200\n",
      "60/60 [==============================] - 27s 451ms/step - loss: 0.0107 - accuracy: 0.9845 - val_loss: 0.1606 - val_accuracy: 0.7542\n",
      "Epoch 53/200\n",
      "60/60 [==============================] - 27s 450ms/step - loss: 0.0156 - accuracy: 0.9755 - val_loss: 0.3672 - val_accuracy: 0.6250\n",
      "Epoch 54/200\n",
      "60/60 [==============================] - 27s 449ms/step - loss: 0.0140 - accuracy: 0.9796 - val_loss: 0.2483 - val_accuracy: 0.7167\n",
      "Epoch 55/200\n",
      "60/60 [==============================] - 27s 443ms/step - loss: 0.0142 - accuracy: 0.9867 - val_loss: 0.4814 - val_accuracy: 0.5833\n",
      "Epoch 56/200\n",
      "60/60 [==============================] - 26s 425ms/step - loss: 0.0128 - accuracy: 0.9794 - val_loss: 0.3454 - val_accuracy: 0.6500\n",
      "Epoch 57/200\n",
      "60/60 [==============================] - 27s 444ms/step - loss: 0.0086 - accuracy: 0.9913 - val_loss: 0.1934 - val_accuracy: 0.7708\n",
      "Epoch 58/200\n",
      "60/60 [==============================] - 27s 456ms/step - loss: 0.0094 - accuracy: 0.9889 - val_loss: 0.0921 - val_accuracy: 0.8708\n",
      "Epoch 59/200\n",
      "60/60 [==============================] - 27s 448ms/step - loss: 0.0093 - accuracy: 0.9855 - val_loss: 0.2286 - val_accuracy: 0.7208\n",
      "Epoch 60/200\n",
      "60/60 [==============================] - 27s 456ms/step - loss: 0.0093 - accuracy: 0.9865 - val_loss: 0.0346 - val_accuracy: 0.9292\n",
      "Epoch 61/200\n",
      "60/60 [==============================] - 25s 417ms/step - loss: 0.0067 - accuracy: 0.9957 - val_loss: 0.0609 - val_accuracy: 0.8917\n",
      "Epoch 62/200\n",
      "60/60 [==============================] - 27s 449ms/step - loss: 0.0100 - accuracy: 0.9862 - val_loss: 0.2309 - val_accuracy: 0.7458\n",
      "Epoch 63/200\n",
      "60/60 [==============================] - 27s 456ms/step - loss: 0.0092 - accuracy: 0.9868 - val_loss: 0.3413 - val_accuracy: 0.6542\n",
      "Epoch 64/200\n",
      "60/60 [==============================] - 27s 455ms/step - loss: 0.0107 - accuracy: 0.9844 - val_loss: 1.1017 - val_accuracy: 0.4250\n",
      "Epoch 65/200\n",
      "60/60 [==============================] - 27s 457ms/step - loss: 0.0123 - accuracy: 0.9819 - val_loss: 0.2542 - val_accuracy: 0.6833\n",
      "Epoch 66/200\n",
      "60/60 [==============================] - 27s 442ms/step - loss: 0.0106 - accuracy: 0.9876 - val_loss: 0.1705 - val_accuracy: 0.8000\n",
      "Epoch 67/200\n",
      "60/60 [==============================] - 26s 427ms/step - loss: 0.0088 - accuracy: 0.9835 - val_loss: 0.0887 - val_accuracy: 0.8792\n",
      "Epoch 68/200\n",
      "60/60 [==============================] - 27s 457ms/step - loss: 0.0081 - accuracy: 0.9909 - val_loss: 0.2408 - val_accuracy: 0.7208\n",
      "Epoch 69/200\n",
      "60/60 [==============================] - 27s 456ms/step - loss: 0.0086 - accuracy: 0.9916 - val_loss: 0.2711 - val_accuracy: 0.6792\n",
      "Epoch 70/200\n",
      "60/60 [==============================] - 27s 451ms/step - loss: 0.0095 - accuracy: 0.9895 - val_loss: 0.4034 - val_accuracy: 0.6625\n",
      "Epoch 71/200\n",
      "60/60 [==============================] - 27s 456ms/step - loss: 0.0080 - accuracy: 0.9922 - val_loss: 0.8911 - val_accuracy: 0.3250\n",
      "Epoch 72/200\n",
      "60/60 [==============================] - 25s 423ms/step - loss: 0.0098 - accuracy: 0.9873 - val_loss: 0.3154 - val_accuracy: 0.7333\n",
      "Epoch 73/200\n",
      "60/60 [==============================] - 27s 451ms/step - loss: 0.0096 - accuracy: 0.9922 - val_loss: 0.1078 - val_accuracy: 0.8833\n",
      "Epoch 74/200\n",
      "60/60 [==============================] - 28s 461ms/step - loss: 0.0070 - accuracy: 0.9933 - val_loss: 0.3575 - val_accuracy: 0.6583\n",
      "Epoch 75/200\n",
      "60/60 [==============================] - 27s 455ms/step - loss: 0.0082 - accuracy: 0.9875 - val_loss: 0.1768 - val_accuracy: 0.8375\n",
      "Epoch 76/200\n",
      "60/60 [==============================] - 28s 462ms/step - loss: 0.0103 - accuracy: 0.9901 - val_loss: 0.1499 - val_accuracy: 0.8125\n",
      "Epoch 77/200\n",
      "60/60 [==============================] - 27s 445ms/step - loss: 0.0057 - accuracy: 0.9928 - val_loss: 0.1931 - val_accuracy: 0.8125\n",
      "Epoch 78/200\n",
      "60/60 [==============================] - 26s 440ms/step - loss: 0.0075 - accuracy: 0.9916 - val_loss: 0.6267 - val_accuracy: 0.4583\n",
      "Epoch 79/200\n",
      "60/60 [==============================] - 28s 464ms/step - loss: 0.0063 - accuracy: 0.9928 - val_loss: 0.1962 - val_accuracy: 0.7375\n",
      "Epoch 80/200\n",
      "60/60 [==============================] - 28s 466ms/step - loss: 0.0046 - accuracy: 0.9963 - val_loss: 0.0524 - val_accuracy: 0.9417\n",
      "Epoch 81/200\n",
      "60/60 [==============================] - 28s 462ms/step - loss: 0.0063 - accuracy: 0.9938 - val_loss: 0.1736 - val_accuracy: 0.7792\n",
      "Epoch 82/200\n",
      "60/60 [==============================] - 28s 466ms/step - loss: 0.0072 - accuracy: 0.9940 - val_loss: 0.1382 - val_accuracy: 0.8667\n",
      "Epoch 83/200\n",
      "60/60 [==============================] - 27s 445ms/step - loss: 0.0068 - accuracy: 0.9890 - val_loss: 0.6262 - val_accuracy: 0.5417\n",
      "Epoch 84/200\n",
      "60/60 [==============================] - 27s 445ms/step - loss: 0.0223 - accuracy: 0.9676 - val_loss: 1.0716 - val_accuracy: 0.3375\n",
      "Epoch 85/200\n",
      "60/60 [==============================] - 28s 463ms/step - loss: 0.0172 - accuracy: 0.9783 - val_loss: 0.1208 - val_accuracy: 0.8542\n",
      "Epoch 86/200\n",
      "60/60 [==============================] - 27s 458ms/step - loss: 0.0108 - accuracy: 0.9824 - val_loss: 0.9275 - val_accuracy: 0.5250\n",
      "Epoch 87/200\n",
      "60/60 [==============================] - 28s 464ms/step - loss: 0.0119 - accuracy: 0.9844 - val_loss: 0.2494 - val_accuracy: 0.7333\n",
      "Epoch 88/200\n",
      "60/60 [==============================] - 27s 458ms/step - loss: 0.0085 - accuracy: 0.9889 - val_loss: 0.1235 - val_accuracy: 0.8667\n",
      "Epoch 89/200\n",
      "60/60 [==============================] - 25s 416ms/step - loss: 0.0064 - accuracy: 0.9925 - val_loss: 0.1537 - val_accuracy: 0.7917\n",
      "Epoch 90/200\n",
      "60/60 [==============================] - 28s 471ms/step - loss: 0.0083 - accuracy: 0.9910 - val_loss: 0.6210 - val_accuracy: 0.5583\n",
      "Epoch 91/200\n",
      "60/60 [==============================] - 27s 458ms/step - loss: 0.0079 - accuracy: 0.9889 - val_loss: 0.1591 - val_accuracy: 0.8125\n",
      "Epoch 92/200\n",
      "60/60 [==============================] - 28s 469ms/step - loss: 0.0056 - accuracy: 0.9953 - val_loss: 0.7202 - val_accuracy: 0.5750\n",
      "Epoch 93/200\n",
      "60/60 [==============================] - 28s 461ms/step - loss: 0.0061 - accuracy: 0.9936 - val_loss: 0.3588 - val_accuracy: 0.6708\n",
      "Epoch 94/200\n",
      "60/60 [==============================] - 25s 424ms/step - loss: 0.0069 - accuracy: 0.9906 - val_loss: 0.9798 - val_accuracy: 0.4875\n",
      "Epoch 95/200\n",
      "60/60 [==============================] - 28s 466ms/step - loss: 0.0073 - accuracy: 0.9911 - val_loss: 0.5162 - val_accuracy: 0.6292\n",
      "Epoch 96/200\n",
      "60/60 [==============================] - 28s 471ms/step - loss: 0.0081 - accuracy: 0.9918 - val_loss: 0.0871 - val_accuracy: 0.8875\n",
      "Epoch 97/200\n",
      "60/60 [==============================] - 28s 465ms/step - loss: 0.0079 - accuracy: 0.9892 - val_loss: 0.3841 - val_accuracy: 0.7000\n",
      "Epoch 98/200\n",
      "60/60 [==============================] - 28s 468ms/step - loss: 0.0073 - accuracy: 0.9925 - val_loss: 0.5746 - val_accuracy: 0.5375\n",
      "Epoch 99/200\n",
      "60/60 [==============================] - 26s 442ms/step - loss: 0.0093 - accuracy: 0.9902 - val_loss: 0.3277 - val_accuracy: 0.6833\n",
      "Epoch 100/200\n",
      "60/60 [==============================] - 27s 438ms/step - loss: 0.0115 - accuracy: 0.9832 - val_loss: 0.3456 - val_accuracy: 0.5417\n",
      "Epoch 101/200\n",
      "60/60 [==============================] - 28s 465ms/step - loss: 0.0092 - accuracy: 0.9879 - val_loss: 0.4931 - val_accuracy: 0.5917\n",
      "Epoch 102/200\n",
      "60/60 [==============================] - 28s 466ms/step - loss: 0.0077 - accuracy: 0.9918 - val_loss: 0.2189 - val_accuracy: 0.7833\n",
      "Epoch 103/200\n",
      "60/60 [==============================] - 28s 466ms/step - loss: 0.0043 - accuracy: 0.9946 - val_loss: 0.0856 - val_accuracy: 0.8875\n",
      "Epoch 104/200\n",
      "60/60 [==============================] - 28s 459ms/step - loss: 0.0060 - accuracy: 0.9956 - val_loss: 0.1364 - val_accuracy: 0.8250\n",
      "Epoch 105/200\n",
      "60/60 [==============================] - 26s 434ms/step - loss: 0.0049 - accuracy: 0.9949 - val_loss: 0.1859 - val_accuracy: 0.8000\n",
      "Epoch 106/200\n",
      "60/60 [==============================] - 28s 463ms/step - loss: 0.0037 - accuracy: 0.9968 - val_loss: 0.0706 - val_accuracy: 0.8917\n",
      "Epoch 107/200\n",
      "60/60 [==============================] - 28s 464ms/step - loss: 0.0091 - accuracy: 0.9864 - val_loss: 0.0922 - val_accuracy: 0.8833\n",
      "Epoch 108/200\n",
      "60/60 [==============================] - 28s 469ms/step - loss: 0.0064 - accuracy: 0.9936 - val_loss: 0.1070 - val_accuracy: 0.8792\n",
      "Epoch 109/200\n",
      "60/60 [==============================] - 28s 461ms/step - loss: 0.0056 - accuracy: 0.9925 - val_loss: 0.2652 - val_accuracy: 0.7125\n",
      "Epoch 110/200\n",
      "60/60 [==============================] - 26s 438ms/step - loss: 0.0067 - accuracy: 0.9977 - val_loss: 0.2726 - val_accuracy: 0.7583\n",
      "Epoch 111/200\n",
      "60/60 [==============================] - 28s 468ms/step - loss: 0.0049 - accuracy: 0.9930 - val_loss: 0.2793 - val_accuracy: 0.7500\n",
      "Epoch 112/200\n",
      "60/60 [==============================] - 27s 456ms/step - loss: 0.0062 - accuracy: 0.9906 - val_loss: 0.3750 - val_accuracy: 0.6583\n",
      "Epoch 113/200\n",
      "60/60 [==============================] - 28s 465ms/step - loss: 0.0060 - accuracy: 0.9903 - val_loss: 0.3930 - val_accuracy: 0.6500\n",
      "Epoch 114/200\n",
      "60/60 [==============================] - 29s 478ms/step - loss: 0.0121 - accuracy: 0.9831 - val_loss: 0.8870 - val_accuracy: 0.4458\n",
      "Epoch 115/200\n",
      "60/60 [==============================] - 26s 431ms/step - loss: 0.0203 - accuracy: 0.9755 - val_loss: 0.9307 - val_accuracy: 0.4542\n",
      "Epoch 116/200\n",
      "60/60 [==============================] - 29s 477ms/step - loss: 0.0335 - accuracy: 0.9506 - val_loss: 0.3604 - val_accuracy: 0.6833\n",
      "Epoch 117/200\n",
      "60/60 [==============================] - 28s 469ms/step - loss: 0.0135 - accuracy: 0.9791 - val_loss: 0.0437 - val_accuracy: 0.9292\n",
      "Epoch 118/200\n",
      "60/60 [==============================] - 28s 462ms/step - loss: 0.0094 - accuracy: 0.9894 - val_loss: 0.1025 - val_accuracy: 0.8750\n",
      "Epoch 119/200\n",
      "60/60 [==============================] - 28s 470ms/step - loss: 0.0066 - accuracy: 0.9937 - val_loss: 0.0393 - val_accuracy: 0.9542\n",
      "Epoch 120/200\n",
      "60/60 [==============================] - 26s 440ms/step - loss: 0.0059 - accuracy: 0.9936 - val_loss: 0.2225 - val_accuracy: 0.7917\n",
      "Epoch 121/200\n",
      "60/60 [==============================] - 28s 472ms/step - loss: 0.0049 - accuracy: 0.9953 - val_loss: 0.1647 - val_accuracy: 0.8333\n",
      "Epoch 122/200\n",
      "60/60 [==============================] - 28s 476ms/step - loss: 0.0044 - accuracy: 0.9956 - val_loss: 0.0652 - val_accuracy: 0.9083\n",
      "Epoch 123/200\n",
      "60/60 [==============================] - 28s 474ms/step - loss: 0.0037 - accuracy: 0.9953 - val_loss: 0.1386 - val_accuracy: 0.8417\n",
      "Epoch 124/200\n",
      "60/60 [==============================] - 27s 452ms/step - loss: 0.0060 - accuracy: 0.9923 - val_loss: 0.2166 - val_accuracy: 0.7625\n",
      "Epoch 125/200\n",
      "60/60 [==============================] - 26s 429ms/step - loss: 0.0065 - accuracy: 0.9947 - val_loss: 0.1601 - val_accuracy: 0.8375\n",
      "Epoch 126/200\n",
      "60/60 [==============================] - 29s 480ms/step - loss: 0.0066 - accuracy: 0.9904 - val_loss: 0.1610 - val_accuracy: 0.8167\n",
      "Epoch 127/200\n",
      "60/60 [==============================] - 28s 473ms/step - loss: 0.0049 - accuracy: 0.9940 - val_loss: 0.0451 - val_accuracy: 0.9333\n",
      "Epoch 128/200\n",
      "60/60 [==============================] - 29s 478ms/step - loss: 0.0028 - accuracy: 0.9976 - val_loss: 0.2448 - val_accuracy: 0.7542\n",
      "Epoch 129/200\n",
      "60/60 [==============================] - 29s 476ms/step - loss: 0.0030 - accuracy: 0.9968 - val_loss: 0.0967 - val_accuracy: 0.9042\n",
      "Epoch 130/200\n",
      "60/60 [==============================] - 26s 429ms/step - loss: 0.0034 - accuracy: 0.9968 - val_loss: 0.1033 - val_accuracy: 0.8750\n",
      "Epoch 131/200\n",
      "60/60 [==============================] - 28s 464ms/step - loss: 0.0043 - accuracy: 0.9972 - val_loss: 0.3850 - val_accuracy: 0.6583\n",
      "Epoch 132/200\n",
      "60/60 [==============================] - 29s 476ms/step - loss: 0.0060 - accuracy: 0.9947 - val_loss: 0.0698 - val_accuracy: 0.8958\n",
      "Epoch 133/200\n",
      "60/60 [==============================] - 29s 480ms/step - loss: 0.0067 - accuracy: 0.9927 - val_loss: 0.2566 - val_accuracy: 0.6917\n",
      "Epoch 134/200\n",
      "60/60 [==============================] - 28s 473ms/step - loss: 0.0083 - accuracy: 0.9879 - val_loss: 0.2019 - val_accuracy: 0.7750\n",
      "Epoch 135/200\n",
      "60/60 [==============================] - 26s 439ms/step - loss: 0.0049 - accuracy: 0.9938 - val_loss: 0.1137 - val_accuracy: 0.8542\n",
      "Epoch 136/200\n",
      "60/60 [==============================] - 28s 472ms/step - loss: 0.0067 - accuracy: 0.9914 - val_loss: 0.1097 - val_accuracy: 0.8917\n",
      "Epoch 137/200\n",
      "60/60 [==============================] - 28s 467ms/step - loss: 0.0042 - accuracy: 0.9969 - val_loss: 0.1373 - val_accuracy: 0.8167\n",
      "Epoch 138/200\n",
      "60/60 [==============================] - 28s 471ms/step - loss: 0.0046 - accuracy: 0.9947 - val_loss: 0.2324 - val_accuracy: 0.7625\n",
      "Epoch 139/200\n",
      "60/60 [==============================] - 28s 463ms/step - loss: 0.0025 - accuracy: 0.9991 - val_loss: 0.0634 - val_accuracy: 0.9458\n",
      "Epoch 140/200\n",
      "60/60 [==============================] - 27s 438ms/step - loss: 0.0030 - accuracy: 0.9963 - val_loss: 0.1010 - val_accuracy: 0.8750\n",
      "Epoch 141/200\n",
      "60/60 [==============================] - 29s 474ms/step - loss: 0.0050 - accuracy: 0.9923 - val_loss: 0.1733 - val_accuracy: 0.7792\n",
      "Epoch 142/200\n",
      "60/60 [==============================] - 29s 481ms/step - loss: 0.0050 - accuracy: 0.9939 - val_loss: 0.3970 - val_accuracy: 0.6667\n",
      "Epoch 143/200\n",
      "60/60 [==============================] - 28s 473ms/step - loss: 0.0060 - accuracy: 0.9903 - val_loss: 0.3198 - val_accuracy: 0.7250\n",
      "Epoch 144/200\n",
      "60/60 [==============================] - 26s 434ms/step - loss: 0.0049 - accuracy: 0.9960 - val_loss: 0.1811 - val_accuracy: 0.7958\n",
      "Epoch 145/200\n",
      "60/60 [==============================] - 28s 459ms/step - loss: 0.0047 - accuracy: 0.9974 - val_loss: 0.2071 - val_accuracy: 0.7583\n",
      "Epoch 146/200\n",
      "60/60 [==============================] - 29s 480ms/step - loss: 0.0035 - accuracy: 0.9976 - val_loss: 0.1447 - val_accuracy: 0.8125\n",
      "Epoch 147/200\n",
      "60/60 [==============================] - 29s 479ms/step - loss: 0.0036 - accuracy: 0.9974 - val_loss: 0.1177 - val_accuracy: 0.8667\n",
      "Epoch 148/200\n",
      "60/60 [==============================] - 29s 479ms/step - loss: 0.0035 - accuracy: 0.9967 - val_loss: 0.0946 - val_accuracy: 0.9083\n",
      "Epoch 149/200\n",
      "60/60 [==============================] - 26s 430ms/step - loss: 0.0028 - accuracy: 0.9980 - val_loss: 0.4029 - val_accuracy: 0.7083\n",
      "Epoch 150/200\n",
      "60/60 [==============================] - 28s 475ms/step - loss: 0.0061 - accuracy: 0.9931 - val_loss: 0.1412 - val_accuracy: 0.8500\n",
      "Epoch 151/200\n",
      "60/60 [==============================] - 28s 472ms/step - loss: 0.0060 - accuracy: 0.9930 - val_loss: 0.1733 - val_accuracy: 0.8292\n",
      "Epoch 152/200\n",
      "60/60 [==============================] - 28s 474ms/step - loss: 0.0064 - accuracy: 0.9912 - val_loss: 0.1037 - val_accuracy: 0.8792\n",
      "Epoch 153/200\n",
      "60/60 [==============================] - 27s 457ms/step - loss: 0.0037 - accuracy: 0.9944 - val_loss: 1.4509 - val_accuracy: 0.3583\n",
      "Epoch 154/200\n",
      "60/60 [==============================] - 27s 444ms/step - loss: 0.0026 - accuracy: 0.9989 - val_loss: 0.0218 - val_accuracy: 0.9708\n",
      "Epoch 155/200\n",
      "60/60 [==============================] - 29s 483ms/step - loss: 0.0026 - accuracy: 0.9985 - val_loss: 0.1559 - val_accuracy: 0.8333\n",
      "Epoch 156/200\n",
      "60/60 [==============================] - 28s 471ms/step - loss: 0.0049 - accuracy: 0.9923 - val_loss: 0.8129 - val_accuracy: 0.5833\n",
      "Epoch 157/200\n",
      "60/60 [==============================] - 28s 464ms/step - loss: 0.0060 - accuracy: 0.9921 - val_loss: 0.2142 - val_accuracy: 0.7875\n",
      "Epoch 158/200\n",
      "60/60 [==============================] - 26s 431ms/step - loss: 0.0074 - accuracy: 0.9870 - val_loss: 0.8299 - val_accuracy: 0.5125\n",
      "Epoch 159/200\n",
      "60/60 [==============================] - 29s 483ms/step - loss: 0.0034 - accuracy: 0.9979 - val_loss: 0.1240 - val_accuracy: 0.8250\n",
      "Epoch 160/200\n",
      "60/60 [==============================] - 28s 474ms/step - loss: 0.0075 - accuracy: 0.9903 - val_loss: 0.1699 - val_accuracy: 0.8500\n",
      "Epoch 161/200\n",
      "60/60 [==============================] - 29s 482ms/step - loss: 0.0027 - accuracy: 0.9970 - val_loss: 0.0266 - val_accuracy: 0.9667\n",
      "Epoch 162/200\n",
      "60/60 [==============================] - 26s 430ms/step - loss: 0.0041 - accuracy: 0.9958 - val_loss: 0.1126 - val_accuracy: 0.8792\n",
      "Epoch 163/200\n",
      "60/60 [==============================] - 28s 468ms/step - loss: 0.0055 - accuracy: 0.9948 - val_loss: 0.3672 - val_accuracy: 0.6250\n",
      "Epoch 164/200\n",
      "60/60 [==============================] - 29s 477ms/step - loss: 0.0046 - accuracy: 0.9977 - val_loss: 0.0343 - val_accuracy: 0.9500\n",
      "Epoch 165/200\n",
      "60/60 [==============================] - 29s 482ms/step - loss: 0.0040 - accuracy: 0.9948 - val_loss: 0.4731 - val_accuracy: 0.6750\n",
      "Epoch 166/200\n",
      "60/60 [==============================] - 29s 482ms/step - loss: 0.0042 - accuracy: 0.9955 - val_loss: 1.1564 - val_accuracy: 0.4625\n",
      "Epoch 167/200\n",
      "60/60 [==============================] - 26s 435ms/step - loss: 0.0016 - accuracy: 0.9996 - val_loss: 0.1279 - val_accuracy: 0.8333\n",
      "Epoch 168/200\n",
      "60/60 [==============================] - 29s 482ms/step - loss: 0.0054 - accuracy: 0.9918 - val_loss: 0.5116 - val_accuracy: 0.6375\n",
      "Epoch 169/200\n",
      "60/60 [==============================] - 29s 477ms/step - loss: 0.0044 - accuracy: 0.9960 - val_loss: 0.0255 - val_accuracy: 0.9583\n",
      "Epoch 170/200\n",
      "60/60 [==============================] - 28s 475ms/step - loss: 0.0058 - accuracy: 0.9939 - val_loss: 0.1284 - val_accuracy: 0.8917\n",
      "Epoch 171/200\n",
      "60/60 [==============================] - 26s 421ms/step - loss: 0.0032 - accuracy: 0.9976 - val_loss: 0.0450 - val_accuracy: 0.9333\n",
      "Epoch 172/200\n",
      "60/60 [==============================] - 29s 490ms/step - loss: 0.0036 - accuracy: 0.9972 - val_loss: 0.2277 - val_accuracy: 0.8000\n",
      "Epoch 173/200\n",
      "60/60 [==============================] - 29s 484ms/step - loss: 0.0043 - accuracy: 0.9966 - val_loss: 0.6951 - val_accuracy: 0.5667\n",
      "Epoch 174/200\n",
      "60/60 [==============================] - 29s 485ms/step - loss: 0.0079 - accuracy: 0.9901 - val_loss: 0.3831 - val_accuracy: 0.6958\n",
      "Epoch 175/200\n",
      "60/60 [==============================] - 27s 453ms/step - loss: 0.0074 - accuracy: 0.9905 - val_loss: 0.2507 - val_accuracy: 0.7083\n",
      "Epoch 176/200\n",
      "60/60 [==============================] - 27s 447ms/step - loss: 0.0040 - accuracy: 0.9939 - val_loss: 0.1871 - val_accuracy: 0.8083\n",
      "Epoch 177/200\n",
      "60/60 [==============================] - 29s 487ms/step - loss: 0.0044 - accuracy: 0.9938 - val_loss: 0.2384 - val_accuracy: 0.7833\n",
      "Epoch 178/200\n",
      "60/60 [==============================] - 29s 489ms/step - loss: 0.0046 - accuracy: 0.9947 - val_loss: 0.0262 - val_accuracy: 0.9542\n",
      "Epoch 179/200\n",
      "60/60 [==============================] - 29s 482ms/step - loss: 0.0080 - accuracy: 0.9916 - val_loss: 0.0470 - val_accuracy: 0.9250\n",
      "Epoch 180/200\n",
      "60/60 [==============================] - 26s 438ms/step - loss: 0.0052 - accuracy: 0.9942 - val_loss: 0.1907 - val_accuracy: 0.7667\n",
      "Epoch 181/200\n",
      "60/60 [==============================] - 29s 483ms/step - loss: 0.0036 - accuracy: 0.9952 - val_loss: 0.4364 - val_accuracy: 0.7125\n",
      "Epoch 182/200\n",
      "60/60 [==============================] - 30s 496ms/step - loss: 0.0024 - accuracy: 0.9983 - val_loss: 0.3715 - val_accuracy: 0.7000\n",
      "Epoch 183/200\n",
      "60/60 [==============================] - 28s 472ms/step - loss: 0.0061 - accuracy: 0.9890 - val_loss: 0.2476 - val_accuracy: 0.7667\n",
      "Epoch 184/200\n",
      "60/60 [==============================] - 26s 423ms/step - loss: 0.0080 - accuracy: 0.9926 - val_loss: 0.6634 - val_accuracy: 0.6292\n",
      "Epoch 185/200\n",
      "60/60 [==============================] - 29s 477ms/step - loss: 0.0038 - accuracy: 0.9954 - val_loss: 0.0921 - val_accuracy: 0.9000\n",
      "Epoch 186/200\n",
      "60/60 [==============================] - 30s 491ms/step - loss: 0.0042 - accuracy: 0.9963 - val_loss: 0.2576 - val_accuracy: 0.7917\n",
      "Epoch 187/200\n",
      "60/60 [==============================] - 26s 433ms/step - loss: 0.0032 - accuracy: 0.9959 - val_loss: 0.0928 - val_accuracy: 0.9000\n",
      "Epoch 188/200\n",
      "60/60 [==============================] - 29s 484ms/step - loss: 0.0032 - accuracy: 0.9986 - val_loss: 0.0777 - val_accuracy: 0.9083\n",
      "Epoch 189/200\n",
      "60/60 [==============================] - 25s 417ms/step - loss: 0.0034 - accuracy: 0.9971 - val_loss: 0.2813 - val_accuracy: 0.7542\n",
      "Epoch 190/200\n",
      "60/60 [==============================] - 26s 439ms/step - loss: 0.0028 - accuracy: 0.9977 - val_loss: 0.5165 - val_accuracy: 0.6583\n",
      "Epoch 191/200\n",
      "60/60 [==============================] - 29s 485ms/step - loss: 0.0023 - accuracy: 0.9967 - val_loss: 0.0529 - val_accuracy: 0.9375\n",
      "Epoch 192/200\n",
      "60/60 [==============================] - 26s 431ms/step - loss: 0.0043 - accuracy: 0.9961 - val_loss: 0.0534 - val_accuracy: 0.9333\n",
      "Epoch 193/200\n",
      "60/60 [==============================] - 29s 489ms/step - loss: 0.0035 - accuracy: 0.9958 - val_loss: 0.4033 - val_accuracy: 0.6875\n",
      "Epoch 194/200\n",
      "60/60 [==============================] - 26s 435ms/step - loss: 0.0040 - accuracy: 0.9929 - val_loss: 0.1770 - val_accuracy: 0.8167\n",
      "Epoch 195/200\n",
      "60/60 [==============================] - 25s 417ms/step - loss: 0.0034 - accuracy: 0.9982 - val_loss: 0.4609 - val_accuracy: 0.5917\n",
      "Epoch 196/200\n",
      "60/60 [==============================] - 29s 491ms/step - loss: 0.0030 - accuracy: 0.9971 - val_loss: 0.0635 - val_accuracy: 0.9292\n",
      "Epoch 197/200\n",
      "60/60 [==============================] - 26s 433ms/step - loss: 0.0014 - accuracy: 0.9999 - val_loss: 0.0773 - val_accuracy: 0.9042\n",
      "Epoch 198/200\n",
      "60/60 [==============================] - 29s 492ms/step - loss: 0.0036 - accuracy: 0.9955 - val_loss: 0.4738 - val_accuracy: 0.7250\n",
      "Epoch 199/200\n",
      "60/60 [==============================] - 26s 430ms/step - loss: 0.0017 - accuracy: 0.9993 - val_loss: 0.4200 - val_accuracy: 0.6458\n",
      "Epoch 200/200\n",
      "60/60 [==============================] - 25s 424ms/step - loss: 0.0028 - accuracy: 0.9975 - val_loss: 0.4751 - val_accuracy: 0.6708\n"
     ]
    }
   ],
   "source": [
    "history = model.fit_generator(\n",
    "    aug.flow(x_train, y_train, batch_size=BS),\n",
    "    validation_data=(x_valid, y_valid),\n",
    "    steps_per_epoch=len(x_train) // BS,\n",
    "    epochs=EPOCHS, verbose=1\n",
    "    )"
   ]
  },
  {
   "cell_type": "code",
   "execution_count": 29,
   "id": "4c8492de",
   "metadata": {
    "execution": {
     "iopub.execute_input": "2022-04-25T05:22:25.335446Z",
     "iopub.status.busy": "2022-04-25T05:22:25.334437Z",
     "iopub.status.idle": "2022-04-25T05:22:25.339268Z",
     "shell.execute_reply": "2022-04-25T05:22:25.339797Z",
     "shell.execute_reply.started": "2022-04-25T03:44:22.916585Z"
    },
    "papermill": {
     "duration": 4.272859,
     "end_time": "2022-04-25T05:22:25.339950",
     "exception": false,
     "start_time": "2022-04-25T05:22:21.067091",
     "status": "completed"
    },
    "tags": []
   },
   "outputs": [
    {
     "data": {
      "text/plain": [
       "{'loss': [0.6300286054611206,\n",
       "  0.2736230790615082,\n",
       "  0.1398060917854309,\n",
       "  0.102592833340168,\n",
       "  0.08846824616193771,\n",
       "  0.07601930946111679,\n",
       "  0.0778428167104721,\n",
       "  0.0634792149066925,\n",
       "  0.056667961180210114,\n",
       "  0.05154966935515404,\n",
       "  0.05583004653453827,\n",
       "  0.039774227887392044,\n",
       "  0.048267628997564316,\n",
       "  0.04742935672402382,\n",
       "  0.04348652809858322,\n",
       "  0.037114065140485764,\n",
       "  0.034301407635211945,\n",
       "  0.02811264619231224,\n",
       "  0.033088963478803635,\n",
       "  0.029812518507242203,\n",
       "  0.03250117972493172,\n",
       "  0.03483692929148674,\n",
       "  0.025460511445999146,\n",
       "  0.023608338087797165,\n",
       "  0.023297937586903572,\n",
       "  0.020109759643673897,\n",
       "  0.02309204265475273,\n",
       "  0.020204372704029083,\n",
       "  0.022071518003940582,\n",
       "  0.01987065002322197,\n",
       "  0.018489612266421318,\n",
       "  0.02238869108259678,\n",
       "  0.020530886948108673,\n",
       "  0.023350007832050323,\n",
       "  0.016696244478225708,\n",
       "  0.015792859718203545,\n",
       "  0.01751505397260189,\n",
       "  0.017670059576630592,\n",
       "  0.0173319224268198,\n",
       "  0.014199587516486645,\n",
       "  0.012690606527030468,\n",
       "  0.013009512796998024,\n",
       "  0.01723005250096321,\n",
       "  0.012243304401636124,\n",
       "  0.015474896878004074,\n",
       "  0.012671058997511864,\n",
       "  0.01264338381588459,\n",
       "  0.01332115288823843,\n",
       "  0.015255684964358807,\n",
       "  0.013230410404503345,\n",
       "  0.010573619976639748,\n",
       "  0.013531551696360111,\n",
       "  0.01527397334575653,\n",
       "  0.014118725433945656,\n",
       "  0.015291523188352585,\n",
       "  0.012734760530292988,\n",
       "  0.008566947653889656,\n",
       "  0.009745385497808456,\n",
       "  0.010133547708392143,\n",
       "  0.009675061330199242,\n",
       "  0.007569578010588884,\n",
       "  0.010950102470815182,\n",
       "  0.011199891567230225,\n",
       "  0.010372078977525234,\n",
       "  0.013925106264650822,\n",
       "  0.010352376848459244,\n",
       "  0.009140253998339176,\n",
       "  0.009106450714170933,\n",
       "  0.010272124782204628,\n",
       "  0.01123457308858633,\n",
       "  0.008786290884017944,\n",
       "  0.010981423780322075,\n",
       "  0.009421801194548607,\n",
       "  0.0074495538137853146,\n",
       "  0.009147663600742817,\n",
       "  0.009995910339057446,\n",
       "  0.005833468399941921,\n",
       "  0.00867144949734211,\n",
       "  0.0058746193535625935,\n",
       "  0.005283986683934927,\n",
       "  0.007761926855891943,\n",
       "  0.006294522900134325,\n",
       "  0.012957802973687649,\n",
       "  0.02057863585650921,\n",
       "  0.015380585566163063,\n",
       "  0.011709182523190975,\n",
       "  0.010563408024609089,\n",
       "  0.007582944352179766,\n",
       "  0.006797828711569309,\n",
       "  0.008981151506304741,\n",
       "  0.008287259377539158,\n",
       "  0.00744703458622098,\n",
       "  0.006045919377356768,\n",
       "  0.00589648587629199,\n",
       "  0.008704882115125656,\n",
       "  0.008241892792284489,\n",
       "  0.008243790827691555,\n",
       "  0.008899673819541931,\n",
       "  0.008667025715112686,\n",
       "  0.01040887925773859,\n",
       "  0.009644703939557076,\n",
       "  0.008630829863250256,\n",
       "  0.004838360007852316,\n",
       "  0.005738015752285719,\n",
       "  0.005488893948495388,\n",
       "  0.004947348032146692,\n",
       "  0.009437162429094315,\n",
       "  0.00677512725815177,\n",
       "  0.005555889569222927,\n",
       "  0.006756575778126717,\n",
       "  0.006702739279717207,\n",
       "  0.0054022641852498055,\n",
       "  0.006214611232280731,\n",
       "  0.027311308309435844,\n",
       "  0.019134722650051117,\n",
       "  0.035827357321977615,\n",
       "  0.01264276448637247,\n",
       "  0.008429245091974735,\n",
       "  0.007209861185401678,\n",
       "  0.005784356035292149,\n",
       "  0.005351195577532053,\n",
       "  0.00413904432207346,\n",
       "  0.0038233327213674784,\n",
       "  0.006144117098301649,\n",
       "  0.005903479643166065,\n",
       "  0.006602489855140448,\n",
       "  0.005326217506080866,\n",
       "  0.002630685456097126,\n",
       "  0.00290625705383718,\n",
       "  0.004215256776660681,\n",
       "  0.006044499576091766,\n",
       "  0.004943527281284332,\n",
       "  0.005418027751147747,\n",
       "  0.005880501586943865,\n",
       "  0.005704112350940704,\n",
       "  0.0052551631815731525,\n",
       "  0.00599245261400938,\n",
       "  0.004361468832939863,\n",
       "  0.0025611482560634613,\n",
       "  0.003333239583298564,\n",
       "  0.00493871932849288,\n",
       "  0.005989894270896912,\n",
       "  0.005996992811560631,\n",
       "  0.004918534774333239,\n",
       "  0.003977839834988117,\n",
       "  0.003023766679689288,\n",
       "  0.005593449342995882,\n",
       "  0.003369850805029273,\n",
       "  0.0036345012485980988,\n",
       "  0.005347446538507938,\n",
       "  0.004898829385638237,\n",
       "  0.00790813285857439,\n",
       "  0.004394675604999065,\n",
       "  0.0030407304875552654,\n",
       "  0.003926063887774944,\n",
       "  0.00613722950220108,\n",
       "  0.0062073152512311935,\n",
       "  0.006509601604193449,\n",
       "  0.0037459135055541992,\n",
       "  0.0064964029006659985,\n",
       "  0.0034856488928198814,\n",
       "  0.0043914904817938805,\n",
       "  0.005952146369963884,\n",
       "  0.003992325160652399,\n",
       "  0.0034312200732529163,\n",
       "  0.004934479016810656,\n",
       "  0.002344111679121852,\n",
       "  0.006013871636241674,\n",
       "  0.003774554468691349,\n",
       "  0.005431711208075285,\n",
       "  0.0041014933958649635,\n",
       "  0.0030616899020969868,\n",
       "  0.004999280441552401,\n",
       "  0.008536587469279766,\n",
       "  0.0060218991711735725,\n",
       "  0.0036110698711127043,\n",
       "  0.004200274124741554,\n",
       "  0.005644393619149923,\n",
       "  0.008312046527862549,\n",
       "  0.004660787060856819,\n",
       "  0.003909156657755375,\n",
       "  0.003258189419284463,\n",
       "  0.00483764847740531,\n",
       "  0.0055224052630364895,\n",
       "  0.0036071196664124727,\n",
       "  0.0038519836962223053,\n",
       "  0.00361803499981761,\n",
       "  0.0029103299602866173,\n",
       "  0.0044309585355222225,\n",
       "  0.0022540264762938023,\n",
       "  0.0042667081579566,\n",
       "  0.004673920571804047,\n",
       "  0.003639739705249667,\n",
       "  0.0026877708733081818,\n",
       "  0.003396201878786087,\n",
       "  0.0029335995204746723,\n",
       "  0.0022819952573627234,\n",
       "  0.0038632957730442286,\n",
       "  0.0019586964044719934,\n",
       "  0.003106498159468174],\n",
       " 'accuracy': [0.4906249940395355,\n",
       "  0.6333333253860474,\n",
       "  0.7552083134651184,\n",
       "  0.8020833134651184,\n",
       "  0.8239583373069763,\n",
       "  0.8588541746139526,\n",
       "  0.8536458611488342,\n",
       "  0.8817708492279053,\n",
       "  0.8958333134651184,\n",
       "  0.909375011920929,\n",
       "  0.8989583253860474,\n",
       "  0.9291666746139526,\n",
       "  0.9151041507720947,\n",
       "  0.9182291626930237,\n",
       "  0.9281250238418579,\n",
       "  0.9427083134651184,\n",
       "  0.9437500238418579,\n",
       "  0.956250011920929,\n",
       "  0.9416666626930237,\n",
       "  0.9510416388511658,\n",
       "  0.9505208134651184,\n",
       "  0.9427083134651184,\n",
       "  0.9635416865348816,\n",
       "  0.9703124761581421,\n",
       "  0.9692708253860474,\n",
       "  0.9692708253860474,\n",
       "  0.9619791507720947,\n",
       "  0.9671875238418579,\n",
       "  0.964062511920929,\n",
       "  0.9723958373069763,\n",
       "  0.9739583134651184,\n",
       "  0.9635416865348816,\n",
       "  0.9692708253860474,\n",
       "  0.9630208611488342,\n",
       "  0.9770833253860474,\n",
       "  0.9791666865348816,\n",
       "  0.971875011920929,\n",
       "  0.9744791388511658,\n",
       "  0.971875011920929,\n",
       "  0.9869791865348816,\n",
       "  0.984375,\n",
       "  0.984375,\n",
       "  0.9781249761581421,\n",
       "  0.9822916388511658,\n",
       "  0.9791666865348816,\n",
       "  0.9807291626930237,\n",
       "  0.9833333492279053,\n",
       "  0.9822916388511658,\n",
       "  0.9776041507720947,\n",
       "  0.9817708134651184,\n",
       "  0.9864583611488342,\n",
       "  0.9786458611488342,\n",
       "  0.9760416746139526,\n",
       "  0.9802083373069763,\n",
       "  0.981249988079071,\n",
       "  0.981249988079071,\n",
       "  0.9906250238418579,\n",
       "  0.9859374761581421,\n",
       "  0.9848958253860474,\n",
       "  0.9869791865348816,\n",
       "  0.9942708611488342,\n",
       "  0.984375,\n",
       "  0.981249988079071,\n",
       "  0.9848958253860474,\n",
       "  0.9791666865348816,\n",
       "  0.9864583611488342,\n",
       "  0.9854166507720947,\n",
       "  0.9864583611488342,\n",
       "  0.9880208373069763,\n",
       "  0.9859374761581421,\n",
       "  0.9895833134651184,\n",
       "  0.9854166507720947,\n",
       "  0.9906250238418579,\n",
       "  0.9921875,\n",
       "  0.9869791865348816,\n",
       "  0.9885416626930237,\n",
       "  0.9947916865348816,\n",
       "  0.989062488079071,\n",
       "  0.9927083253860474,\n",
       "  0.9947916865348816,\n",
       "  0.9906250238418579,\n",
       "  0.9958333373069763,\n",
       "  0.9791666865348816,\n",
       "  0.9692708253860474,\n",
       "  0.9807291626930237,\n",
       "  0.9822916388511658,\n",
       "  0.9848958253860474,\n",
       "  0.9911458492279053,\n",
       "  0.9911458492279053,\n",
       "  0.9885416626930237,\n",
       "  0.9895833134651184,\n",
       "  0.9906250238418579,\n",
       "  0.9927083253860474,\n",
       "  0.9937499761581421,\n",
       "  0.9895833134651184,\n",
       "  0.9901041388511658,\n",
       "  0.989062488079071,\n",
       "  0.9880208373069763,\n",
       "  0.9895833134651184,\n",
       "  0.9838541746139526,\n",
       "  0.9864583611488342,\n",
       "  0.989062488079071,\n",
       "  0.9932291507720947,\n",
       "  0.995312511920929,\n",
       "  0.9942708611488342,\n",
       "  0.9958333373069763,\n",
       "  0.9859374761581421,\n",
       "  0.9937499761581421,\n",
       "  0.9932291507720947,\n",
       "  0.9937499761581421,\n",
       "  0.9906250238418579,\n",
       "  0.9927083253860474,\n",
       "  0.9927083253860474,\n",
       "  0.9630208611488342,\n",
       "  0.9760416746139526,\n",
       "  0.9447916746139526,\n",
       "  0.9791666865348816,\n",
       "  0.9895833134651184,\n",
       "  0.9911458492279053,\n",
       "  0.9937499761581421,\n",
       "  0.9942708611488342,\n",
       "  0.9963541626930237,\n",
       "  0.9958333373069763,\n",
       "  0.9932291507720947,\n",
       "  0.9942708611488342,\n",
       "  0.9906250238418579,\n",
       "  0.9927083253860474,\n",
       "  0.996874988079071,\n",
       "  0.9984375238418579,\n",
       "  0.9942708611488342,\n",
       "  0.9937499761581421,\n",
       "  0.9947916865348816,\n",
       "  0.995312511920929,\n",
       "  0.9927083253860474,\n",
       "  0.9921875,\n",
       "  0.9937499761581421,\n",
       "  0.9942708611488342,\n",
       "  0.995312511920929,\n",
       "  0.9984375238418579,\n",
       "  0.9958333373069763,\n",
       "  0.9942708611488342,\n",
       "  0.9947916865348816,\n",
       "  0.9916666746139526,\n",
       "  0.9947916865348816,\n",
       "  0.996874988079071,\n",
       "  0.996874988079071,\n",
       "  0.9942708611488342,\n",
       "  0.9963541626930237,\n",
       "  0.9973958134651184,\n",
       "  0.9947916865348816,\n",
       "  0.9958333373069763,\n",
       "  0.9864583611488342,\n",
       "  0.9942708611488342,\n",
       "  0.9973958134651184,\n",
       "  0.9963541626930237,\n",
       "  0.9906250238418579,\n",
       "  0.9916666746139526,\n",
       "  0.9906250238418579,\n",
       "  0.996874988079071,\n",
       "  0.9932291507720947,\n",
       "  0.9958333373069763,\n",
       "  0.9947916865348816,\n",
       "  0.9932291507720947,\n",
       "  0.9973958134651184,\n",
       "  0.9973958134651184,\n",
       "  0.9932291507720947,\n",
       "  0.9989583492279053,\n",
       "  0.9927083253860474,\n",
       "  0.9963541626930237,\n",
       "  0.9942708611488342,\n",
       "  0.996874988079071,\n",
       "  0.9984375238418579,\n",
       "  0.9927083253860474,\n",
       "  0.9895833134651184,\n",
       "  0.9932291507720947,\n",
       "  0.9942708611488342,\n",
       "  0.9932291507720947,\n",
       "  0.9937499761581421,\n",
       "  0.9906250238418579,\n",
       "  0.9947916865348816,\n",
       "  0.9937499761581421,\n",
       "  0.9973958134651184,\n",
       "  0.9911458492279053,\n",
       "  0.9942708611488342,\n",
       "  0.9958333373069763,\n",
       "  0.9958333373069763,\n",
       "  0.996874988079071,\n",
       "  0.9979166388511658,\n",
       "  0.9963541626930237,\n",
       "  0.9984375238418579,\n",
       "  0.9947916865348816,\n",
       "  0.9942708611488342,\n",
       "  0.9958333373069763,\n",
       "  0.996874988079071,\n",
       "  0.9979166388511658,\n",
       "  0.996874988079071,\n",
       "  0.9989583492279053,\n",
       "  0.9947916865348816,\n",
       "  0.9984375238418579,\n",
       "  0.996874988079071],\n",
       " 'val_loss': [1.0635287761688232,\n",
       "  0.5268820524215698,\n",
       "  0.4468157887458801,\n",
       "  0.41624683141708374,\n",
       "  0.45974981784820557,\n",
       "  0.8011007905006409,\n",
       "  0.3881780803203583,\n",
       "  0.1900910884141922,\n",
       "  0.20004577934741974,\n",
       "  0.2996186316013336,\n",
       "  0.24262022972106934,\n",
       "  0.13837556540966034,\n",
       "  2.5283844470977783,\n",
       "  0.3091336488723755,\n",
       "  0.18784983456134796,\n",
       "  0.2560562491416931,\n",
       "  0.8255327343940735,\n",
       "  0.24603739380836487,\n",
       "  0.459624707698822,\n",
       "  1.036150336265564,\n",
       "  0.5816170573234558,\n",
       "  0.24678006768226624,\n",
       "  0.3958434760570526,\n",
       "  0.7683538794517517,\n",
       "  0.45595425367355347,\n",
       "  0.17870019376277924,\n",
       "  0.0950123742222786,\n",
       "  0.45824819803237915,\n",
       "  0.16835269331932068,\n",
       "  0.14179204404354095,\n",
       "  0.3712482154369354,\n",
       "  0.18533822894096375,\n",
       "  0.07237021625041962,\n",
       "  0.24454064667224884,\n",
       "  0.1391042172908783,\n",
       "  0.15939901769161224,\n",
       "  0.8390169739723206,\n",
       "  0.5323947072029114,\n",
       "  0.5699739456176758,\n",
       "  0.33840641379356384,\n",
       "  0.2562887668609619,\n",
       "  0.13521906733512878,\n",
       "  0.11868997663259506,\n",
       "  0.13846224546432495,\n",
       "  0.6032125353813171,\n",
       "  0.07089577615261078,\n",
       "  0.30671828985214233,\n",
       "  0.3219992220401764,\n",
       "  0.4093564450740814,\n",
       "  0.5431878566741943,\n",
       "  0.1185208410024643,\n",
       "  0.16058506071567535,\n",
       "  0.3672133684158325,\n",
       "  0.24831382930278778,\n",
       "  0.48136064410209656,\n",
       "  0.34544217586517334,\n",
       "  0.19343985617160797,\n",
       "  0.09205641597509384,\n",
       "  0.2286442220211029,\n",
       "  0.034605465829372406,\n",
       "  0.06089526787400246,\n",
       "  0.23091110587120056,\n",
       "  0.3413168489933014,\n",
       "  1.1017165184020996,\n",
       "  0.2542104423046112,\n",
       "  0.17048367857933044,\n",
       "  0.08869245648384094,\n",
       "  0.24080350995063782,\n",
       "  0.2711057662963867,\n",
       "  0.4033830463886261,\n",
       "  0.8911013007164001,\n",
       "  0.31541675329208374,\n",
       "  0.10783567279577255,\n",
       "  0.35750439763069153,\n",
       "  0.1768249124288559,\n",
       "  0.14989414811134338,\n",
       "  0.19311410188674927,\n",
       "  0.626690149307251,\n",
       "  0.19623413681983948,\n",
       "  0.05241640284657478,\n",
       "  0.17359834909439087,\n",
       "  0.13822701573371887,\n",
       "  0.6261907815933228,\n",
       "  1.0716071128845215,\n",
       "  0.12075212597846985,\n",
       "  0.9275140166282654,\n",
       "  0.2494165152311325,\n",
       "  0.12354399263858795,\n",
       "  0.15372492372989655,\n",
       "  0.6209877133369446,\n",
       "  0.15907201170921326,\n",
       "  0.7202025055885315,\n",
       "  0.35880139470100403,\n",
       "  0.9797896146774292,\n",
       "  0.5162201523780823,\n",
       "  0.08705684542655945,\n",
       "  0.3840610682964325,\n",
       "  0.5746279954910278,\n",
       "  0.3277432322502136,\n",
       "  0.34562450647354126,\n",
       "  0.4931499660015106,\n",
       "  0.2188878357410431,\n",
       "  0.08559716492891312,\n",
       "  0.13644643127918243,\n",
       "  0.18591263890266418,\n",
       "  0.07062499970197678,\n",
       "  0.09218461066484451,\n",
       "  0.1070423275232315,\n",
       "  0.26520541310310364,\n",
       "  0.27257904410362244,\n",
       "  0.27928560972213745,\n",
       "  0.37501806020736694,\n",
       "  0.39298397302627563,\n",
       "  0.886957585811615,\n",
       "  0.930741012096405,\n",
       "  0.36039310693740845,\n",
       "  0.04371386393904686,\n",
       "  0.10252834111452103,\n",
       "  0.039344463497400284,\n",
       "  0.2224522978067398,\n",
       "  0.16472168266773224,\n",
       "  0.06521671265363693,\n",
       "  0.1385679543018341,\n",
       "  0.21659429371356964,\n",
       "  0.16009370982646942,\n",
       "  0.16098426282405853,\n",
       "  0.045130953192710876,\n",
       "  0.24475866556167603,\n",
       "  0.09668897092342377,\n",
       "  0.10333136469125748,\n",
       "  0.38496360182762146,\n",
       "  0.069768987596035,\n",
       "  0.2565523386001587,\n",
       "  0.20188648998737335,\n",
       "  0.11374033987522125,\n",
       "  0.10970524698495865,\n",
       "  0.13727308809757233,\n",
       "  0.23236779868602753,\n",
       "  0.06339631974697113,\n",
       "  0.10099605470895767,\n",
       "  0.1733238846063614,\n",
       "  0.3970186412334442,\n",
       "  0.3197864890098572,\n",
       "  0.18111373484134674,\n",
       "  0.20706208050251007,\n",
       "  0.14471806585788727,\n",
       "  0.11771261692047119,\n",
       "  0.09459615498781204,\n",
       "  0.40293318033218384,\n",
       "  0.1412130892276764,\n",
       "  0.17327944934368134,\n",
       "  0.10370852053165436,\n",
       "  1.4508709907531738,\n",
       "  0.021830234676599503,\n",
       "  0.15587158501148224,\n",
       "  0.812863290309906,\n",
       "  0.21419672667980194,\n",
       "  0.8299452662467957,\n",
       "  0.124008409678936,\n",
       "  0.1698591709136963,\n",
       "  0.026575198397040367,\n",
       "  0.11258593201637268,\n",
       "  0.36717116832733154,\n",
       "  0.034302033483982086,\n",
       "  0.4730641543865204,\n",
       "  1.1564027070999146,\n",
       "  0.12787459790706635,\n",
       "  0.5116179585456848,\n",
       "  0.025542844086885452,\n",
       "  0.1283716857433319,\n",
       "  0.04498527571558952,\n",
       "  0.22767327725887299,\n",
       "  0.6951425671577454,\n",
       "  0.38308537006378174,\n",
       "  0.25071200728416443,\n",
       "  0.18710191547870636,\n",
       "  0.23840685188770294,\n",
       "  0.02616625651717186,\n",
       "  0.047014374285936356,\n",
       "  0.19072842597961426,\n",
       "  0.4363875091075897,\n",
       "  0.3715275526046753,\n",
       "  0.24760039150714874,\n",
       "  0.6634461879730225,\n",
       "  0.09208650887012482,\n",
       "  0.25758224725723267,\n",
       "  0.09280440211296082,\n",
       "  0.07765455543994904,\n",
       "  0.2813042998313904,\n",
       "  0.5164564251899719,\n",
       "  0.05290211737155914,\n",
       "  0.05335451662540436,\n",
       "  0.4033246338367462,\n",
       "  0.1770150065422058,\n",
       "  0.46090802550315857,\n",
       "  0.06345853954553604,\n",
       "  0.07725115865468979,\n",
       "  0.47375503182411194,\n",
       "  0.42003291845321655,\n",
       "  0.47509726881980896],\n",
       " 'val_accuracy': [0.05833333358168602,\n",
       "  0.05833333358168602,\n",
       "  0.05833333358168602,\n",
       "  0.2083333283662796,\n",
       "  0.21666666865348816,\n",
       "  0.09166666865348816,\n",
       "  0.36250001192092896,\n",
       "  0.625,\n",
       "  0.5916666388511658,\n",
       "  0.48750001192092896,\n",
       "  0.6333333253860474,\n",
       "  0.7541666626930237,\n",
       "  0.24583333730697632,\n",
       "  0.6041666865348816,\n",
       "  0.800000011920929,\n",
       "  0.5791666507720947,\n",
       "  0.3791666626930237,\n",
       "  0.6791666746139526,\n",
       "  0.5666666626930237,\n",
       "  0.32499998807907104,\n",
       "  0.5416666865348816,\n",
       "  0.7416666746139526,\n",
       "  0.5375000238418579,\n",
       "  0.3916666805744171,\n",
       "  0.5041666626930237,\n",
       "  0.7583333253860474,\n",
       "  0.8500000238418579,\n",
       "  0.48750001192092896,\n",
       "  0.7749999761581421,\n",
       "  0.7916666865348816,\n",
       "  0.6541666388511658,\n",
       "  0.7541666626930237,\n",
       "  0.8708333373069763,\n",
       "  0.6291666626930237,\n",
       "  0.7833333611488342,\n",
       "  0.7708333134651184,\n",
       "  0.38333332538604736,\n",
       "  0.512499988079071,\n",
       "  0.48750001192092896,\n",
       "  0.6541666388511658,\n",
       "  0.6958333253860474,\n",
       "  0.8125,\n",
       "  0.8291666507720947,\n",
       "  0.8083333373069763,\n",
       "  0.47083333134651184,\n",
       "  0.8833333253860474,\n",
       "  0.6916666626930237,\n",
       "  0.625,\n",
       "  0.5874999761581421,\n",
       "  0.5416666865348816,\n",
       "  0.7875000238418579,\n",
       "  0.7541666626930237,\n",
       "  0.625,\n",
       "  0.7166666388511658,\n",
       "  0.5833333134651184,\n",
       "  0.6499999761581421,\n",
       "  0.7708333134651184,\n",
       "  0.8708333373069763,\n",
       "  0.7208333611488342,\n",
       "  0.9291666746139526,\n",
       "  0.8916666507720947,\n",
       "  0.7458333373069763,\n",
       "  0.6541666388511658,\n",
       "  0.42500001192092896,\n",
       "  0.6833333373069763,\n",
       "  0.800000011920929,\n",
       "  0.8791666626930237,\n",
       "  0.7208333611488342,\n",
       "  0.6791666746139526,\n",
       "  0.6625000238418579,\n",
       "  0.32499998807907104,\n",
       "  0.7333333492279053,\n",
       "  0.8833333253860474,\n",
       "  0.6583333611488342,\n",
       "  0.8374999761581421,\n",
       "  0.8125,\n",
       "  0.8125,\n",
       "  0.4583333432674408,\n",
       "  0.737500011920929,\n",
       "  0.9416666626930237,\n",
       "  0.7791666388511658,\n",
       "  0.8666666746139526,\n",
       "  0.5416666865348816,\n",
       "  0.3375000059604645,\n",
       "  0.8541666865348816,\n",
       "  0.5249999761581421,\n",
       "  0.7333333492279053,\n",
       "  0.8666666746139526,\n",
       "  0.7916666865348816,\n",
       "  0.5583333373069763,\n",
       "  0.8125,\n",
       "  0.574999988079071,\n",
       "  0.6708333492279053,\n",
       "  0.48750001192092896,\n",
       "  0.6291666626930237,\n",
       "  0.887499988079071,\n",
       "  0.699999988079071,\n",
       "  0.5375000238418579,\n",
       "  0.6833333373069763,\n",
       "  0.5416666865348816,\n",
       "  0.5916666388511658,\n",
       "  0.7833333611488342,\n",
       "  0.887499988079071,\n",
       "  0.824999988079071,\n",
       "  0.800000011920929,\n",
       "  0.8916666507720947,\n",
       "  0.8833333253860474,\n",
       "  0.8791666626930237,\n",
       "  0.7124999761581421,\n",
       "  0.7583333253860474,\n",
       "  0.75,\n",
       "  0.6583333611488342,\n",
       "  0.6499999761581421,\n",
       "  0.44583332538604736,\n",
       "  0.4541666805744171,\n",
       "  0.6833333373069763,\n",
       "  0.9291666746139526,\n",
       "  0.875,\n",
       "  0.9541666507720947,\n",
       "  0.7916666865348816,\n",
       "  0.8333333134651184,\n",
       "  0.9083333611488342,\n",
       "  0.8416666388511658,\n",
       "  0.762499988079071,\n",
       "  0.8374999761581421,\n",
       "  0.8166666626930237,\n",
       "  0.9333333373069763,\n",
       "  0.7541666626930237,\n",
       "  0.9041666388511658,\n",
       "  0.875,\n",
       "  0.6583333611488342,\n",
       "  0.8958333134651184,\n",
       "  0.6916666626930237,\n",
       "  0.7749999761581421,\n",
       "  0.8541666865348816,\n",
       "  0.8916666507720947,\n",
       "  0.8166666626930237,\n",
       "  0.762499988079071,\n",
       "  0.9458333253860474,\n",
       "  0.875,\n",
       "  0.7791666388511658,\n",
       "  0.6666666865348816,\n",
       "  0.7250000238418579,\n",
       "  0.7958333492279053,\n",
       "  0.7583333253860474,\n",
       "  0.8125,\n",
       "  0.8666666746139526,\n",
       "  0.9083333611488342,\n",
       "  0.7083333134651184,\n",
       "  0.8500000238418579,\n",
       "  0.8291666507720947,\n",
       "  0.8791666626930237,\n",
       "  0.3583333194255829,\n",
       "  0.9708333611488342,\n",
       "  0.8333333134651184,\n",
       "  0.5833333134651184,\n",
       "  0.7875000238418579,\n",
       "  0.512499988079071,\n",
       "  0.824999988079071,\n",
       "  0.8500000238418579,\n",
       "  0.9666666388511658,\n",
       "  0.8791666626930237,\n",
       "  0.625,\n",
       "  0.949999988079071,\n",
       "  0.675000011920929,\n",
       "  0.4625000059604645,\n",
       "  0.8333333134651184,\n",
       "  0.637499988079071,\n",
       "  0.9583333134651184,\n",
       "  0.8916666507720947,\n",
       "  0.9333333373069763,\n",
       "  0.800000011920929,\n",
       "  0.5666666626930237,\n",
       "  0.6958333253860474,\n",
       "  0.7083333134651184,\n",
       "  0.8083333373069763,\n",
       "  0.7833333611488342,\n",
       "  0.9541666507720947,\n",
       "  0.925000011920929,\n",
       "  0.7666666507720947,\n",
       "  0.7124999761581421,\n",
       "  0.699999988079071,\n",
       "  0.7666666507720947,\n",
       "  0.6291666626930237,\n",
       "  0.8999999761581421,\n",
       "  0.7916666865348816,\n",
       "  0.8999999761581421,\n",
       "  0.9083333611488342,\n",
       "  0.7541666626930237,\n",
       "  0.6583333611488342,\n",
       "  0.9375,\n",
       "  0.9333333373069763,\n",
       "  0.6875,\n",
       "  0.8166666626930237,\n",
       "  0.5916666388511658,\n",
       "  0.9291666746139526,\n",
       "  0.9041666388511658,\n",
       "  0.7250000238418579,\n",
       "  0.6458333134651184,\n",
       "  0.6708333492279053]}"
      ]
     },
     "execution_count": 29,
     "metadata": {},
     "output_type": "execute_result"
    }
   ],
   "source": [
    "history.history"
   ]
  },
  {
   "cell_type": "code",
   "execution_count": 30,
   "id": "c4b06c82",
   "metadata": {
    "execution": {
     "iopub.execute_input": "2022-04-25T05:22:33.938239Z",
     "iopub.status.busy": "2022-04-25T05:22:33.937177Z",
     "iopub.status.idle": "2022-04-25T05:22:34.445244Z",
     "shell.execute_reply": "2022-04-25T05:22:34.445870Z",
     "shell.execute_reply.started": "2022-04-25T03:44:22.918522Z"
    },
    "papermill": {
     "duration": 4.652316,
     "end_time": "2022-04-25T05:22:34.446081",
     "exception": false,
     "start_time": "2022-04-25T05:22:29.793765",
     "status": "completed"
    },
    "tags": []
   },
   "outputs": [
    {
     "data": {
      "image/png": "[encoded data removed]",
      "text/plain": [
       "<Figure size 432x288 with 1 Axes>"
      ]
     },
     "metadata": {
      "needs_background": "light"
     },
     "output_type": "display_data"
    },
    {
     "data": {
      "image/png": "[encoded data removed]",
      "text/plain": [
       "<Figure size 432x288 with 1 Axes>"
      ]
     },
     "metadata": {
      "needs_background": "light"
     },
     "output_type": "display_data"
    }
   ],
   "source": [
    "acc = history.history['accuracy']\n",
    "val_acc = history.history['val_accuracy']\n",
    "loss = history.history['loss']\n",
    "val_loss = history.history['val_loss']\n",
    "epochs = range(1, len(acc) + 1)\n",
    "#Train and validation accuracy\n",
    "plt.plot(epochs, acc, 'b', label='Training accurarcy')\n",
    "plt.plot(epochs, val_acc, 'r', label='Validation accurarcy')\n",
    "plt.title('Training and Validation accurarcy')\n",
    "plt.legend()\n",
    "\n",
    "plt.figure()\n",
    "#Train and validation loss\n",
    "plt.plot(epochs, loss, 'b', label='Training loss')\n",
    "plt.plot(epochs, val_loss, 'r', label='Validation loss')\n",
    "plt.title('Training and Validation loss')\n",
    "plt.legend()\n",
    "plt.show()"
   ]
  },
  {
   "cell_type": "code",
   "execution_count": 31,
   "id": "4854c68e",
   "metadata": {
    "execution": {
     "iopub.execute_input": "2022-04-25T05:22:43.038996Z",
     "iopub.status.busy": "2022-04-25T05:22:43.037654Z",
     "iopub.status.idle": "2022-04-25T05:22:43.563855Z",
     "shell.execute_reply": "2022-04-25T05:22:43.565315Z",
     "shell.execute_reply.started": "2022-04-25T03:44:22.920447Z"
    },
    "papermill": {
     "duration": 4.629281,
     "end_time": "2022-04-25T05:22:43.565543",
     "exception": false,
     "start_time": "2022-04-25T05:22:38.936262",
     "status": "completed"
    },
    "tags": []
   },
   "outputs": [
    {
     "name": "stdout",
     "output_type": "stream",
     "text": [
      "[INFO] Calculating model accuracy\n",
      "8/8 [==============================] - 0s 19ms/step - loss: 0.4746 - accuracy: 0.6167\n",
      "Test Accuracy: 61.666667461395264\n"
     ]
    }
   ],
   "source": [
    "print(\"[INFO] Calculating model accuracy\")\n",
    "scores = model.evaluate(x_test, y_test)\n",
    "print(f\"Test Accuracy: {scores[1]*100}\")"
   ]
  },
  {
   "cell_type": "code",
   "execution_count": 32,
   "id": "52196172",
   "metadata": {
    "execution": {
     "iopub.execute_input": "2022-04-25T05:22:52.908893Z",
     "iopub.status.busy": "2022-04-25T05:22:52.902568Z",
     "iopub.status.idle": "2022-04-25T05:22:54.446452Z",
     "shell.execute_reply": "2022-04-25T05:22:54.445333Z",
     "shell.execute_reply.started": "2022-04-25T03:44:22.922341Z"
    },
    "papermill": {
     "duration": 6.707835,
     "end_time": "2022-04-25T05:22:54.446666",
     "exception": false,
     "start_time": "2022-04-25T05:22:47.738831",
     "status": "completed"
    },
    "tags": []
   },
   "outputs": [],
   "source": [
    "from tensorflow.keras.models import load_model\n",
    "\n",
    "model.save('my_model.h5') "
   ]
  },
  {
   "cell_type": "code",
   "execution_count": 33,
   "id": "a5c56047",
   "metadata": {
    "execution": {
     "iopub.execute_input": "2022-04-25T05:23:03.578798Z",
     "iopub.status.busy": "2022-04-25T05:23:03.576586Z",
     "iopub.status.idle": "2022-04-25T05:23:03.579531Z",
     "shell.execute_reply": "2022-04-25T05:23:03.580096Z",
     "shell.execute_reply.started": "2022-04-25T03:44:22.924245Z"
    },
    "papermill": {
     "duration": 4.72732,
     "end_time": "2022-04-25T05:23:03.580263",
     "exception": false,
     "start_time": "2022-04-25T05:22:58.852943",
     "status": "completed"
    },
    "tags": []
   },
   "outputs": [],
   "source": [
    "#from tensorflow import keras\n",
    "#model = keras.models.load_model('/kaggle/input/my-model/my_model.h5')"
   ]
  },
  {
   "cell_type": "code",
   "execution_count": 34,
   "id": "967775fe",
   "metadata": {
    "execution": {
     "iopub.execute_input": "2022-04-25T05:23:12.788477Z",
     "iopub.status.busy": "2022-04-25T05:23:12.787208Z",
     "iopub.status.idle": "2022-04-25T05:23:13.644388Z",
     "shell.execute_reply": "2022-04-25T05:23:13.643887Z",
     "shell.execute_reply.started": "2022-04-25T03:44:22.926152Z"
    },
    "papermill": {
     "duration": 5.313,
     "end_time": "2022-04-25T05:23:13.644566",
     "exception": false,
     "start_time": "2022-04-25T05:23:08.331566",
     "status": "completed"
    },
    "tags": []
   },
   "outputs": [
    {
     "data": {
      "text/plain": [
       "array([[9.99997139e-01, 1.45568607e-16, 4.24729510e-15, ...,\n",
       "        9.10717573e-13, 1.10994560e-13, 5.25195790e-11],\n",
       "       [1.04906000e-13, 1.45211701e-18, 1.87398905e-18, ...,\n",
       "        9.97881807e-15, 6.10861798e-14, 7.77258986e-12],\n",
       "       [9.98872682e-04, 1.98152064e-10, 5.19036094e-13, ...,\n",
       "        3.40005215e-07, 3.93443500e-08, 5.46739420e-06],\n",
       "       ...,\n",
       "       [1.08933090e-30, 1.30751630e-26, 1.07913375e-26, ...,\n",
       "        2.18705219e-30, 2.65858747e-22, 3.90347240e-29],\n",
       "       [0.00000000e+00, 0.00000000e+00, 0.00000000e+00, ...,\n",
       "        1.03443419e-24, 0.00000000e+00, 1.00000000e+00],\n",
       "       [5.59024275e-17, 3.08059479e-14, 5.70114333e-20, ...,\n",
       "        3.05961528e-13, 3.84260574e-07, 9.99996305e-01]], dtype=float32)"
      ]
     },
     "execution_count": 34,
     "metadata": {},
     "output_type": "execute_result"
    }
   ],
   "source": [
    "predicted = model.predict(x_test)\n",
    "predicted"
   ]
  },
  {
   "cell_type": "code",
   "execution_count": 35,
   "id": "2adf7519",
   "metadata": {
    "execution": {
     "iopub.execute_input": "2022-04-25T05:23:22.245039Z",
     "iopub.status.busy": "2022-04-25T05:23:22.244085Z",
     "iopub.status.idle": "2022-04-25T05:23:22.247653Z",
     "shell.execute_reply": "2022-04-25T05:23:22.248203Z",
     "shell.execute_reply.started": "2022-04-25T03:44:22.928117Z"
    },
    "papermill": {
     "duration": 4.457532,
     "end_time": "2022-04-25T05:23:22.248399",
     "exception": false,
     "start_time": "2022-04-25T05:23:17.790867",
     "status": "completed"
    },
    "tags": []
   },
   "outputs": [
    {
     "data": {
      "text/plain": [
       "array([[1, 0, 0, ..., 0, 0, 0],\n",
       "       [0, 0, 0, ..., 0, 0, 0],\n",
       "       [0, 0, 0, ..., 0, 0, 0],\n",
       "       ...,\n",
       "       [0, 0, 0, ..., 0, 0, 0],\n",
       "       [0, 0, 0, ..., 0, 0, 1],\n",
       "       [0, 0, 0, ..., 0, 1, 0]])"
      ]
     },
     "execution_count": 35,
     "metadata": {},
     "output_type": "execute_result"
    }
   ],
   "source": [
    "truth = y_test\n",
    "truth"
   ]
  },
  {
   "cell_type": "code",
   "execution_count": 36,
   "id": "351f7c11",
   "metadata": {
    "execution": {
     "iopub.execute_input": "2022-04-25T05:23:31.177072Z",
     "iopub.status.busy": "2022-04-25T05:23:31.175405Z",
     "iopub.status.idle": "2022-04-25T05:23:31.179573Z",
     "shell.execute_reply": "2022-04-25T05:23:31.180152Z",
     "shell.execute_reply.started": "2022-04-25T03:44:22.930054Z"
    },
    "papermill": {
     "duration": 4.143966,
     "end_time": "2022-04-25T05:23:31.180309",
     "exception": false,
     "start_time": "2022-04-25T05:23:27.036343",
     "status": "completed"
    },
    "tags": []
   },
   "outputs": [
    {
     "data": {
      "text/plain": [
       "array([9.9999714e-01, 1.4556861e-16, 4.2472951e-15, 2.1072115e-16,\n",
       "       8.0558699e-13, 4.0729417e-17, 1.7514684e-11, 8.7082132e-13,\n",
       "       2.8799598e-06, 9.1071757e-13, 1.1099456e-13, 5.2519579e-11],\n",
       "      dtype=float32)"
      ]
     },
     "execution_count": 36,
     "metadata": {},
     "output_type": "execute_result"
    }
   ],
   "source": [
    "predicted_temp = predicted\n",
    "predicted[0]"
   ]
  },
  {
   "cell_type": "code",
   "execution_count": 37,
   "id": "3bcc4c2a",
   "metadata": {
    "execution": {
     "iopub.execute_input": "2022-04-25T05:23:39.732891Z",
     "iopub.status.busy": "2022-04-25T05:23:39.732060Z",
     "iopub.status.idle": "2022-04-25T05:23:39.735711Z",
     "shell.execute_reply": "2022-04-25T05:23:39.736295Z",
     "shell.execute_reply.started": "2022-04-25T03:44:22.932001Z"
    },
    "papermill": {
     "duration": 4.09881,
     "end_time": "2022-04-25T05:23:39.736472",
     "exception": false,
     "start_time": "2022-04-25T05:23:35.637662",
     "status": "completed"
    },
    "tags": []
   },
   "outputs": [
    {
     "data": {
      "text/plain": [
       "240"
      ]
     },
     "execution_count": 37,
     "metadata": {},
     "output_type": "execute_result"
    }
   ],
   "source": [
    "len(predicted)"
   ]
  },
  {
   "cell_type": "code",
   "execution_count": 38,
   "id": "eb37ca31",
   "metadata": {
    "execution": {
     "iopub.execute_input": "2022-04-25T05:23:48.351682Z",
     "iopub.status.busy": "2022-04-25T05:23:48.345238Z",
     "iopub.status.idle": "2022-04-25T05:23:48.357051Z",
     "shell.execute_reply": "2022-04-25T05:23:48.357503Z",
     "shell.execute_reply.started": "2022-04-25T03:44:22.933905Z"
    },
    "papermill": {
     "duration": 4.148829,
     "end_time": "2022-04-25T05:23:48.357668",
     "exception": false,
     "start_time": "2022-04-25T05:23:44.208839",
     "status": "completed"
    },
    "tags": []
   },
   "outputs": [
    {
     "data": {
      "text/plain": [
       "array([[1., 0., 0., ..., 0., 0., 0.],\n",
       "       [0., 0., 0., ..., 0., 0., 0.],\n",
       "       [0., 0., 0., ..., 0., 0., 0.],\n",
       "       ...,\n",
       "       [0., 0., 0., ..., 0., 0., 0.],\n",
       "       [0., 0., 0., ..., 0., 0., 1.],\n",
       "       [0., 0., 0., ..., 0., 0., 1.]], dtype=float32)"
      ]
     },
     "execution_count": 38,
     "metadata": {},
     "output_type": "execute_result"
    }
   ],
   "source": [
    "for i in range(0,240):\n",
    "    for j in range(0,12):\n",
    "        if(predicted[i][j] >= 0.5):\n",
    "            predicted_temp[i][j] = 1\n",
    "        else:\n",
    "            predicted_temp[i][j] = 0\n",
    "            \n",
    "predicted_temp"
   ]
  },
  {
   "cell_type": "code",
   "execution_count": 39,
   "id": "1fa813f9",
   "metadata": {
    "execution": {
     "iopub.execute_input": "2022-04-25T05:23:57.213661Z",
     "iopub.status.busy": "2022-04-25T05:23:57.212534Z",
     "iopub.status.idle": "2022-04-25T05:23:57.215390Z",
     "shell.execute_reply": "2022-04-25T05:23:57.214571Z",
     "shell.execute_reply.started": "2022-04-25T03:44:22.935871Z"
    },
    "papermill": {
     "duration": 4.67106,
     "end_time": "2022-04-25T05:23:57.215667",
     "exception": false,
     "start_time": "2022-04-25T05:23:52.544607",
     "status": "completed"
    },
    "tags": []
   },
   "outputs": [],
   "source": [
    "predictions = label_binarizer.inverse_transform(predicted_temp)"
   ]
  },
  {
   "cell_type": "code",
   "execution_count": 40,
   "id": "2f74811a",
   "metadata": {
    "execution": {
     "iopub.execute_input": "2022-04-25T05:24:06.170743Z",
     "iopub.status.busy": "2022-04-25T05:24:06.169767Z",
     "iopub.status.idle": "2022-04-25T05:24:06.172891Z",
     "shell.execute_reply": "2022-04-25T05:24:06.172337Z",
     "shell.execute_reply.started": "2022-04-25T03:44:22.937686Z"
    },
    "papermill": {
     "duration": 4.438979,
     "end_time": "2022-04-25T05:24:06.173021",
     "exception": false,
     "start_time": "2022-04-25T05:24:01.734042",
     "status": "completed"
    },
    "tags": []
   },
   "outputs": [],
   "source": [
    "truths = label_binarizer.inverse_transform(truth)"
   ]
  },
  {
   "cell_type": "code",
   "execution_count": 41,
   "id": "6aff09c1",
   "metadata": {
    "execution": {
     "iopub.execute_input": "2022-04-25T05:24:14.401318Z",
     "iopub.status.busy": "2022-04-25T05:24:14.400446Z",
     "iopub.status.idle": "2022-04-25T05:24:14.403661Z",
     "shell.execute_reply": "2022-04-25T05:24:14.404162Z",
     "shell.execute_reply.started": "2022-04-25T03:44:22.939358Z"
    },
    "papermill": {
     "duration": 4.08941,
     "end_time": "2022-04-25T05:24:14.404323",
     "exception": false,
     "start_time": "2022-04-25T05:24:10.314913",
     "status": "completed"
    },
    "tags": []
   },
   "outputs": [
    {
     "data": {
      "text/plain": [
       "(240,)"
      ]
     },
     "execution_count": 41,
     "metadata": {},
     "output_type": "execute_result"
    }
   ],
   "source": [
    "predictions.shape"
   ]
  },
  {
   "cell_type": "code",
   "execution_count": 42,
   "id": "64278a31",
   "metadata": {
    "execution": {
     "iopub.execute_input": "2022-04-25T05:24:23.016957Z",
     "iopub.status.busy": "2022-04-25T05:24:23.016020Z",
     "iopub.status.idle": "2022-04-25T05:24:23.019630Z",
     "shell.execute_reply": "2022-04-25T05:24:23.020221Z",
     "shell.execute_reply.started": "2022-04-25T03:44:22.942207Z"
    },
    "papermill": {
     "duration": 4.160077,
     "end_time": "2022-04-25T05:24:23.020395",
     "exception": false,
     "start_time": "2022-04-25T05:24:18.860318",
     "status": "completed"
    },
    "tags": []
   },
   "outputs": [
    {
     "data": {
      "text/plain": [
       "(240,)"
      ]
     },
     "execution_count": 42,
     "metadata": {},
     "output_type": "execute_result"
    }
   ],
   "source": [
    "truths.shape"
   ]
  },
  {
   "cell_type": "code",
   "execution_count": 43,
   "id": "5fcf5ecf",
   "metadata": {
    "execution": {
     "iopub.execute_input": "2022-04-25T05:24:32.265835Z",
     "iopub.status.busy": "2022-04-25T05:24:32.264669Z",
     "iopub.status.idle": "2022-04-25T05:24:32.267951Z",
     "shell.execute_reply": "2022-04-25T05:24:32.267433Z",
     "shell.execute_reply.started": "2022-04-25T03:44:22.944833Z"
    },
    "papermill": {
     "duration": 4.776915,
     "end_time": "2022-04-25T05:24:32.268085",
     "exception": false,
     "start_time": "2022-04-25T05:24:27.491170",
     "status": "completed"
    },
    "tags": []
   },
   "outputs": [],
   "source": [
    "# Source code credit for this function: https://gist.github.com/shaypal5/94c53d765083101efc0240d776a23823\n",
    "def print_confusion_matrix(confusion_matrix, class_names, figsize = (20,20), fontsize=14):\n",
    "    \"\"\"Prints a confusion matrix, as returned by sklearn.metrics.confusion_matrix, as a heatmap.\n",
    "    \n",
    "    Arguments\n",
    "    ---------\n",
    "    confusion_matrix: numpy.ndarray\n",
    "        The numpy.ndarray object returned from a call to sklearn.metrics.confusion_matrix. \n",
    "        Similarly constructed ndarrays can also be used.\n",
    "    class_names: list\n",
    "        An ordered list of class names, in the order they index the given confusion matrix.\n",
    "    figsize: tuple\n",
    "        A 2-long tuple, the first value determining the horizontal size of the ouputted figure,\n",
    "        the second determining the vertical size. Defaults to (10,7).\n",
    "    fontsize: int\n",
    "        Font size for axes labels. Defaults to 14.\n",
    "        \n",
    "    Returns\n",
    "    -------\n",
    "    matplotlib.figure.Figure\n",
    "        The resulting confusion matrix figure\n",
    "    \"\"\"\n",
    "    df_cm = pd.DataFrame(\n",
    "        confusion_matrix, index=class_names, columns=class_names, \n",
    "    )\n",
    "    fig = plt.figure(figsize=figsize)\n",
    "    try:\n",
    "        heatmap = sns.heatmap(df_cm, annot=True, fmt=\"d\")\n",
    "    except ValueError:\n",
    "        raise ValueError(\"Confusion matrix values must be integers.\")\n",
    "    heatmap.yaxis.set_ticklabels(heatmap.yaxis.get_ticklabels(), rotation=0, ha='right', fontsize=fontsize)\n",
    "    heatmap.xaxis.set_ticklabels(heatmap.xaxis.get_ticklabels(), rotation=45, ha='right', fontsize=fontsize)\n",
    "    plt.ylabel('Truth')\n",
    "    plt.xlabel('Prediction')"
   ]
  },
  {
   "cell_type": "code",
   "execution_count": 44,
   "id": "40028ee6",
   "metadata": {
    "execution": {
     "iopub.execute_input": "2022-04-25T05:24:40.906428Z",
     "iopub.status.busy": "2022-04-25T05:24:40.905625Z",
     "iopub.status.idle": "2022-04-25T05:24:42.320930Z",
     "shell.execute_reply": "2022-04-25T05:24:42.321541Z",
     "shell.execute_reply.started": "2022-04-25T03:44:22.946824Z"
    },
    "papermill": {
     "duration": 5.885078,
     "end_time": "2022-04-25T05:24:42.321781",
     "exception": false,
     "start_time": "2022-04-25T05:24:36.436703",
     "status": "completed"
    },
    "tags": []
   },
   "outputs": [
    {
     "data": {
      "image/png": "[encoded data removed]",
      "text/plain": [
       "<Figure size 1440x1440 with 2 Axes>"
      ]
     },
     "metadata": {
      "needs_background": "light"
     },
     "output_type": "display_data"
    }
   ],
   "source": [
    "from matplotlib import pyplot as plt\n",
    "from sklearn.metrics import confusion_matrix , classification_report\n",
    "import pandas as pd\n",
    "import seaborn as sns\n",
    "\n",
    "cm = confusion_matrix(truths,predictions)\n",
    "print_confusion_matrix(cm,leaf_classs)"
   ]
  },
  {
   "cell_type": "code",
   "execution_count": 45,
   "id": "ae22bdc3",
   "metadata": {
    "execution": {
     "iopub.execute_input": "2022-04-25T05:24:50.997064Z",
     "iopub.status.busy": "2022-04-25T05:24:50.996158Z",
     "iopub.status.idle": "2022-04-25T05:24:50.999905Z",
     "shell.execute_reply": "2022-04-25T05:24:51.000409Z",
     "shell.execute_reply.started": "2022-04-25T03:44:22.948838Z"
    },
    "papermill": {
     "duration": 4.505786,
     "end_time": "2022-04-25T05:24:51.000576",
     "exception": false,
     "start_time": "2022-04-25T05:24:46.494790",
     "status": "completed"
    },
    "tags": []
   },
   "outputs": [
    {
     "data": {
      "text/plain": [
       "['Tomato___healthy',\n",
       " 'Grape___healthy',\n",
       " 'Soybean___healthy',\n",
       " 'Potato___healthy',\n",
       " 'Peach___healthy',\n",
       " 'Blueberry___healthy',\n",
       " 'Pepper,_bell___healthy',\n",
       " 'Strawberry___healthy',\n",
       " 'Apple___healthy',\n",
       " 'Cherry_(including_sour)___healthy',\n",
       " 'Raspberry___healthy',\n",
       " 'Corn_(maize)___healthy']"
      ]
     },
     "execution_count": 45,
     "metadata": {},
     "output_type": "execute_result"
    }
   ],
   "source": [
    "leaf_classs"
   ]
  },
  {
   "cell_type": "code",
   "execution_count": 46,
   "id": "708297ff",
   "metadata": {
    "execution": {
     "iopub.execute_input": "2022-04-25T05:24:59.335892Z",
     "iopub.status.busy": "2022-04-25T05:24:59.334687Z",
     "iopub.status.idle": "2022-04-25T05:24:59.345940Z",
     "shell.execute_reply": "2022-04-25T05:24:59.345418Z",
     "shell.execute_reply.started": "2022-04-25T03:44:22.950851Z"
    },
    "papermill": {
     "duration": 4.150853,
     "end_time": "2022-04-25T05:24:59.346080",
     "exception": false,
     "start_time": "2022-04-25T05:24:55.195227",
     "status": "completed"
    },
    "tags": []
   },
   "outputs": [
    {
     "name": "stdout",
     "output_type": "stream",
     "text": [
      "                                   precision    recall  f1-score   support\n",
      "\n",
      "                  Apple___healthy       0.57      0.82      0.68        28\n",
      "              Blueberry___healthy       1.00      0.35      0.52        17\n",
      "Cherry_(including_sour)___healthy       1.00      0.22      0.36        18\n",
      "           Corn_(maize)___healthy       0.95      1.00      0.98        21\n",
      "                  Grape___healthy       1.00      0.77      0.87        22\n",
      "                  Peach___healthy       1.00      0.41      0.58        22\n",
      "           Pepper,_bell___healthy       0.46      1.00      0.63        16\n",
      "                 Potato___healthy       0.67      0.21      0.32        19\n",
      "              Raspberry___healthy       0.39      1.00      0.56        21\n",
      "                Soybean___healthy       1.00      0.30      0.46        20\n",
      "             Strawberry___healthy       1.00      0.26      0.42        19\n",
      "                 Tomato___healthy       0.44      0.94      0.60        17\n",
      "\n",
      "                         accuracy                           0.62       240\n",
      "                        macro avg       0.79      0.61      0.58       240\n",
      "                     weighted avg       0.79      0.62      0.59       240\n",
      "\n"
     ]
    }
   ],
   "source": [
    "print(classification_report(truths, predictions))"
   ]
  },
  {
   "cell_type": "code",
   "execution_count": null,
   "id": "024e917d",
   "metadata": {
    "papermill": {
     "duration": 4.114903,
     "end_time": "2022-04-25T05:25:08.645339",
     "exception": false,
     "start_time": "2022-04-25T05:25:04.530436",
     "status": "completed"
    },
    "tags": []
   },
   "outputs": [],
   "source": []
  }
 ],
 "metadata": {
  "kernelspec": {
   "display_name": "Python 3",
   "language": "python",
   "name": "python3"
  },
  "language_info": {
   "codemirror_mode": {
    "name": "ipython",
    "version": 3
   },
   "file_extension": ".py",
   "mimetype": "text/x-python",
   "name": "python",
   "nbconvert_exporter": "python",
   "pygments_lexer": "ipython3",
   "version": "3.7.10"
  },
  "papermill": {
   "default_parameters": {},
   "duration": 5724.185141,
   "end_time": "2022-04-25T05:25:16.300254",
   "environment_variables": {},
   "exception": null,
   "input_path": "__notebook__.ipynb",
   "output_path": "__notebook__.ipynb",
   "parameters": {},
   "start_time": "2022-04-25T03:49:52.115113",
   "version": "2.3.3"
  }
 },
 "nbformat": 4,
 "nbformat_minor": 5
}
